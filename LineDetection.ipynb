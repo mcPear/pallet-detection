{
 "cells": [
  {
   "cell_type": "code",
   "execution_count": 1,
   "metadata": {},
   "outputs": [
    {
     "name": "stdout",
     "output_type": "stream",
     "text": [
      "4.1.1\n"
     ]
    }
   ],
   "source": [
    "import cv2\n",
    "print(cv2.__version__)\n",
    "import numpy as np"
   ]
  },
  {
   "cell_type": "code",
   "execution_count": 2,
   "metadata": {},
   "outputs": [],
   "source": [
    "img = cv2.imread('clastered_image.jpg')"
   ]
  },
  {
   "cell_type": "markdown",
   "metadata": {},
   "source": [
    "# Wyszukiwanie w oparciu o średnią"
   ]
  },
  {
   "cell_type": "markdown",
   "metadata": {},
   "source": [
    "### Wiersze z średnią wartością rgb (im wyższa wartość tym więcej czarnego w wierszu)"
   ]
  },
  {
   "cell_type": "code",
   "execution_count": 105,
   "metadata": {},
   "outputs": [
    {
     "data": {
      "image/png": "[encoded data removed]",
      "text/plain": [
       "<Figure size 432x288 with 1 Axes>"
      ]
     },
     "metadata": {
      "needs_background": "light"
     },
     "output_type": "display_data"
    }
   ],
   "source": [
    "hist = [255 - np.mean(row) for row in img]\n",
    "rows = np.arange(len(hist))\n",
    "plt.bar(rows, hist)\n",
    "plt.show()"
   ]
  },
  {
   "cell_type": "markdown",
   "metadata": {},
   "source": [
    "### Wybieramy wyłącznie wiersze z 80 percentyla (założenie że wiersze z paletą mają znacznie więcej czarnego niż te bez palety) i traktujemy je jako ważne (czarne) wiersze"
   ]
  },
  {
   "cell_type": "code",
   "execution_count": 106,
   "metadata": {},
   "outputs": [],
   "source": [
    "perc = np.percentile(hist, 80)"
   ]
  },
  {
   "cell_type": "code",
   "execution_count": 107,
   "metadata": {},
   "outputs": [
    {
     "data": {
      "image/png": "[encoded data removed]",
      "text/plain": [
       "<Figure size 432x288 with 1 Axes>"
      ]
     },
     "metadata": {
      "needs_background": "light"
     },
     "output_type": "display_data"
    }
   ],
   "source": [
    "hist_perc = [max(x - perc, 0) for x in hist]\n",
    "rows = np.arange(len(hist_perc))\n",
    "plt.bar(rows, hist_perc)\n",
    "plt.show()"
   ]
  },
  {
   "cell_type": "markdown",
   "metadata": {},
   "source": [
    "### Wybieramy tylko te wiersze które mają w swoim sądziedzwie liczbę czarnych wierszy powyżej pewnego progu\n",
    "#### parametr frame - wielkość sądziedzwa\n",
    "#### parametr threshold - próg liczby sąsiadów"
   ]
  },
  {
   "cell_type": "code",
   "execution_count": 108,
   "metadata": {},
   "outputs": [],
   "source": [
    "frame = 10\n",
    "threshold = 5\n",
    "\n",
    "def check_frame(row_id, image):\n",
    "    return np.count_nonzero(image[row_id: row_id + frame]) > threshold\n",
    "\n",
    "detection = [ row_id for row_id, value in enumerate(hist_perc) if check_frame(row_id, hist_perc) ]"
   ]
  },
  {
   "cell_type": "markdown",
   "metadata": {},
   "source": [
    "### Wykrywanie grup (granic) czarnych wierszy.\n",
    "#### parametr border_size - okresla max odległość pomiędzy czarnymi wierszami aby zaklasyfikować ich do jednej grupy"
   ]
  },
  {
   "cell_type": "code",
   "execution_count": 110,
   "metadata": {},
   "outputs": [],
   "source": [
    "border_size = 10\n",
    "def check_row(list_id, rows):\n",
    "    if list_id == len(rows) -1 :\n",
    "        return rows[list_id] - rows[list_id - 1] < border_size\n",
    "    if list_id == 0:\n",
    "        return rows[list_id + 1] - rows[list_id] < border_size\n",
    "    return rows[list_id] - rows[list_id - 1] > border_size or rows[list_id + 1] - rows[list_id] > border_size\n",
    "        \n",
    "borders = [x for x_id, x in enumerate(detection) if check_row(x_id, detection)]"
   ]
  },
  {
   "cell_type": "code",
   "execution_count": 113,
   "metadata": {},
   "outputs": [],
   "source": [
    "for line_y in borders:\n",
    "    cv2.line(img,(0,line_y), (640,line_y), (0,0,255),2) \n",
    "    cv2.imwrite('lines_detected.jpg', img)"
   ]
  },
  {
   "cell_type": "markdown",
   "metadata": {},
   "source": [
    "# Czas operacji"
   ]
  },
  {
   "cell_type": "code",
   "execution_count": 116,
   "metadata": {},
   "outputs": [
    {
     "name": "stdout",
     "output_type": "stream",
     "text": [
      "Image line detection time:  0.01 s\n"
     ]
    }
   ],
   "source": [
    "import time\n",
    "\n",
    "img = cv2.imread('clastered_image.jpg')\n",
    "\n",
    "# parameters\n",
    "percentile = 80 # percentil, with rows we accept as pallets (with more black pixel than in other rows)\n",
    "frame = 10 # we decice that row is important if it neighbours in frame are also in percentil\n",
    "threshold = 5 # threshold of neihtbours in frame in detecting important rows\n",
    "border_size = 10 # we detecting groups of important rows (mayby pallet), \n",
    "                        #this parameter is maximal space between rows\n",
    "\n",
    "\n",
    "start = time.time()\n",
    "\n",
    "hist = [255 - np.mean(row) for row in img]\n",
    "perc = np.percentile(hist, percentile)\n",
    "hist_perc = [max(x - perc, 0) for x in hist]\n",
    "\n",
    "def check_frame(row_id, image):\n",
    "    return np.count_nonzero(image[row_id: row_id + frame]) > threshold\n",
    "\n",
    "detection = [ row_id for row_id, value in enumerate(hist_perc) if check_frame(row_id, hist_perc) ]\n",
    "\n",
    "def check_row(list_id, rows):\n",
    "    if list_id == len(rows) -1 :\n",
    "        return rows[list_id] - rows[list_id - 1] < border_size\n",
    "    if list_id == 0:\n",
    "        return rows[list_id + 1] - rows[list_id] < border_size\n",
    "    return rows[list_id] - rows[list_id - 1] > border_size or rows[list_id + 1] - rows[list_id] > border_size\n",
    "        \n",
    "borders = [x for x_id, x in enumerate(detection) if check_row(x_id, detection)]\n",
    "\n",
    "end = time.time()\n",
    "\n",
    "print('Image line detection time: ', round(end - start,2), 's')\n",
    "\n",
    "for line_y in borders:\n",
    "    cv2.line(img,(0,line_y), (640,line_y), (0,0,255),2) \n",
    "    cv2.imwrite('lines_detected.jpg', img)\n"
   ]
  },
  {
   "cell_type": "code",
   "execution_count": null,
   "metadata": {},
   "outputs": [],
   "source": []
  }
 ],
 "metadata": {
  "kernelspec": {
   "display_name": "Python 3",
   "language": "python",
   "name": "python3"
  },
  "language_info": {
   "codemirror_mode": {
    "name": "ipython",
    "version": 3
   },
   "file_extension": ".py",
   "mimetype": "text/x-python",
   "name": "python",
   "nbconvert_exporter": "python",
   "pygments_lexer": "ipython3",
   "version": "3.6.9"
  }
 },
 "nbformat": 4,
 "nbformat_minor": 2
}
