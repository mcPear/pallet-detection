{
 "cells": [
  {
   "cell_type": "code",
   "execution_count": 2,
   "metadata": {},
   "outputs": [
    {
     "name": "stdout",
     "output_type": "stream",
     "text": [
      "4.1.1\n"
     ]
    }
   ],
   "source": [
    "import cv2\n",
    "print(cv2.__version__)\n",
    "import numpy as np\n",
    "from sklearn.model_selection import StratifiedShuffleSplit\n",
    "from sklearn.naive_bayes import GaussianNB\n",
    "from sklearn.metrics import confusion_matrix\n",
    "from sklearn.ensemble import RandomForestClassifier\n",
    "import imutils\n",
    "import sys\n",
    "import numpy\n",
    "from os import listdir\n",
    "from os.path import isfile, join\n",
    "from tqdm import tqdm\n",
    "import pickle\n",
    "numpy.set_printoptions(threshold=sys.maxsize)"
   ]
  },
  {
   "cell_type": "markdown",
   "metadata": {},
   "source": [
    "# Extract marks from images to dictionary and save"
   ]
  },
  {
   "cell_type": "code",
   "execution_count": 1,
   "metadata": {
    "scrolled": true
   },
   "outputs": [
    {
     "ename": "NameError",
     "evalue": "name 'listdir' is not defined",
     "output_type": "error",
     "traceback": [
      "\u001b[0;31m---------------------------------------------------------------------------\u001b[0m",
      "\u001b[0;31mNameError\u001b[0m                                 Traceback (most recent call last)",
      "\u001b[0;32m<ipython-input-1-f060d7ffdd4b>\u001b[0m in \u001b[0;36m<module>\u001b[0;34m\u001b[0m\n\u001b[1;32m     20\u001b[0m     \u001b[0;32mreturn\u001b[0m \u001b[0mmarks\u001b[0m\u001b[0;34m\u001b[0m\u001b[0;34m\u001b[0m\u001b[0m\n\u001b[1;32m     21\u001b[0m \u001b[0;34m\u001b[0m\u001b[0m\n\u001b[0;32m---> 22\u001b[0;31m \u001b[0mmarks\u001b[0m \u001b[0;34m=\u001b[0m \u001b[0mget_all_marks\u001b[0m\u001b[0;34m(\u001b[0m\u001b[0;34m)\u001b[0m\u001b[0;34m\u001b[0m\u001b[0;34m\u001b[0m\u001b[0m\n\u001b[0m\u001b[1;32m     23\u001b[0m \u001b[0mnp\u001b[0m\u001b[0;34m.\u001b[0m\u001b[0msave\u001b[0m\u001b[0;34m(\u001b[0m\u001b[0mpath\u001b[0m\u001b[0;34m+\u001b[0m\u001b[0;34m\"eval/test_marks\"\u001b[0m\u001b[0;34m,\u001b[0m \u001b[0mmarks\u001b[0m\u001b[0;34m)\u001b[0m\u001b[0;34m\u001b[0m\u001b[0;34m\u001b[0m\u001b[0m\n",
      "\u001b[0;32m<ipython-input-1-f060d7ffdd4b>\u001b[0m in \u001b[0;36mget_all_marks\u001b[0;34m()\u001b[0m\n\u001b[1;32m     13\u001b[0m \u001b[0;32mdef\u001b[0m \u001b[0mget_all_marks\u001b[0m\u001b[0;34m(\u001b[0m\u001b[0;34m)\u001b[0m\u001b[0;34m:\u001b[0m\u001b[0;34m\u001b[0m\u001b[0;34m\u001b[0m\u001b[0m\n\u001b[1;32m     14\u001b[0m     \u001b[0mmarks\u001b[0m \u001b[0;34m=\u001b[0m \u001b[0mdict\u001b[0m\u001b[0;34m(\u001b[0m\u001b[0;34m)\u001b[0m\u001b[0;34m\u001b[0m\u001b[0;34m\u001b[0m\u001b[0m\n\u001b[0;32m---> 15\u001b[0;31m     \u001b[0mfilenames\u001b[0m \u001b[0;34m=\u001b[0m \u001b[0;34m[\u001b[0m\u001b[0mf\u001b[0m \u001b[0;32mfor\u001b[0m \u001b[0mf\u001b[0m \u001b[0;32min\u001b[0m \u001b[0msorted\u001b[0m\u001b[0;34m(\u001b[0m\u001b[0mlistdir\u001b[0m\u001b[0;34m(\u001b[0m\u001b[0mpath\u001b[0m\u001b[0;34m)\u001b[0m\u001b[0;34m)\u001b[0m \u001b[0;32mif\u001b[0m \u001b[0misfile\u001b[0m\u001b[0;34m(\u001b[0m\u001b[0mjoin\u001b[0m\u001b[0;34m(\u001b[0m\u001b[0mpath\u001b[0m\u001b[0;34m,\u001b[0m \u001b[0mf\u001b[0m\u001b[0;34m)\u001b[0m\u001b[0;34m)\u001b[0m\u001b[0;34m]\u001b[0m\u001b[0;34m\u001b[0m\u001b[0;34m\u001b[0m\u001b[0m\n\u001b[0m\u001b[1;32m     16\u001b[0m     \u001b[0;32mfor\u001b[0m \u001b[0mi\u001b[0m \u001b[0;32min\u001b[0m \u001b[0mtqdm\u001b[0m\u001b[0;34m(\u001b[0m\u001b[0mrange\u001b[0m\u001b[0;34m(\u001b[0m\u001b[0mlen\u001b[0m\u001b[0;34m(\u001b[0m\u001b[0mfilenames\u001b[0m\u001b[0;34m)\u001b[0m\u001b[0;34m)\u001b[0m\u001b[0;34m)\u001b[0m\u001b[0;34m:\u001b[0m\u001b[0;34m\u001b[0m\u001b[0;34m\u001b[0m\u001b[0m\n\u001b[1;32m     17\u001b[0m         \u001b[0mfilename\u001b[0m \u001b[0;34m=\u001b[0m \u001b[0mfilenames\u001b[0m\u001b[0;34m[\u001b[0m\u001b[0mi\u001b[0m\u001b[0;34m]\u001b[0m\u001b[0;34m\u001b[0m\u001b[0;34m\u001b[0m\u001b[0m\n",
      "\u001b[0;31mNameError\u001b[0m: name 'listdir' is not defined"
     ]
    }
   ],
   "source": [
    "path = \"/home/maciej/repos/pallet-recognition/data/jpeg_marked/\"\n",
    "\n",
    "def get_marks(filepath):\n",
    "    marks = []\n",
    "    img = cv2.imread(filepath)\n",
    "    validation_sum = 3*255 - 50\n",
    "    for x,y in np.ndindex(img.shape[:2]):\n",
    "        if np.sum(img[(x,y)]) > validation_sum:\n",
    "            marks.append((y,x))\n",
    "    print(marks)\n",
    "    return marks\n",
    "\n",
    "def get_all_marks():\n",
    "    marks = dict()\n",
    "    filenames = [f for f in sorted(listdir(path)) if isfile(join(path, f))]\n",
    "    for i in tqdm(range(len(filenames))):\n",
    "        filename = filenames[i]\n",
    "        print(path, filename)\n",
    "        marks[filename] = get_marks(path + filename)\n",
    "    return marks\n",
    "\n",
    "marks = get_all_marks()\n",
    "np.save(path+\"eval/test_marks\", marks)\n"
   ]
  },
  {
   "cell_type": "markdown",
   "metadata": {},
   "source": [
    "# Evaluate"
   ]
  },
  {
   "cell_type": "code",
   "execution_count": 3,
   "metadata": {},
   "outputs": [
    {
     "name": "stdout",
     "output_type": "stream",
     "text": [
      "[5.0990195135927845, 186.02419197512995]\n",
      "[188.00066489244128, 0.5]\n",
      "[6.082762530298219, 187.0240626229684]\n",
      "[187.01671048331482, 0.5]\n",
      "[190.04210059878838, 3.605551275463989]\n",
      "[201.02238681301145, 1.4142135623730951]\n",
      "[6.519202405202649, 225.5271602268782]\n",
      "[1.118033988749895]\n",
      "[2.5]\n",
      "[2.0]\n",
      "[5.70087712549569]\n",
      "[3.5]\n",
      "[188.00066489244128, 4.924428900898052]\n",
      "[7.433034373659253]\n",
      "[123.4878536537096]\n",
      "[5.385164807134504, 187.04277585621958]\n",
      "[88.31902399823042]\n",
      "[4.527692569068709]\n",
      "[4.716990566028302]\n",
      "[237.5005263152063, 2.9154759474226504]\n",
      "[207.5006024087641, 4.527692569068709]\n",
      "[2.8284271247461903, 196.04081207748553]\n",
      "[401.5526117459579, 195.5057543910153, 5.522680508593631]\n",
      "[5.5901699437494745, 207.00543471126548, 408.06892800114053]\n",
      "[216.23135757794242, 5.0990195135927845, 203.08865059377396]\n",
      "[226.6991398307457, 2.9154759474226504]\n",
      "[186.03292719301064, 2.692582403567252]\n",
      "[250.28783430282823, 3.1622776601683795]\n",
      "[3.2015621187164243]\n",
      "[4.301162633521313]\n",
      "[2.692582403567252]\n",
      "[4.716990566028302]\n",
      "[160.2817831196047]\n",
      "[184.03328503289833, 2.5]\n",
      "[120.37649272179348, 121.36927123452625]\n",
      "[82.43937166184614]\n",
      "[68.09001395212076]\n",
      "[152.7751615937617]\n",
      "[1.0]\n",
      "[229.5049019084342, 8.276472678623424]\n",
      "[186.01680031653055, 1.5]\n",
      "[98.02040603874276, 97.0051545022222]\n",
      "[305.16389039334257, 89.1403387922662, 96.02083107326243]\n",
      "[211.13325176295658, 0.5, 179.03421460715268]\n",
      "[206.5871486806476, 1.118033988749895, 176.54531996062653]\n",
      "[385.01590876222247, 172.00654057331658, 6.800735254367722]\n",
      "[169.0066566736352, 3.2015621187164243]\n",
      "[1.118033988749895, 179.5027854937076]\n",
      "[195.5102299113783, 0.5]\n",
      "[6.708203932499369, 188.0239346466295]\n",
      "[7.615773105863909, 189.04232330353963]\n",
      "[188.08043492080722, 3.3541019662496847]\n",
      "[4.0]\n",
      "[273.22701184180164]\n",
      "[1.5811388300841898]\n",
      "[2.692582403567252]\n",
      "[2.9154759474226504]\n",
      "[151.82308783580973]\n",
      "[7.0710678118654755]\n",
      "[4.527692569068709]\n",
      "[3.5355339059327378]\n",
      "[276.5863337187866]\n",
      "[2.5495097567963922]\n",
      "[2.1213203435596424]\n",
      "[2.23606797749979]\n",
      "[3.640054944640259]\n",
      "[5, 0, 6, 0, 3, 1, 6, 1, 2, 2, 5, 3, 4, 7, 123, 5, 88, 4, 4, 2, 4, 2, 5, 5, 5, 2, 2, 3, 3, 4, 2, 4, 160, 2, 120, 82, 68, 152, 1, 8, 1, 97, 89, 0, 1, 6, 3, 1, 0, 6, 7, 3, 4, 273, 1, 2, 2, 151, 7, 4, 3, 276, 2, 2, 2, 3] 28.045454545454547  well: 54  missed: 12  redundant: 19\n"
     ]
    }
   ],
   "source": [
    "def dist(a,b):\n",
    "    return np.linalg.norm(np.array(a)-np.array(b))\n",
    "    \n",
    "path = \"/home/maciej/repos/pallet-recognition/data/jpeg_marked/eval/\"\n",
    "pred = np.load(path+\"pred_centers.npy\", allow_pickle=True).item()\n",
    "test = np.load(path+\"test_marks.npy\", allow_pickle=True).item()\n",
    "filenames = test.keys()\n",
    "deviations = []\n",
    "missed_predictions = 0\n",
    "well_predictions = 0\n",
    "redundant_predictions = 0\n",
    "acceptance_thr = 15\n",
    "for filename in filenames:\n",
    "    marks = test[filename]\n",
    "    center = pred[filename][0]\n",
    "    distances = [dist(center, x) for x in marks]\n",
    "    if distances:\n",
    "        print(distances)\n",
    "        min_distance = int(np.min(distances))\n",
    "        deviations.append(min_distance)\n",
    "        if min_distance <= acceptance_thr:\n",
    "            well_predictions += 1\n",
    "        else:\n",
    "            missed_predictions += 1\n",
    "    else:\n",
    "        redundant_predictions += 1\n",
    "        \n",
    "    \n",
    "error = np.mean(deviations)\n",
    "print(deviations, error, \" well:\",well_predictions, \" missed:\", missed_predictions, \" redundant:\", redundant_predictions)"
   ]
  },
  {
   "cell_type": "code",
   "execution_count": null,
   "metadata": {},
   "outputs": [],
   "source": []
  }
 ],
 "metadata": {
  "kernelspec": {
   "display_name": "Python 3",
   "language": "python",
   "name": "python3"
  },
  "language_info": {
   "codemirror_mode": {
    "name": "ipython",
    "version": 3
   },
   "file_extension": ".py",
   "mimetype": "text/x-python",
   "name": "python",
   "nbconvert_exporter": "python",
   "pygments_lexer": "ipython3",
   "version": "3.6.9"
  }
 },
 "nbformat": 4,
 "nbformat_minor": 2
}
