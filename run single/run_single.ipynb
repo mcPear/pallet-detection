{
 "cells": [
  {
   "cell_type": "code",
   "execution_count": 1,
   "metadata": {},
   "outputs": [],
   "source": [
    "import sys\n",
    "sys.path.insert(1, '../commons')\n",
    "from detection import *\n",
    "from i_o import *"
   ]
  },
  {
   "cell_type": "markdown",
   "metadata": {},
   "source": [
    "# Set parameters"
   ]
  },
  {
   "cell_type": "code",
   "execution_count": 4,
   "metadata": {},
   "outputs": [],
   "source": [
    "MIN_MASK_WIDTH = 25\n",
    "MAX_MASK_WIDTH = 100\n",
    "MASK_WIDTH_STEP = 3\n",
    "CONF_TH = 0.28\n",
    "KERNEL=(7,7)\n",
    "DENSE_ROW_MARGIN=30\n",
    "DOUBLE_HOLES_FIT=False\n",
    "BLURRED=False\n",
    "MEDIAN_FILTER=False\n",
    "OPENING=True\n",
    "CLOSING=True"
   ]
  },
  {
   "cell_type": "markdown",
   "metadata": {},
   "source": [
    "## Run pipeline and save results"
   ]
  },
  {
   "cell_type": "code",
   "execution_count": 5,
   "metadata": {
    "scrolled": true
   },
   "outputs": [
    {
     "name": "stdout",
     "output_type": "stream",
     "text": [
      "clas_save\n",
      "saved artifacts/img_classified.jpg\n",
      "saved artifacts/img_erosion.jpg\n",
      "saved artifacts/img_dilation.jpg\n",
      "saved artifacts/img_dilation_2.jpg\n",
      "saved artifacts/img_erosion_2.jpg\n",
      "saved artifacts/img_marked.jpg\n",
      "Found pallets count: 4\n",
      "Fit: 0.31776098786601414\n",
      "Fit: 0.3664666166541635\n",
      "Fit: 0.28266143916931613\n",
      "Fit: 0.2894946923374173\n",
      "centers [(158.0, 264.5), (335.0, 258.5), (542.0, 252.5), (246.5, 264.5)]\n"
     ]
    }
   ],
   "source": [
    "model = loadBlurredNB() if BLURRED else loadNB() \n",
    "img_rbg = cv2.imread('../data/r_1_63.jpg')\n",
    "if BLURRED: img_rbg = cv2.medianBlur(img_rbg, 7)\n",
    "    \n",
    "img = classify(img_rbg, model, True).astype('float32')\n",
    "\n",
    "if MEDIAN_FILTER: img = median_filter(img, True)\n",
    "if OPENING: img = opening(img, True, KERNEL)\n",
    "if CLOSING: img = closing(img, True, KERNEL)\n",
    "    \n",
    "results = detect(img, MIN_MASK_WIDTH, MAX_MASK_WIDTH, MASK_WIDTH_STEP, CONF_TH, DENSE_ROW_MARGIN, DOUBLE_HOLES_FIT)\n",
    "draw_pallets(img_rbg, results, True)\n",
    "print(\"Found pallets count:\", len(results))\n",
    "\n",
    "centers = calculate_centers(results)\n",
    "print(\"centers\", centers)"
   ]
  }
 ],
 "metadata": {
  "kernelspec": {
   "display_name": "Python 3",
   "language": "python",
   "name": "python3"
  },
  "language_info": {
   "codemirror_mode": {
    "name": "ipython",
    "version": 3
   },
   "file_extension": ".py",
   "mimetype": "text/x-python",
   "name": "python",
   "nbconvert_exporter": "python",
   "pygments_lexer": "ipython3",
   "version": "3.6.9"
  }
 },
 "nbformat": 4,
 "nbformat_minor": 2
}
