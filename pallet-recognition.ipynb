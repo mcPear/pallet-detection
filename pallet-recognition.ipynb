{
 "cells": [
  {
   "cell_type": "code",
   "execution_count": 22,
   "metadata": {},
   "outputs": [
    {
     "name": "stdout",
     "output_type": "stream",
     "text": [
      "4.1.1\n"
     ]
    }
   ],
   "source": [
    "import cv2\n",
    "print(cv2.__version__)\n",
    "import numpy as np\n",
    "from sklearn.model_selection import StratifiedShuffleSplit\n",
    "from sklearn.naive_bayes import GaussianNB\n",
    "from sklearn.metrics import confusion_matrix\n",
    "from sklearn.ensemble import RandomForestClassifier\n",
    "import imutils"
   ]
  },
  {
   "cell_type": "code",
   "execution_count": 5,
   "metadata": {},
   "outputs": [
    {
     "name": "stdout",
     "output_type": "stream",
     "text": [
      "Collecting opencv-python\n",
      "\u001b[?25l  Downloading https://files.pythonhosted.org/packages/44/35/6db0fa2e644922533ddc2a3c41d1a86dabefce89d9db85ec31dcc69dc2e3/opencv_python-4.1.1.26-cp37-cp37m-manylinux1_x86_64.whl (28.7MB)\n",
      "\u001b[K     |████████████████████████████████| 28.7MB 1.1MB/s eta 0:00:01     |███████████████████████████▋    | 24.7MB 758kB/s eta 0:00:06     |████████████████████████████▎   | 25.4MB 758kB/s eta 0:00:05\n",
      "\u001b[?25hRequirement already satisfied: numpy>=1.14.5 in /opt/conda/lib/python3.7/site-packages (from opencv-python) (1.17.2)\n",
      "Installing collected packages: opencv-python\n",
      "Successfully installed opencv-python-4.1.1.26\n"
     ]
    }
   ],
   "source": [
    "!pip install opencv-python\n",
    "!pip install imutils"
   ]
  },
  {
   "cell_type": "markdown",
   "metadata": {},
   "source": [
    "## Read images"
   ]
  },
  {
   "cell_type": "code",
   "execution_count": 2,
   "metadata": {},
   "outputs": [],
   "source": [
    "img_full = cv2.imread('full_image.jpg')\n",
    "img_bkg = cv2.imread('background_image.jpg')\n",
    "img_pallet = cv2.imread('pallet_image.jpg')"
   ]
  },
  {
   "cell_type": "markdown",
   "metadata": {},
   "source": [
    "## Define showing and features functions"
   ]
  },
  {
   "cell_type": "code",
   "execution_count": 3,
   "metadata": {},
   "outputs": [],
   "source": [
    "def show(img):\n",
    " cv2.imshow('image',img)\n",
    " cv2.waitKey(0)\n",
    " cv2.destroyAllWindows()"
   ]
  },
  {
   "cell_type": "code",
   "execution_count": 4,
   "metadata": {},
   "outputs": [],
   "source": [
    "def bgr_to_cmyk(bgr):\n",
    "    RGB_SCALE = 255\n",
    "    CMYK_SCALE = 100\n",
    "    b = bgr[0]\n",
    "    g = bgr[1]\n",
    "    r = bgr[2]\n",
    "    if (r, g, b) == (0, 0, 0):\n",
    "        return 0, 0, 0, CMYK_SCALE\n",
    "\n",
    "    c = 1 - r / RGB_SCALE\n",
    "    m = 1 - g / RGB_SCALE\n",
    "    y = 1 - b / RGB_SCALE\n",
    "\n",
    "    min_cmy = min(c, m, y)\n",
    "    c = (c - min_cmy) / (1 - min_cmy)\n",
    "    m = (m - min_cmy) / (1 - min_cmy)\n",
    "    y = (y - min_cmy) / (1 - min_cmy)\n",
    "    k = min_cmy\n",
    "\n",
    "    return [c, m, y, k]\n",
    "\n",
    "def flatten(img):\n",
    "    return np.reshape(img, (img.shape[0]*img.shape[1],img.shape[2]))\n",
    "\n",
    "def features(bgr, channels, filter_white=True):\n",
    "    hsv = cv2.cvtColor(bgr, cv2.COLOR_BGR2HSV)\n",
    "    cmyk = np.apply_along_axis(bgr_to_cmyk, 2, bgr)\n",
    "    lab = cv2.cvtColor(bgr, cv2.COLOR_BGR2LAB)\n",
    "    \n",
    "    hsv_flat = flatten(hsv)\n",
    "    lab_flat = flatten(lab)\n",
    "    cmyk_flat = flatten(cmyk)\n",
    "    bgr_flat = flatten(bgr)\n",
    "    \n",
    "    f = np.concatenate((bgr_flat, hsv_flat, cmyk_flat, lab_flat),1)\n",
    "    f = [x for x in f if not np.sum(x[:3] == [255,255,255]) == 3] #remove white pixels\n",
    "    f = np.array(f)\n",
    "    channels_map = {'B':0, 'G':1,'R':2,'H':3,'S':4,'V':5,'C':6,'M':7,'Y':8,'K':9,'L':10,'A':11,'b':12}\n",
    "    channels = list(channels)\n",
    "    channels = [channels_map[ch] for ch in channels]\n",
    "    f = f[:,channels]\n",
    "    return np.array(f)"
   ]
  },
  {
   "cell_type": "markdown",
   "metadata": {},
   "source": [
    "## Select features (channels)"
   ]
  },
  {
   "cell_type": "code",
   "execution_count": 5,
   "metadata": {},
   "outputs": [],
   "source": [
    "channels = \"HSCMYb\""
   ]
  },
  {
   "cell_type": "markdown",
   "metadata": {},
   "source": [
    "## Create train and test dataset"
   ]
  },
  {
   "cell_type": "code",
   "execution_count": 6,
   "metadata": {},
   "outputs": [],
   "source": [
    "img_full_features = features(img_full, channels)\n",
    "img_bkg_features = features(img_bkg, channels)\n",
    "img_pallet_features = features(img_pallet, channels)"
   ]
  },
  {
   "cell_type": "code",
   "execution_count": 7,
   "metadata": {},
   "outputs": [],
   "source": [
    "X = np.concatenate((img_bkg_features, img_pallet_features))\n",
    "y = np.concatenate(([0]*len(img_bkg_features), [1]*len(img_pallet_features)))"
   ]
  },
  {
   "cell_type": "code",
   "execution_count": 8,
   "metadata": {},
   "outputs": [],
   "source": [
    "sss = StratifiedShuffleSplit(n_splits=1, test_size=0.2, random_state=0)\n",
    "sss.get_n_splits(X, y)\n",
    "      \n",
    "train_index, test_index = sss.split(X, y).__next__()\n",
    "X_train, X_test = X[train_index], X[test_index]\n",
    "y_train, y_test = y[train_index], y[test_index]"
   ]
  },
  {
   "cell_type": "markdown",
   "metadata": {},
   "source": [
    "## Gaussian Naive Bayes - train and test"
   ]
  },
  {
   "cell_type": "code",
   "execution_count": 9,
   "metadata": {},
   "outputs": [
    {
     "data": {
      "text/plain": [
       "array([[51265,  3736],\n",
       "       [ 1250,  4061]])"
      ]
     },
     "execution_count": 9,
     "metadata": {},
     "output_type": "execute_result"
    }
   ],
   "source": [
    "gnb = GaussianNB()\n",
    "gnb.fit(X_train, y_train)\n",
    "y_pred=gnb.predict(X_test)\n",
    "confusion_matrix(y_test, y_pred)"
   ]
  },
  {
   "cell_type": "markdown",
   "metadata": {},
   "source": [
    "## Random Forest - train and test"
   ]
  },
  {
   "cell_type": "code",
   "execution_count": 35,
   "metadata": {},
   "outputs": [
    {
     "name": "stdout",
     "output_type": "stream",
     "text": [
      "[0.20471821 0.09534628 0.09294752 0.05058206 0.36727653 0.1891294 ]\n"
     ]
    },
    {
     "data": {
      "text/plain": [
       "array([[53624,  1377],\n",
       "       [ 1890,  3421]])"
      ]
     },
     "execution_count": 35,
     "metadata": {},
     "output_type": "execute_result"
    }
   ],
   "source": [
    "clf = RandomForestClassifier(n_estimators=300, max_depth=10, random_state=0)\n",
    "clf.fit(X_train, y_train)\n",
    "y_pred=clf.predict(X_test)\n",
    "print(clf.feature_importances_)\n",
    "confusion_matrix(y_test, y_pred)"
   ]
  },
  {
   "cell_type": "markdown",
   "metadata": {},
   "source": [
    "## Define pipeline functions"
   ]
  },
  {
   "cell_type": "code",
   "execution_count": 58,
   "metadata": {
    "scrolled": true
   },
   "outputs": [],
   "source": [
    "def detect(img, model):\n",
    "    w,h,ch = img.shape\n",
    "    f = features(img, channels, False)\n",
    "    pred = model.predict(f)\n",
    "    img_pred = np.reshape(pred, (w,h,1))\n",
    "    return np.logical_not(img_pred)"
   ]
  },
  {
   "cell_type": "code",
   "execution_count": 59,
   "metadata": {},
   "outputs": [],
   "source": [
    "def median_filter(img):\n",
    "    kernel = np.ones((5,5),np.float32)/25\n",
    "    img = cv2.filter2D(img,-1,kernel)\n",
    "    return cv2.threshold(img,0.5,1.0,cv2.THRESH_BINARY)[1]"
   ]
  },
  {
   "cell_type": "code",
   "execution_count": 60,
   "metadata": {
    "scrolled": false
   },
   "outputs": [],
   "source": [
    "def rotate(img, angle):\n",
    "    return  imutils.rotate(img, angle)"
   ]
  },
  {
   "cell_type": "code",
   "execution_count": 62,
   "metadata": {},
   "outputs": [],
   "source": [
    "def find_most_dense(img, mask_height):\n",
    "    mask_height = mask_height\n",
    "    mask_width = int(mask_height * 5.56) #5.56 for euro-pal\n",
    "    best = (None, 0)\n",
    "    inverse_img = np.logical_not(img)\n",
    "    for index, x in np.ndenumerate(inverse_img):\n",
    "        x,y = index\n",
    "        sub_img = inverse_img[y:y+mask_height, x:x+mask_width]\n",
    "        summ = np.sum(sub_img)\n",
    "        if summ >= best[1]:\n",
    "            best = (sub_img, summ)\n",
    "    return np.logical_not(best[0])"
   ]
  },
  {
   "cell_type": "code",
   "execution_count": 69,
   "metadata": {},
   "outputs": [],
   "source": [
    "def save(img, file):\n",
    "    res = cv2.imwrite(file, img * 255)\n",
    "    print(\"saved\" if res else \"save error\", file)"
   ]
  },
  {
   "cell_type": "markdown",
   "metadata": {},
   "source": [
    "## Run pipeline"
   ]
  },
  {
   "cell_type": "code",
   "execution_count": 70,
   "metadata": {},
   "outputs": [
    {
     "name": "stdout",
     "output_type": "stream",
     "text": [
      "saved img_classified.jpg\n",
      "saved img_filtered.jpg\n",
      "saved img_rotated.jpg\n",
      "saved img_most_dense.jpg\n"
     ]
    }
   ],
   "source": [
    "img_classified = detect(img_full, gnb).astype('float32')\n",
    "save(img_classified, \"img_classified.jpg\")\n",
    "\n",
    "img_filtered = median_filter(img_classified)\n",
    "save(img_filtered, \"img_filtered.jpg\")\n",
    "\n",
    "img_rotated = rotate(img_filtered, -2)\n",
    "save(img_rotated, \"img_rotated.jpg\")\n",
    "\n",
    "img_most_dense = find_most_dense(img_rotated, 60)\n",
    "save(img_most_dense, \"img_most_dense.jpg\")"
   ]
  },
  {
   "cell_type": "markdown",
   "metadata": {},
   "source": [
    "## Notes\n",
    "Must be todo's:\n",
    "- create pallet mask\n",
    "- apply mask of different sizes  \n",
    "  \n",
    "Improvements\n",
    "- try add new channel feature"
   ]
  },
  {
   "cell_type": "code",
   "execution_count": 13,
   "metadata": {},
   "outputs": [
    {
     "ename": "NameError",
     "evalue": "name 'array' is not defined",
     "output_type": "error",
     "traceback": [
      "\u001b[0;31m---------------------------------------------------------------------------\u001b[0m",
      "\u001b[0;31mNameError\u001b[0m                                 Traceback (most recent call last)",
      "\u001b[0;32m<ipython-input-13-f130432a3ee3>\u001b[0m in \u001b[0;36m<module>\u001b[0;34m\u001b[0m\n\u001b[1;32m      1\u001b[0m \u001b[0;31m#all\u001b[0m\u001b[0;34m\u001b[0m\u001b[0;34m\u001b[0m\u001b[0;34m\u001b[0m\u001b[0m\n\u001b[0;32m----> 2\u001b[0;31m array([[53592,  1409],\n\u001b[0m\u001b[1;32m      3\u001b[0m        [ 3527,  1784]]) #5311\n\u001b[1;32m      4\u001b[0m \u001b[0;31m#HSCY\u001b[0m\u001b[0;34m\u001b[0m\u001b[0;34m\u001b[0m\u001b[0;34m\u001b[0m\u001b[0m\n\u001b[1;32m      5\u001b[0m array([[52410,  2591],\n",
      "\u001b[0;31mNameError\u001b[0m: name 'array' is not defined"
     ]
    }
   ],
   "source": [
    "#Results for channels combinations (Naive Bayes)\n",
    "#all\n",
    "array([[53592,  1409],\n",
    "       [ 3527,  1784]]) #5311\n",
    "#HSCY\n",
    "array([[52410,  2591],\n",
    "       [ 1819,  3492]])\n",
    "#HSCMY\n",
    "array([[52307,  2694],\n",
    "       [ 1742,  3569]])\n",
    "#HSMY\n",
    "array([[52845,  2156],\n",
    "       [ 2697,  2614]])\n",
    "#HCMY\n",
    "array([[53081,  1920],\n",
    "       [ 3070,  2241]])\n",
    "#SCMY\n",
    "array([[51814,  3187],\n",
    "       [ 2338,  2973]])\n",
    "#HSCMYb\n",
    "array([[51265,  3736],\n",
    "       [ 1250,  4061]])\n",
    "#RGBVK psują"
   ]
  }
 ],
 "metadata": {
  "kernelspec": {
   "display_name": "Python 3",
   "language": "python",
   "name": "python3"
  },
  "language_info": {
   "codemirror_mode": {
    "name": "ipython",
    "version": 3
   },
   "file_extension": ".py",
   "mimetype": "text/x-python",
   "name": "python",
   "nbconvert_exporter": "python",
   "pygments_lexer": "ipython3",
   "version": "3.7.3"
  }
 },
 "nbformat": 4,
 "nbformat_minor": 2
}
