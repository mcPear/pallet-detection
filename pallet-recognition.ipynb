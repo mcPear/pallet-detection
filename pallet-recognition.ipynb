{
 "cells": [
  {
   "cell_type": "code",
   "execution_count": 1,
   "metadata": {},
   "outputs": [
    {
     "name": "stdout",
     "output_type": "stream",
     "text": [
      "4.1.1\n"
     ]
    }
   ],
   "source": [
    "import cv2\n",
    "print(cv2.__version__)\n",
    "import numpy as np\n",
    "from sklearn.model_selection import StratifiedShuffleSplit\n",
    "from sklearn.naive_bayes import GaussianNB\n",
    "from sklearn.metrics import confusion_matrix\n",
    "from sklearn.ensemble import RandomForestClassifier\n",
    "import imutils\n",
    "import sys\n",
    "import numpy\n",
    "from os import listdir\n",
    "from os.path import isfile, join\n",
    "from tqdm import tqdm\n",
    "import pickle\n",
    "numpy.set_printoptions(threshold=sys.maxsize)"
   ]
  },
  {
   "cell_type": "code",
   "execution_count": 2,
   "metadata": {},
   "outputs": [],
   "source": [
    "%run commons.py"
   ]
  },
  {
   "cell_type": "markdown",
   "metadata": {},
   "source": [
    "# load Naive Bayes"
   ]
  },
  {
   "cell_type": "code",
   "execution_count": 3,
   "metadata": {},
   "outputs": [],
   "source": [
    "filename = 'naive_bayes_model.sav'\n",
    "gnb = pickle.load(open(filename, 'rb'))"
   ]
  },
  {
   "cell_type": "markdown",
   "metadata": {},
   "source": [
    "# Sector detection"
   ]
  },
  {
   "cell_type": "code",
   "execution_count": 4,
   "metadata": {},
   "outputs": [],
   "source": [
    "# parameters\n",
    "percentile = 80 # percentil, with rows we accept as pallets (with more black pixel than in other rows)\n",
    "frame = 10 # we decice that row is important if it neighbours in frame are also in percentil\n",
    "threshold = 5 # threshold of neihtbours in frame in detecting important rows\n",
    "border_size = 10 # we detecting groups of important rows (mayby pallet), \n",
    "                        #this parameter is maximal space between rows\n",
    "\n",
    "def get_pallet_sectors(img):\n",
    "    hist = [255 - np.mean(row) for row in img]\n",
    "    perc = np.percentile(hist, percentile)\n",
    "    hist_perc = [max(x - perc, 0) for x in hist]\n",
    "\n",
    "    def check_frame(row_id, image):\n",
    "        return np.count_nonzero(image[row_id: row_id + frame]) > threshold\n",
    "\n",
    "    detection = [ row_id for row_id, value in enumerate(hist_perc) if check_frame(row_id, hist_perc) ]\n",
    "\n",
    "    def check_row(list_id, rows):\n",
    "        if list_id == len(rows) -1 :\n",
    "            return rows[list_id] - rows[list_id - 1] < border_size\n",
    "        if list_id == 0:\n",
    "            return rows[list_id + 1] - rows[list_id] < border_size\n",
    "        return rows[list_id] - rows[list_id - 1] > border_size or rows[list_id + 1] - rows[list_id] > border_size\n",
    "        \n",
    "    borders = [x for x_id, x in enumerate(detection) if check_row(x_id, detection)]\n",
    "    up = borders[-2] - 4\n",
    "    bottom = borders[-1] + 4\n",
    "    return up, bottom"
   ]
  },
  {
   "cell_type": "markdown",
   "metadata": {},
   "source": [
    "## Define pipeline functions"
   ]
  },
  {
   "cell_type": "code",
   "execution_count": 5,
   "metadata": {},
   "outputs": [],
   "source": [
    "def show(img):\n",
    " cv2.imshow('image',img)\n",
    " cv2.waitKey(0)\n",
    " cv2.destroyAllWindows()"
   ]
  },
  {
   "cell_type": "code",
   "execution_count": 6,
   "metadata": {
    "scrolled": true
   },
   "outputs": [],
   "source": [
    "def detect(img, model):\n",
    "    w,h,ch = img.shape\n",
    "    f = features(img, channels, False)\n",
    "    pred = model.predict(f)\n",
    "    img_pred = np.reshape(pred, (w,h,1))\n",
    "    return np.logical_not(img_pred)"
   ]
  },
  {
   "cell_type": "code",
   "execution_count": 7,
   "metadata": {},
   "outputs": [],
   "source": [
    "def median_filter(img):\n",
    "    kernel = np.ones((5,5),np.float32)/25\n",
    "    img = cv2.filter2D(img,-1,kernel)\n",
    "    return cv2.threshold(img,0.5,1.0,cv2.THRESH_BINARY)[1]"
   ]
  },
  {
   "cell_type": "code",
   "execution_count": 8,
   "metadata": {
    "scrolled": false
   },
   "outputs": [],
   "source": [
    "def rotate(img, angle):\n",
    "    return  imutils.rotate(img, angle)"
   ]
  },
  {
   "cell_type": "code",
   "execution_count": 24,
   "metadata": {},
   "outputs": [],
   "source": [
    "def find_pallet_by_height(img, mask_height):\n",
    "    mask_height = mask_height\n",
    "    mask_width = int(mask_height * 5.556)\n",
    "    mask_size = mask_height * mask_width\n",
    "    hole_height = int(mask_height * 0.694)\n",
    "    hole_width = int(mask_height * 1.58)\n",
    "    hole_size = hole_height * hole_width\n",
    "    hole_1_x = int(mask_height * 0.694)\n",
    "    hole_1_y = int(mask_height * 0.306)\n",
    "    hole_2_x = int(mask_height * 3.281)\n",
    "    hole_2_y = hole_1_y\n",
    "    best = (None, 0, (0,0))\n",
    "    inverse_img = np.logical_not(img)\n",
    "    img_height, img_width = inverse_img.shape\n",
    "    for index, x in np.ndenumerate(inverse_img):\n",
    "        x,y = index\n",
    "        if y+mask_height < img_height and x+mask_width < img_width:\n",
    "            frame_mask = inverse_img[y:y+mask_height, x:x+mask_width]\n",
    "            hole_1_y_ = y+hole_1_y\n",
    "            hole_2_y_ = y+hole_2_y\n",
    "            hole_1_x_ = x+hole_1_x\n",
    "            hole_2_x_ = x+hole_2_x\n",
    "            hole_1_mask = inverse_img[hole_1_y_:hole_1_y_+hole_height, hole_1_x_:hole_1_x_+hole_width]\n",
    "            hole_2_mask = inverse_img[hole_2_y_:hole_2_y_+hole_height, hole_2_x_:hole_2_x_+hole_width]\n",
    "            frame_mask_perc = np.sum(frame_mask) / mask_size\n",
    "            hole_1_mask_perc = np.sum(hole_1_mask) / hole_size\n",
    "            hole_2_mask_perc = np.sum(hole_2_mask) / hole_size\n",
    "            perc = frame_mask_perc - hole_1_mask_perc - hole_2_mask_perc\n",
    "            if perc >= best[1]:\n",
    "                best = (frame_mask, perc, (x,y))\n",
    "    return best\n",
    "\n",
    "def find_pallet(img, min_height, max_height, step, min_perc=0.25):\n",
    "    best = (None, min_perc, (0,0,0))\n",
    "    for mask_height in range(min_height, max_height, step):\n",
    "        (best_for_height, perc, (x,y)) = find_pallet_by_height(img, mask_height)\n",
    "        if perc >= best[1]:\n",
    "            print(\"height: \", mask_height, \"percent: \",perc)\n",
    "            best = (best_for_height, perc, (x,y,mask_height))\n",
    "    \n",
    "    return (np.logical_not(best[0]), best[2])\n",
    "\n",
    "def draw_pallet(img_full,x,y,mask_height):\n",
    "    print(x,y)\n",
    "    mask_width = int(mask_height * 5.556)\n",
    "    color = (0,255,0)\n",
    "    img_full[y:y+mask_height, x:x+1]=color\n",
    "    img_full[y:y+mask_height, x+mask_width-1:x+mask_width]=color\n",
    "    img_full[y:y+1, x:x+mask_width]=color\n",
    "    img_full[y+mask_height-1:y+mask_height, x:x+mask_width]=color\n",
    "    return img_full"
   ]
  },
  {
   "cell_type": "code",
   "execution_count": 10,
   "metadata": {},
   "outputs": [],
   "source": [
    "def save(img, file, binary=True):\n",
    "    res = cv2.imwrite(file, img * 255 if binary else img)\n",
    "    print(\"saved\" if res else \"save error\", file)"
   ]
  },
  {
   "cell_type": "markdown",
   "metadata": {},
   "source": [
    "## Run pipeline and save results"
   ]
  },
  {
   "cell_type": "code",
   "execution_count": 11,
   "metadata": {},
   "outputs": [
    {
     "name": "stdout",
     "output_type": "stream",
     "text": [
      "saved img_classified.jpg\n",
      "saved img_filtered.jpg\n",
      "saved img_rotated.jpg\n",
      "25\n",
      "28\n",
      "saved img_pallet.jpg\n",
      "460 279\n",
      "saved img_full_marked.jpg\n"
     ]
    }
   ],
   "source": [
    "img_full = cv2.imread('r_3_272.jpg')\n",
    "\n",
    "img_classified = detect(img_full, gnb).astype('float32')\n",
    "save(img_classified, \"img_classified.jpg\")\n",
    "\n",
    "img_filtered = median_filter(img_classified)\n",
    "save(img_filtered, \"img_filtered.jpg\")\n",
    "\n",
    "img_rotated = rotate(img_filtered, -2)\n",
    "save(img_rotated, \"img_rotated.jpg\")\n",
    "\n",
    "img_pallet, (x,y,mask_height) = find_pallet(img_rotated, 25, 100, 3)\n",
    "save(img_pallet, \"img_pallet.jpg\")\n",
    "\n",
    "img_full_marked = draw_pallet(img_full,x,y,mask_height)\n",
    "save(img_full_marked, \"img_full_marked.jpg\", False)"
   ]
  },
  {
   "cell_type": "code",
   "execution_count": 12,
   "metadata": {},
   "outputs": [],
   "source": [
    "# kernel = np.ones((7,7), np.uint8) \n",
    "# img_erosion = cv2.erode(img_classified, kernel, iterations=1) \n",
    "# img_dilation = cv2.dilate(img_classified, kernel, iterations=1) \n",
    "# img_de = cv2.erode(img_dilation, kernel, iterations=1) "
   ]
  },
  {
   "cell_type": "code",
   "execution_count": 13,
   "metadata": {},
   "outputs": [],
   "source": [
    "# show(img_de)"
   ]
  },
  {
   "cell_type": "markdown",
   "metadata": {},
   "source": [
    "# Pipeline as function"
   ]
  },
  {
   "cell_type": "code",
   "execution_count": 14,
   "metadata": {},
   "outputs": [],
   "source": [
    "def localise(path,filename):\n",
    "    img_full = cv2.imread(path+\"/\"+filename)\n",
    "    img_classified = detect(img_full, gnb).astype('float32')\n",
    "    img_filtered = median_filter(img_classified)\n",
    "    img_rotated = rotate(img_filtered, -2)\n",
    "    img_pallet, (x,y,mask_height) = find_pallet(img_rotated, 25, 100, 3)\n",
    "    img_full_marked = draw_pallet(img_full,x,y,mask_height)\n",
    "    save(img_full_marked, path+\"/localised/\"+filename, False)"
   ]
  },
  {
   "cell_type": "code",
   "execution_count": 15,
   "metadata": {},
   "outputs": [],
   "source": [
    "def localize_all():\n",
    "    path = \"/home/maciej/repos/pallet-recognition/data/jpeg_marked\"\n",
    "    filenames = [f for f in sorted(listdir(path)) if isfile(join(path, f))]\n",
    "    for i in tqdm(range(len(filenames))):\n",
    "        print(path, filenames[i])\n",
    "        localise(path,filenames[i])"
   ]
  },
  {
   "cell_type": "code",
   "execution_count": null,
   "metadata": {
    "scrolled": false
   },
   "outputs": [
    {
     "name": "stderr",
     "output_type": "stream",
     "text": [
      "\n",
      "\n",
      "\n",
      "\n",
      "  0%|          | 0/85 [00:00<?, ?it/s]\u001b[A\u001b[A\u001b[A\u001b[A"
     ]
    },
    {
     "name": "stdout",
     "output_type": "stream",
     "text": [
      "/home/maciej/repos/pallet-recognition/data/jpeg_marked r_1_0.jpg\n"
     ]
    },
    {
     "name": "stderr",
     "output_type": "stream",
     "text": [
      "\n",
      "\n",
      "\n",
      "\n",
      "  1%|          | 1/85 [01:24<1:57:58, 84.27s/it]\u001b[A\u001b[A\u001b[A\u001b[A"
     ]
    },
    {
     "name": "stdout",
     "output_type": "stream",
     "text": [
      "0 0\n",
      "saved /home/maciej/repos/pallet-recognition/data/jpeg_marked/localised/r_1_0.jpg\n",
      "/home/maciej/repos/pallet-recognition/data/jpeg_marked r_1_1.jpg\n",
      "height:  31 percent:  0.2752719429857464\n"
     ]
    },
    {
     "name": "stderr",
     "output_type": "stream",
     "text": [
      "\n",
      "\n",
      "\n",
      "\n",
      "  2%|▏         | 2/85 [02:48<1:56:38, 84.31s/it]\u001b[A\u001b[A\u001b[A\u001b[A"
     ]
    },
    {
     "name": "stdout",
     "output_type": "stream",
     "text": [
      "416 254\n",
      "saved /home/maciej/repos/pallet-recognition/data/jpeg_marked/localised/r_1_1.jpg\n",
      "/home/maciej/repos/pallet-recognition/data/jpeg_marked r_1_10.jpg\n",
      "height:  34 percent:  0.2508148259565638\n"
     ]
    },
    {
     "name": "stderr",
     "output_type": "stream",
     "text": [
      "\n",
      "\n",
      "\n",
      "\n",
      "  4%|▎         | 3/85 [04:13<1:55:14, 84.32s/it]\u001b[A\u001b[A\u001b[A\u001b[A"
     ]
    },
    {
     "name": "stdout",
     "output_type": "stream",
     "text": [
      "403 252\n",
      "saved /home/maciej/repos/pallet-recognition/data/jpeg_marked/localised/r_1_10.jpg\n",
      "/home/maciej/repos/pallet-recognition/data/jpeg_marked r_1_11.jpg\n",
      "height:  28 percent:  0.2510892333472979\n"
     ]
    },
    {
     "name": "stderr",
     "output_type": "stream",
     "text": [
      "\n",
      "\n",
      "\n",
      "\n",
      "  5%|▍         | 4/85 [05:37<1:54:03, 84.48s/it]\u001b[A\u001b[A\u001b[A\u001b[A"
     ]
    },
    {
     "name": "stdout",
     "output_type": "stream",
     "text": [
      "417 256\n",
      "saved /home/maciej/repos/pallet-recognition/data/jpeg_marked/localised/r_1_11.jpg\n",
      "/home/maciej/repos/pallet-recognition/data/jpeg_marked r_1_12.jpg\n"
     ]
    },
    {
     "name": "stderr",
     "output_type": "stream",
     "text": [
      "\n",
      "\n",
      "\n",
      "\n",
      "  6%|▌         | 5/85 [07:03<1:53:06, 84.83s/it]\u001b[A\u001b[A\u001b[A\u001b[A"
     ]
    },
    {
     "name": "stdout",
     "output_type": "stream",
     "text": [
      "0 0\n",
      "saved /home/maciej/repos/pallet-recognition/data/jpeg_marked/localised/r_1_12.jpg\n",
      "/home/maciej/repos/pallet-recognition/data/jpeg_marked r_1_13.jpg\n",
      "height:  31 percent:  0.2984153776539373\n",
      "height:  34 percent:  0.32367071328906827\n",
      "height:  37 percent:  0.33452231036755853\n"
     ]
    },
    {
     "name": "stderr",
     "output_type": "stream",
     "text": [
      "\n",
      "\n",
      "\n",
      "\n",
      "  7%|▋         | 6/85 [08:27<1:51:23, 84.60s/it]\u001b[A\u001b[A\u001b[A\u001b[A"
     ]
    },
    {
     "name": "stdout",
     "output_type": "stream",
     "text": [
      "400 253\n",
      "saved /home/maciej/repos/pallet-recognition/data/jpeg_marked/localised/r_1_13.jpg\n",
      "/home/maciej/repos/pallet-recognition/data/jpeg_marked r_1_14.jpg\n",
      "height:  25 percent:  0.2515325595120991\n",
      "height:  31 percent:  0.2554544886221556\n",
      "height:  37 percent:  0.28643193235287434\n",
      "height:  40 percent:  0.3296949727505283\n"
     ]
    },
    {
     "name": "stderr",
     "output_type": "stream",
     "text": [
      "\n",
      "\n",
      "\n",
      "\n",
      "  8%|▊         | 7/85 [09:52<1:50:00, 84.63s/it]\u001b[A\u001b[A\u001b[A\u001b[A"
     ]
    },
    {
     "name": "stdout",
     "output_type": "stream",
     "text": [
      "416 257\n",
      "saved /home/maciej/repos/pallet-recognition/data/jpeg_marked/localised/r_1_14.jpg\n",
      "/home/maciej/repos/pallet-recognition/data/jpeg_marked r_1_15.jpg\n",
      "height:  25 percent:  0.2670339038625483\n",
      "height:  28 percent:  0.27685820122152893\n"
     ]
    },
    {
     "name": "stderr",
     "output_type": "stream",
     "text": [
      "\n",
      "\n",
      "\n",
      "\n",
      "  9%|▉         | 8/85 [11:17<1:48:48, 84.79s/it]\u001b[A\u001b[A\u001b[A\u001b[A"
     ]
    },
    {
     "name": "stdout",
     "output_type": "stream",
     "text": [
      "8 252\n",
      "saved /home/maciej/repos/pallet-recognition/data/jpeg_marked/localised/r_1_15.jpg\n",
      "/home/maciej/repos/pallet-recognition/data/jpeg_marked r_1_16.jpg\n",
      "height:  46 percent:  0.2837678409372164\n",
      "height:  49 percent:  0.28868820255374883\n"
     ]
    },
    {
     "name": "stderr",
     "output_type": "stream",
     "text": [
      "\n",
      "\n",
      "\n",
      "\n",
      " 11%|█         | 9/85 [12:42<1:47:23, 84.79s/it]\u001b[A\u001b[A\u001b[A\u001b[A"
     ]
    },
    {
     "name": "stdout",
     "output_type": "stream",
     "text": [
      "162 257\n",
      "saved /home/maciej/repos/pallet-recognition/data/jpeg_marked/localised/r_1_16.jpg\n",
      "/home/maciej/repos/pallet-recognition/data/jpeg_marked r_1_17.jpg\n",
      "height:  55 percent:  0.2757060745302413\n",
      "height:  58 percent:  0.32410292106693905\n"
     ]
    }
   ],
   "source": [
    "localize_all()"
   ]
  }
 ],
 "metadata": {
  "kernelspec": {
   "display_name": "Python 3",
   "language": "python",
   "name": "python3"
  },
  "language_info": {
   "codemirror_mode": {
    "name": "ipython",
    "version": 3
   },
   "file_extension": ".py",
   "mimetype": "text/x-python",
   "name": "python",
   "nbconvert_exporter": "python",
   "pygments_lexer": "ipython3",
   "version": "3.6.9"
  }
 },
 "nbformat": 4,
 "nbformat_minor": 2
}
