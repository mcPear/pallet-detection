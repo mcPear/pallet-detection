{
 "cells": [
  {
   "cell_type": "code",
   "execution_count": 1,
   "metadata": {},
   "outputs": [
    {
     "name": "stdout",
     "output_type": "stream",
     "text": [
      "4.1.1\n"
     ]
    }
   ],
   "source": [
    "import cv2\n",
    "print(cv2.__version__)\n",
    "import numpy as np\n",
    "from sklearn.model_selection import StratifiedShuffleSplit\n",
    "from sklearn.naive_bayes import GaussianNB\n",
    "from sklearn.metrics import confusion_matrix\n",
    "from sklearn.ensemble import RandomForestClassifier\n",
    "import imutils\n",
    "import sys\n",
    "import numpy\n",
    "from os import listdir\n",
    "from os.path import isfile, join\n",
    "from tqdm import tqdm\n",
    "import pickle\n",
    "numpy.set_printoptions(threshold=sys.maxsize)\n",
    "\n",
    "%run commons.py"
   ]
  },
  {
   "cell_type": "markdown",
   "metadata": {},
   "source": [
    "# load Naive Bayes"
   ]
  },
  {
   "cell_type": "code",
   "execution_count": 2,
   "metadata": {},
   "outputs": [],
   "source": [
    "filename = 'naive_bayes_model.sav'\n",
    "gnb = pickle.load(open(filename, 'rb'))\n",
    "\n",
    "filename_blurred = 'blurred_naive_bayes_model.sav'\n",
    "gnb_blurred = pickle.load(open(filename_blurred, 'rb'))"
   ]
  },
  {
   "cell_type": "markdown",
   "metadata": {},
   "source": [
    "# Sector detection"
   ]
  },
  {
   "cell_type": "code",
   "execution_count": 3,
   "metadata": {},
   "outputs": [],
   "source": [
    "# parameters\n",
    "percentile = 80 # percentil, with rows we accept as pallets (with more black pixel than in other rows)\n",
    "frame = 10 # we decice that row is important if it neighbours in frame are also in percentil\n",
    "threshold = 5 # threshold of neihtbours in frame in detecting important rows\n",
    "border_size = 10 # we detecting groups of important rows (mayby pallet), \n",
    "                        #this parameter is maximal space between rows\n",
    "\n",
    "def get_pallet_sectors(img):\n",
    "    hist = [255 - np.mean(row) for row in img]\n",
    "    perc = np.percentile(hist, percentile)\n",
    "    hist_perc = [max(x - perc, 0) for x in hist]\n",
    "\n",
    "    def check_frame(row_id, image):\n",
    "        return np.count_nonzero(image[row_id: row_id + frame]) > threshold\n",
    "\n",
    "    detection = [ row_id for row_id, value in enumerate(hist_perc) if check_frame(row_id, hist_perc) ]\n",
    "\n",
    "    def check_row(list_id, rows):\n",
    "        if list_id == len(rows) -1 :\n",
    "            return rows[list_id] - rows[list_id - 1] < border_size\n",
    "        if list_id == 0:\n",
    "            return rows[list_id + 1] - rows[list_id] < border_size\n",
    "        return rows[list_id] - rows[list_id - 1] > border_size or rows[list_id + 1] - rows[list_id] > border_size\n",
    "        \n",
    "    borders = [x for x_id, x in enumerate(detection) if check_row(x_id, detection)]\n",
    "    up = borders[-2] - 4\n",
    "    bottom = borders[-1] + 4\n",
    "    return up, bottom"
   ]
  },
  {
   "cell_type": "markdown",
   "metadata": {},
   "source": [
    "## Define pipeline functions"
   ]
  },
  {
   "cell_type": "code",
   "execution_count": 4,
   "metadata": {},
   "outputs": [],
   "source": [
    "def show(img):\n",
    " cv2.imshow('image',img)\n",
    " cv2.waitKey(0)\n",
    " cv2.destroyAllWindows()"
   ]
  },
  {
   "cell_type": "code",
   "execution_count": 5,
   "metadata": {
    "scrolled": true
   },
   "outputs": [],
   "source": [
    "def detect(img, model):\n",
    "    w,h,ch = img.shape\n",
    "    f = features(img, channels, False)\n",
    "    pred = model.predict(f)\n",
    "    img_pred = np.reshape(pred, (w,h,1))\n",
    "    return np.logical_not(img_pred)"
   ]
  },
  {
   "cell_type": "code",
   "execution_count": 6,
   "metadata": {},
   "outputs": [],
   "source": [
    "def median_filter(img):\n",
    "    kernel = np.ones((5,5),np.float32)/25\n",
    "    img = cv2.filter2D(img,-1,kernel)\n",
    "    return cv2.threshold(img,0.5,1.0,cv2.THRESH_BINARY)[1]"
   ]
  },
  {
   "cell_type": "code",
   "execution_count": 7,
   "metadata": {
    "scrolled": false
   },
   "outputs": [],
   "source": [
    "def rotate(img, angle):\n",
    "    return  1-imutils.rotate(1-img, angle)"
   ]
  },
  {
   "cell_type": "code",
   "execution_count": 8,
   "metadata": {},
   "outputs": [],
   "source": [
    "def odd(num):\n",
    "    return (num % 3) == 0"
   ]
  },
  {
   "cell_type": "code",
   "execution_count": 9,
   "metadata": {},
   "outputs": [],
   "source": [
    "def find_pallet_by_height(img, mask_height):\n",
    "    mask_height = mask_height\n",
    "    mask_width = int(mask_height * 5.556)\n",
    "    mask_size = mask_height * mask_width\n",
    "    hole_height = int(mask_height * 0.694)\n",
    "    hole_width = int(mask_height * 1.58)\n",
    "    hole_size = hole_height * hole_width\n",
    "    hole_1_x = int(mask_height * 0.694)\n",
    "    hole_1_y = int(mask_height * 0.306)\n",
    "    hole_2_x = int(mask_height * 3.281)\n",
    "    hole_2_y = hole_1_y\n",
    "    best = (None, 0, (0,0))\n",
    "    inverse_img = np.logical_not(img)\n",
    "    img_height, img_width = inverse_img.shape\n",
    "    for index, x in np.ndenumerate(inverse_img):\n",
    "        x,y = index\n",
    "        if odd(x) and odd(y) and y+mask_height < img_height and x+mask_width < img_width:\n",
    "            frame_mask = inverse_img[y:y+mask_height, x:x+mask_width]\n",
    "            hole_1_y_ = y+hole_1_y\n",
    "            hole_2_y_ = y+hole_2_y\n",
    "            hole_1_x_ = x+hole_1_x\n",
    "            hole_2_x_ = x+hole_2_x\n",
    "            hole_1_mask = inverse_img[hole_1_y_:hole_1_y_+hole_height, hole_1_x_:hole_1_x_+hole_width]\n",
    "            hole_2_mask = inverse_img[hole_2_y_:hole_2_y_+hole_height, hole_2_x_:hole_2_x_+hole_width]\n",
    "            frame_mask_perc = np.sum(frame_mask) / mask_size\n",
    "            hole_1_mask_perc = np.sum(hole_1_mask) / hole_size\n",
    "            hole_2_mask_perc = np.sum(hole_2_mask) / hole_size\n",
    "            perc = frame_mask_perc - hole_1_mask_perc - hole_2_mask_perc\n",
    "            if perc >= best[1]:\n",
    "                best = (frame_mask, perc, (x,y))\n",
    "    return best\n",
    "\n",
    "def find_pallet(img, min_height, max_height, step, min_perc=0.0):\n",
    "    best = (None, min_perc, (0,0,0))\n",
    "    for mask_height in range(min_height, max_height, step):\n",
    "        (best_for_height, perc, (x,y)) = find_pallet_by_height(img, mask_height)\n",
    "        if perc >= best[1]:\n",
    "            print(\"height: \", mask_height, \"percent: \",perc)\n",
    "            best = (best_for_height, perc, (x,y,mask_height))\n",
    "    \n",
    "    return (np.logical_not(best[0]), best[2])\n",
    "\n",
    "def draw_pallet(img_full,x,y,mask_height):\n",
    "    print(x,y)\n",
    "    mask_width = int(mask_height * 5.556)\n",
    "    color = (0,255,0)\n",
    "    img_full[y:y+mask_height, x:x+1]=color\n",
    "    img_full[y:y+mask_height, x+mask_width-1:x+mask_width]=color\n",
    "    img_full[y:y+1, x:x+mask_width]=color\n",
    "    img_full[y+mask_height-1:y+mask_height, x:x+mask_width]=color\n",
    "    return img_full\n",
    "\n",
    "def calculate_center(x,y,mask_height):\n",
    "    mask_width = int(mask_height * 5.556)\n",
    "    x = x + mask_width/2\n",
    "    y = y + mask_height/2\n",
    "    return (x,y)"
   ]
  },
  {
   "cell_type": "code",
   "execution_count": 10,
   "metadata": {},
   "outputs": [],
   "source": [
    "def save(img, file, binary=True):\n",
    "    res = cv2.imwrite(file, img * 255 if binary else img)\n",
    "    print(\"saved\" if res else \"save error\", file)"
   ]
  },
  {
   "cell_type": "markdown",
   "metadata": {},
   "source": [
    "## Run pipeline and save results"
   ]
  },
  {
   "cell_type": "code",
   "execution_count": 13,
   "metadata": {},
   "outputs": [],
   "source": [
    "def denoising(img, with_save):\n",
    "    img = 1-img\n",
    "    kernel = np.ones((7,7), np.uint8) \n",
    "    img_erosion = cv2.erode(img, kernel, iterations=1)\n",
    "    if with_save:\n",
    "        save(1-img_erosion, \"img_erosion.jpg\")\n",
    "    img_dilation = cv2.dilate(img_erosion, kernel, iterations=1)\n",
    "    if with_save:\n",
    "        save(1-img_dilation, \"img_dilation.jpg\")\n",
    "    return 1-img_dilation\n",
    "\n",
    "def filling(img, with_save):\n",
    "    img = 1-img\n",
    "    kernel = np.ones((7,7), np.uint8) \n",
    "    img_dilation = cv2.dilate(img, kernel, iterations=1)\n",
    "    if with_save:\n",
    "        save(1-img_dilation, \"img_dilation_2.jpg\")\n",
    "    img_erosion = cv2.erode(img_dilation, kernel, iterations=1)\n",
    "    if with_save:\n",
    "        save(1-img_erosion, \"img_erosion_2.jpg\")\n",
    "    return 1-img_erosion"
   ]
  },
  {
   "cell_type": "code",
   "execution_count": 14,
   "metadata": {},
   "outputs": [
    {
     "name": "stdout",
     "output_type": "stream",
     "text": [
      "saved img_classified.jpg\n",
      "saved img_erosion.jpg\n",
      "saved img_dilation.jpg\n",
      "saved img_dilation_2.jpg\n",
      "saved img_erosion_2.jpg\n",
      "saved img_rotated.jpg\n",
      "height:  25 percent:  0.22644632434913767\n",
      "height:  28 percent:  0.2787974334663638\n",
      "height:  31 percent:  0.3797541647316592\n",
      "saved img_pallet.jpg\n",
      "222 255\n",
      "saved img_full_marked.jpg\n",
      "center:  (308.0, 270.5)  x,y: 222 255  mask_height:  31\n"
     ]
    }
   ],
   "source": [
    "img_full = cv2.imread('r_1_11.jpg')\n",
    "img_blurred = cv2.medianBlur(img_full, 7)\n",
    "\n",
    "img_classified = detect(img_blurred, gnb_blurred).astype('float32')\n",
    "save(img_classified, \"img_classified.jpg\")\n",
    "\n",
    "#img_filtered = median_filter(img_classified)\n",
    "#save(img_filtered, \"img_filtered.jpg\")\n",
    "img_denoised = denoising(img_classified, True)\n",
    "img_filled = filling(img_denoised, True)\n",
    "\n",
    "img_rotated = rotate(img_filled, -2)\n",
    "save(img_rotated, \"img_rotated.jpg\")\n",
    "\n",
    "img_pallet, (x,y,mask_height) = find_pallet(img_rotated, 25, 100, 3)\n",
    "save(img_pallet, \"img_pallet.jpg\")\n",
    "\n",
    "img_full_marked = draw_pallet(img_full,x,y,mask_height)\n",
    "save(img_full_marked, \"img_full_marked.jpg\", False)\n",
    "center = calculate_center(x,y,mask_height)\n",
    "print(\"center: \",center,\" x,y:\",x,y,\" mask_height: \",mask_height)"
   ]
  },
  {
   "cell_type": "markdown",
   "metadata": {},
   "source": [
    "# Pipeline as function"
   ]
  },
  {
   "cell_type": "code",
   "execution_count": 15,
   "metadata": {},
   "outputs": [],
   "source": [
    "def localise(path,filename):\n",
    "    img_full = cv2.imread(path+filename)\n",
    "    #img_blurred = cv2.medianBlur(img_full, 7)\n",
    "    img_classified = detect(img_full, gnb).astype('float32')\n",
    "    img_denoised = denoising(img_classified, False)\n",
    "    img_filled = filling(img_denoised, False)\n",
    "    #img_filtered = median_filter(img_classified)\n",
    "    img_rotated = rotate(img_filled, -2)\n",
    "    img_pallet, (x,y,mask_height) = find_pallet(img_rotated, 25, 100, 3)\n",
    "    img_full_marked = draw_pallet(img_full,x,y,mask_height)\n",
    "    save(img_full_marked, path+\"localised/\"+filename, False)\n",
    "    return [calculate_center(x,y,mask_height)]"
   ]
  },
  {
   "cell_type": "code",
   "execution_count": 16,
   "metadata": {},
   "outputs": [],
   "source": [
    "def localize_all():\n",
    "    centers = dict()\n",
    "    path = \"/home/maciej/repos/pallet-recognition/data/jpeg_marked/\"\n",
    "    filenames = [f for f in sorted(listdir(path)) if isfile(join(path, f))]\n",
    "    for i in tqdm(range(len(filenames))):\n",
    "        filename = filenames[i]\n",
    "        print(path, filename)\n",
    "        centers[filename]=localise(path,filename)\n",
    "    np.save(path+\"eval/pred_centers\", centers)"
   ]
  },
  {
   "cell_type": "code",
   "execution_count": 17,
   "metadata": {
    "scrolled": true
   },
   "outputs": [
    {
     "name": "stderr",
     "output_type": "stream",
     "text": [
      "\r",
      "  0%|          | 0/85 [00:00<?, ?it/s]"
     ]
    },
    {
     "name": "stdout",
     "output_type": "stream",
     "text": [
      "/home/maciej/repos/pallet-recognition/data/jpeg_marked/ r_1_0.jpg\n",
      "height:  25 percent:  0.3031752901829628\n",
      "height:  28 percent:  0.31584569929221884\n",
      "height:  31 percent:  0.40005537098560356\n",
      "height:  34 percent:  0.4162565799538184\n"
     ]
    },
    {
     "name": "stderr",
     "output_type": "stream",
     "text": [
      "\r",
      "  1%|          | 1/85 [00:15<21:38, 15.46s/it]"
     ]
    },
    {
     "name": "stdout",
     "output_type": "stream",
     "text": [
      "402 252\n",
      "saved /home/maciej/repos/pallet-recognition/data/jpeg_marked/localised/r_1_0.jpg\n",
      "/home/maciej/repos/pallet-recognition/data/jpeg_marked/ r_1_1.jpg\n",
      "height:  25 percent:  0.2750409862941832\n",
      "height:  28 percent:  0.38807465878773184\n",
      "height:  31 percent:  0.44185451124685926\n"
     ]
    },
    {
     "name": "stderr",
     "output_type": "stream",
     "text": [
      "\r",
      "  2%|▏         | 2/85 [00:30<21:23, 15.47s/it]"
     ]
    },
    {
     "name": "stdout",
     "output_type": "stream",
     "text": [
      "225 249\n",
      "saved /home/maciej/repos/pallet-recognition/data/jpeg_marked/localised/r_1_1.jpg\n",
      "/home/maciej/repos/pallet-recognition/data/jpeg_marked/ r_1_10.jpg\n",
      "height:  25 percent:  0.32411830283953047\n",
      "height:  31 percent:  0.3467168875552221\n",
      "height:  34 percent:  0.4089076172943825\n"
     ]
    },
    {
     "name": "stderr",
     "output_type": "stream",
     "text": [
      "\r",
      "  4%|▎         | 3/85 [00:46<21:21, 15.62s/it]"
     ]
    },
    {
     "name": "stdout",
     "output_type": "stream",
     "text": [
      "402 252\n",
      "saved /home/maciej/repos/pallet-recognition/data/jpeg_marked/localised/r_1_10.jpg\n",
      "/home/maciej/repos/pallet-recognition/data/jpeg_marked/ r_1_11.jpg\n",
      "height:  25 percent:  0.31617024067151944\n",
      "height:  28 percent:  0.3878232972460477\n",
      "height:  31 percent:  0.4489738506055086\n"
     ]
    },
    {
     "name": "stderr",
     "output_type": "stream",
     "text": [
      "\r",
      "  5%|▍         | 4/85 [01:02<21:08, 15.66s/it]"
     ]
    },
    {
     "name": "stdout",
     "output_type": "stream",
     "text": [
      "222 252\n",
      "saved /home/maciej/repos/pallet-recognition/data/jpeg_marked/localised/r_1_11.jpg\n",
      "/home/maciej/repos/pallet-recognition/data/jpeg_marked/ r_1_12.jpg\n",
      "height:  25 percent:  0.31135943340546923\n",
      "height:  31 percent:  0.4420733159480346\n",
      "height:  34 percent:  0.46308616389847435\n"
     ]
    },
    {
     "name": "stderr",
     "output_type": "stream",
     "text": [
      "\r",
      "  6%|▌         | 5/85 [01:18<20:57, 15.72s/it]"
     ]
    },
    {
     "name": "stdout",
     "output_type": "stream",
     "text": [
      "210 252\n",
      "saved /home/maciej/repos/pallet-recognition/data/jpeg_marked/localised/r_1_12.jpg\n",
      "/home/maciej/repos/pallet-recognition/data/jpeg_marked/ r_1_13.jpg\n",
      "height:  25 percent:  0.3185730211817169\n",
      "height:  28 percent:  0.34192776663065283\n",
      "height:  31 percent:  0.4339053513378345\n",
      "height:  34 percent:  0.47982185997468124\n"
     ]
    },
    {
     "name": "stderr",
     "output_type": "stream",
     "text": [
      "\r",
      "  7%|▋         | 6/85 [01:35<21:00, 15.96s/it]"
     ]
    },
    {
     "name": "stdout",
     "output_type": "stream",
     "text": [
      "207 252\n",
      "saved /home/maciej/repos/pallet-recognition/data/jpeg_marked/localised/r_1_13.jpg\n",
      "/home/maciej/repos/pallet-recognition/data/jpeg_marked/ r_1_14.jpg\n",
      "height:  25 percent:  0.3284818676634534\n",
      "height:  31 percent:  0.3859313042546351\n",
      "height:  37 percent:  0.42669879298979385\n"
     ]
    },
    {
     "name": "stderr",
     "output_type": "stream",
     "text": [
      "\r",
      "  8%|▊         | 7/85 [01:50<20:42, 15.92s/it]"
     ]
    },
    {
     "name": "stdout",
     "output_type": "stream",
     "text": [
      "423 258\n",
      "saved /home/maciej/repos/pallet-recognition/data/jpeg_marked/localised/r_1_14.jpg\n",
      "/home/maciej/repos/pallet-recognition/data/jpeg_marked/ r_1_15.jpg\n",
      "height:  25 percent:  0.33355892189651776\n",
      "height:  40 percent:  0.3873550137439027\n",
      "height:  43 percent:  0.46334828321446947\n"
     ]
    },
    {
     "name": "stderr",
     "output_type": "stream",
     "text": [
      "\r",
      "  9%|▉         | 8/85 [02:06<20:29, 15.97s/it]"
     ]
    },
    {
     "name": "stdout",
     "output_type": "stream",
     "text": [
      "180 255\n",
      "saved /home/maciej/repos/pallet-recognition/data/jpeg_marked/localised/r_1_15.jpg\n",
      "/home/maciej/repos/pallet-recognition/data/jpeg_marked/ r_1_16.jpg\n",
      "height:  25 percent:  0.27164404223227745\n",
      "height:  40 percent:  0.3044099655210766\n",
      "height:  43 percent:  0.4150075067909125\n",
      "height:  46 percent:  0.4670324230674037\n"
     ]
    },
    {
     "name": "stderr",
     "output_type": "stream",
     "text": [
      "\r",
      " 11%|█         | 9/85 [02:22<20:09, 15.91s/it]"
     ]
    },
    {
     "name": "stdout",
     "output_type": "stream",
     "text": [
      "171 258\n",
      "saved /home/maciej/repos/pallet-recognition/data/jpeg_marked/localised/r_1_16.jpg\n",
      "/home/maciej/repos/pallet-recognition/data/jpeg_marked/ r_1_17.jpg\n",
      "height:  25 percent:  0.21806675847596566\n",
      "height:  46 percent:  0.2617090174078046\n",
      "height:  49 percent:  0.2990218814798647\n",
      "height:  52 percent:  0.36703115228267663\n",
      "height:  55 percent:  0.4387527521538397\n",
      "height:  58 percent:  0.470147206616472\n"
     ]
    },
    {
     "name": "stderr",
     "output_type": "stream",
     "text": [
      "\r",
      " 12%|█▏        | 10/85 [02:38<19:53, 15.91s/it]"
     ]
    },
    {
     "name": "stdout",
     "output_type": "stream",
     "text": [
      "132 261\n",
      "saved /home/maciej/repos/pallet-recognition/data/jpeg_marked/localised/r_1_17.jpg\n",
      "/home/maciej/repos/pallet-recognition/data/jpeg_marked/ r_1_18.jpg\n",
      "height:  25 percent:  0.35763918945504625\n",
      "height:  28 percent:  0.38085793663043244\n",
      "height:  67 percent:  0.4028484605623455\n",
      "height:  70 percent:  0.4422192283661356\n",
      "height:  73 percent:  0.47030457576893947\n"
     ]
    },
    {
     "name": "stderr",
     "output_type": "stream",
     "text": [
      "\r",
      " 13%|█▎        | 11/85 [02:54<19:46, 16.04s/it]"
     ]
    },
    {
     "name": "stdout",
     "output_type": "stream",
     "text": [
      "90 267\n",
      "saved /home/maciej/repos/pallet-recognition/data/jpeg_marked/localised/r_1_18.jpg\n",
      "/home/maciej/repos/pallet-recognition/data/jpeg_marked/ r_1_19.jpg\n",
      "height:  25 percent:  0.3038009049773756\n",
      "height:  31 percent:  0.36112822848569287\n",
      "height:  34 percent:  0.3681634960024887\n",
      "height:  76 percent:  0.38168855651706735\n",
      "height:  79 percent:  0.4148105367767293\n",
      "height:  82 percent:  0.4501599317679862\n",
      "height:  85 percent:  0.46314769022833707\n"
     ]
    },
    {
     "name": "stderr",
     "output_type": "stream",
     "text": [
      "\r",
      " 14%|█▍        | 12/85 [03:10<19:26, 15.98s/it]"
     ]
    },
    {
     "name": "stdout",
     "output_type": "stream",
     "text": [
      "48 276\n",
      "saved /home/maciej/repos/pallet-recognition/data/jpeg_marked/localised/r_1_19.jpg\n",
      "/home/maciej/repos/pallet-recognition/data/jpeg_marked/ r_1_2.jpg\n",
      "height:  25 percent:  0.30626139418978293\n",
      "height:  28 percent:  0.34923709567173067\n",
      "height:  31 percent:  0.408363995760845\n"
     ]
    },
    {
     "name": "stderr",
     "output_type": "stream",
     "text": [
      "\r",
      " 15%|█▌        | 13/85 [03:26<18:57, 15.80s/it]"
     ]
    },
    {
     "name": "stdout",
     "output_type": "stream",
     "text": [
      "222 249\n",
      "saved /home/maciej/repos/pallet-recognition/data/jpeg_marked/localised/r_1_2.jpg\n",
      "/home/maciej/repos/pallet-recognition/data/jpeg_marked/ r_1_20.jpg\n",
      "height:  25 percent:  0.3088032002098498\n",
      "height:  31 percent:  0.3241301396777766\n",
      "height:  34 percent:  0.3384719517115837\n",
      "height:  37 percent:  0.3834378196531266\n",
      "height:  40 percent:  0.41832487249153916\n"
     ]
    },
    {
     "name": "stderr",
     "output_type": "stream",
     "text": [
      "\r",
      " 16%|█▋        | 14/85 [03:41<18:36, 15.73s/it]"
     ]
    },
    {
     "name": "stdout",
     "output_type": "stream",
     "text": [
      "height:  97 percent:  0.43173127017887136\n",
      "0 288\n",
      "saved /home/maciej/repos/pallet-recognition/data/jpeg_marked/localised/r_1_20.jpg\n",
      "/home/maciej/repos/pallet-recognition/data/jpeg_marked/ r_1_21.jpg\n",
      "height:  25 percent:  0.2262915601023018\n",
      "height:  28 percent:  0.24026415011134875\n",
      "height:  43 percent:  0.25059566011230167\n",
      "height:  46 percent:  0.2591879107884388\n",
      "height:  52 percent:  0.28152360850531577\n",
      "height:  55 percent:  0.31018834126525197\n",
      "height:  58 percent:  0.31041567128523645\n"
     ]
    },
    {
     "name": "stderr",
     "output_type": "stream",
     "text": [
      "\r",
      " 18%|█▊        | 15/85 [03:57<18:25, 15.79s/it]"
     ]
    },
    {
     "name": "stdout",
     "output_type": "stream",
     "text": [
      "270 321\n",
      "saved /home/maciej/repos/pallet-recognition/data/jpeg_marked/localised/r_1_21.jpg\n",
      "/home/maciej/repos/pallet-recognition/data/jpeg_marked/ r_1_22.jpg\n",
      "height:  25 percent:  0.21756311889304217\n"
     ]
    },
    {
     "name": "stderr",
     "output_type": "stream",
     "text": [
      "\r",
      " 19%|█▉        | 16/85 [04:13<18:01, 15.68s/it]"
     ]
    },
    {
     "name": "stdout",
     "output_type": "stream",
     "text": [
      "174 411\n",
      "saved /home/maciej/repos/pallet-recognition/data/jpeg_marked/localised/r_1_22.jpg\n",
      "/home/maciej/repos/pallet-recognition/data/jpeg_marked/ r_1_23.jpg\n",
      "height:  25 percent:  0.18318840579710144\n"
     ]
    },
    {
     "name": "stderr",
     "output_type": "stream",
     "text": [
      "\r",
      " 20%|██        | 17/85 [04:28<17:42, 15.62s/it]"
     ]
    },
    {
     "name": "stdout",
     "output_type": "stream",
     "text": [
      "45 345\n",
      "saved /home/maciej/repos/pallet-recognition/data/jpeg_marked/localised/r_1_23.jpg\n",
      "/home/maciej/repos/pallet-recognition/data/jpeg_marked/ r_1_24.jpg\n",
      "height:  25 percent:  0.1541714210767919\n",
      "height:  34 percent:  0.15742966238561124\n"
     ]
    },
    {
     "name": "stderr",
     "output_type": "stream",
     "text": [
      "\r",
      " 21%|██        | 18/85 [04:43<17:16, 15.47s/it]"
     ]
    },
    {
     "name": "stdout",
     "output_type": "stream",
     "text": [
      "15 321\n",
      "saved /home/maciej/repos/pallet-recognition/data/jpeg_marked/localised/r_1_24.jpg\n",
      "/home/maciej/repos/pallet-recognition/data/jpeg_marked/ r_1_25.jpg\n",
      "height:  25 percent:  0.1821850613154961\n",
      "height:  28 percent:  0.1880989129715785\n"
     ]
    },
    {
     "name": "stderr",
     "output_type": "stream",
     "text": [
      "\r",
      " 22%|██▏       | 19/85 [05:00<17:22, 15.79s/it]"
     ]
    },
    {
     "name": "stdout",
     "output_type": "stream",
     "text": [
      "168 393\n",
      "saved /home/maciej/repos/pallet-recognition/data/jpeg_marked/localised/r_1_25.jpg\n",
      "/home/maciej/repos/pallet-recognition/data/jpeg_marked/ r_1_26.jpg\n",
      "height:  25 percent:  0.1747183421863729\n",
      "height:  28 percent:  0.1845335479461116\n"
     ]
    },
    {
     "name": "stderr",
     "output_type": "stream",
     "text": [
      "\r",
      " 24%|██▎       | 20/85 [05:16<17:06, 15.79s/it]"
     ]
    },
    {
     "name": "stdout",
     "output_type": "stream",
     "text": [
      "477 330\n",
      "saved /home/maciej/repos/pallet-recognition/data/jpeg_marked/localised/r_1_26.jpg\n",
      "/home/maciej/repos/pallet-recognition/data/jpeg_marked/ r_1_27.jpg\n",
      "height:  25 percent:  0.21757492294576694\n",
      "height:  28 percent:  0.24826472339205785\n"
     ]
    },
    {
     "name": "stderr",
     "output_type": "stream",
     "text": [
      "\r",
      " 25%|██▍       | 21/85 [05:31<16:49, 15.77s/it]"
     ]
    },
    {
     "name": "stdout",
     "output_type": "stream",
     "text": [
      "123 312\n",
      "saved /home/maciej/repos/pallet-recognition/data/jpeg_marked/localised/r_1_27.jpg\n",
      "/home/maciej/repos/pallet-recognition/data/jpeg_marked/ r_1_28.jpg\n",
      "height:  25 percent:  0.2285356416814217\n",
      "height:  28 percent:  0.2602275483429982\n",
      "height:  31 percent:  0.2704217721096941\n",
      "height:  34 percent:  0.31224312897274176\n"
     ]
    },
    {
     "name": "stderr",
     "output_type": "stream",
     "text": [
      "\r",
      " 26%|██▌       | 22/85 [05:47<16:27, 15.67s/it]"
     ]
    },
    {
     "name": "stdout",
     "output_type": "stream",
     "text": [
      "153 300\n",
      "saved /home/maciej/repos/pallet-recognition/data/jpeg_marked/localised/r_1_28.jpg\n",
      "/home/maciej/repos/pallet-recognition/data/jpeg_marked/ r_1_29.jpg\n",
      "height:  25 percent:  0.26619975080333136\n",
      "height:  28 percent:  0.3242233148854541\n",
      "height:  31 percent:  0.3350867478774456\n"
     ]
    },
    {
     "name": "stderr",
     "output_type": "stream",
     "text": [
      "\r",
      " 27%|██▋       | 23/85 [06:02<16:08, 15.62s/it]"
     ]
    },
    {
     "name": "stdout",
     "output_type": "stream",
     "text": [
      "240 285\n",
      "saved /home/maciej/repos/pallet-recognition/data/jpeg_marked/localised/r_1_29.jpg\n",
      "/home/maciej/repos/pallet-recognition/data/jpeg_marked/ r_1_3.jpg\n",
      "height:  25 percent:  0.3434953111679454\n",
      "height:  31 percent:  0.367629109658367\n",
      "height:  34 percent:  0.3793775237915319\n"
     ]
    },
    {
     "name": "stderr",
     "output_type": "stream",
     "text": [
      "\r",
      " 28%|██▊       | 24/85 [06:18<16:02, 15.78s/it]"
     ]
    },
    {
     "name": "stdout",
     "output_type": "stream",
     "text": [
      "405 252\n",
      "saved /home/maciej/repos/pallet-recognition/data/jpeg_marked/localised/r_1_3.jpg\n",
      "/home/maciej/repos/pallet-recognition/data/jpeg_marked/ r_1_30.jpg\n",
      "height:  25 percent:  0.2273434323562201\n"
     ]
    },
    {
     "name": "stderr",
     "output_type": "stream",
     "text": [
      "\r",
      " 29%|██▉       | 25/85 [06:36<16:19, 16.32s/it]"
     ]
    },
    {
     "name": "stdout",
     "output_type": "stream",
     "text": [
      "279 279\n",
      "saved /home/maciej/repos/pallet-recognition/data/jpeg_marked/localised/r_1_30.jpg\n",
      "/home/maciej/repos/pallet-recognition/data/jpeg_marked/ r_1_31.jpg\n",
      "height:  25 percent:  0.19947406387304084\n",
      "height:  28 percent:  0.22793530747690338\n",
      "height:  55 percent:  0.23817315357155233\n"
     ]
    },
    {
     "name": "stderr",
     "output_type": "stream",
     "text": [
      "\r",
      " 31%|███       | 26/85 [06:52<15:53, 16.16s/it]"
     ]
    },
    {
     "name": "stdout",
     "output_type": "stream",
     "text": [
      "261 261\n",
      "saved /home/maciej/repos/pallet-recognition/data/jpeg_marked/localised/r_1_31.jpg\n",
      "/home/maciej/repos/pallet-recognition/data/jpeg_marked/ r_1_32.jpg\n",
      "height:  25 percent:  0.17970096399763918\n",
      "height:  37 percent:  0.2093564885322665\n",
      "height:  40 percent:  0.26310397699286586\n",
      "height:  43 percent:  0.3138210244659929\n"
     ]
    },
    {
     "name": "stderr",
     "output_type": "stream",
     "text": [
      "\r",
      " 32%|███▏      | 27/85 [07:09<15:51, 16.41s/it]"
     ]
    },
    {
     "name": "stdout",
     "output_type": "stream",
     "text": [
      "240 252\n",
      "saved /home/maciej/repos/pallet-recognition/data/jpeg_marked/localised/r_1_32.jpg\n",
      "/home/maciej/repos/pallet-recognition/data/jpeg_marked/ r_1_33.jpg\n",
      "height:  25 percent:  0.18368286445012788\n",
      "height:  28 percent:  0.19681388221286356\n",
      "height:  34 percent:  0.24610875366151902\n",
      "height:  37 percent:  0.29626213261200646\n"
     ]
    },
    {
     "name": "stderr",
     "output_type": "stream",
     "text": [
      "\r",
      " 33%|███▎      | 28/85 [07:25<15:31, 16.34s/it]"
     ]
    },
    {
     "name": "stdout",
     "output_type": "stream",
     "text": [
      "186 249\n",
      "saved /home/maciej/repos/pallet-recognition/data/jpeg_marked/localised/r_1_33.jpg\n",
      "/home/maciej/repos/pallet-recognition/data/jpeg_marked/ r_1_34.jpg\n",
      "height:  25 percent:  0.21891665027214896\n",
      "height:  28 percent:  0.26534518113465483\n",
      "height:  31 percent:  0.2873359708974863\n",
      "height:  37 percent:  0.31493237560520987\n"
     ]
    },
    {
     "name": "stderr",
     "output_type": "stream",
     "text": [
      "\r",
      " 34%|███▍      | 29/85 [07:42<15:21, 16.46s/it]"
     ]
    },
    {
     "name": "stdout",
     "output_type": "stream",
     "text": [
      "126 243\n",
      "saved /home/maciej/repos/pallet-recognition/data/jpeg_marked/localised/r_1_34.jpg\n",
      "/home/maciej/repos/pallet-recognition/data/jpeg_marked/ r_1_35.jpg\n",
      "height:  25 percent:  0.16898550724637681\n",
      "height:  31 percent:  0.18306511151597424\n",
      "height:  34 percent:  0.2105836766836314\n"
     ]
    },
    {
     "name": "stderr",
     "output_type": "stream",
     "text": [
      "\r",
      " 35%|███▌      | 30/85 [07:58<15:07, 16.51s/it]"
     ]
    },
    {
     "name": "stdout",
     "output_type": "stream",
     "text": [
      "279 246\n",
      "saved /home/maciej/repos/pallet-recognition/data/jpeg_marked/localised/r_1_35.jpg\n",
      "/home/maciej/repos/pallet-recognition/data/jpeg_marked/ r_1_36.jpg\n",
      "height:  25 percent:  0.2963420552167355\n",
      "height:  28 percent:  0.34175137256631316\n",
      "height:  31 percent:  0.41007945438740634\n",
      "height:  37 percent:  0.4246407382992749\n"
     ]
    },
    {
     "name": "stderr",
     "output_type": "stream",
     "text": [
      "\r",
      " 36%|███▋      | 31/85 [08:15<14:53, 16.55s/it]"
     ]
    },
    {
     "name": "stdout",
     "output_type": "stream",
     "text": [
      "30 243\n",
      "saved /home/maciej/repos/pallet-recognition/data/jpeg_marked/localised/r_1_36.jpg\n",
      "/home/maciej/repos/pallet-recognition/data/jpeg_marked/ r_1_37.jpg\n",
      "height:  25 percent:  0.21462128664174693\n",
      "height:  28 percent:  0.3401836703194938\n",
      "height:  31 percent:  0.43428416627966515\n"
     ]
    },
    {
     "name": "stderr",
     "output_type": "stream",
     "text": [
      "\r",
      " 38%|███▊      | 32/85 [08:32<14:42, 16.65s/it]"
     ]
    },
    {
     "name": "stdout",
     "output_type": "stream",
     "text": [
      "441 246\n",
      "saved /home/maciej/repos/pallet-recognition/data/jpeg_marked/localised/r_1_37.jpg\n",
      "/home/maciej/repos/pallet-recognition/data/jpeg_marked/ r_1_38.jpg\n",
      "height:  25 percent:  0.18086431897173585\n",
      "height:  28 percent:  0.28305624765726634\n",
      "height:  31 percent:  0.37283725693328096\n",
      "height:  34 percent:  0.3997204514256437\n"
     ]
    },
    {
     "name": "stderr",
     "output_type": "stream",
     "text": [
      "\r",
      " 39%|███▉      | 33/85 [08:48<14:23, 16.61s/it]"
     ]
    },
    {
     "name": "stdout",
     "output_type": "stream",
     "text": [
      "219 249\n",
      "saved /home/maciej/repos/pallet-recognition/data/jpeg_marked/localised/r_1_38.jpg\n",
      "/home/maciej/repos/pallet-recognition/data/jpeg_marked/ r_1_39.jpg\n",
      "height:  25 percent:  0.1994583251360745\n",
      "height:  28 percent:  0.2433554560889026\n",
      "height:  31 percent:  0.3631845461365341\n",
      "height:  34 percent:  0.4464306798592581\n",
      "height:  37 percent:  0.4601727547564385\n"
     ]
    },
    {
     "name": "stderr",
     "output_type": "stream",
     "text": [
      "\r",
      " 40%|████      | 34/85 [09:05<14:08, 16.64s/it]"
     ]
    },
    {
     "name": "stdout",
     "output_type": "stream",
     "text": [
      "186 249\n",
      "saved /home/maciej/repos/pallet-recognition/data/jpeg_marked/localised/r_1_39.jpg\n",
      "/home/maciej/repos/pallet-recognition/data/jpeg_marked/ r_1_4.jpg\n",
      "height:  25 percent:  0.3150698406452882\n",
      "height:  28 percent:  0.33734813573523253\n",
      "height:  31 percent:  0.42761806523059337\n"
     ]
    },
    {
     "name": "stderr",
     "output_type": "stream",
     "text": [
      "\r",
      " 41%|████      | 35/85 [09:22<13:51, 16.63s/it]"
     ]
    },
    {
     "name": "stdout",
     "output_type": "stream",
     "text": [
      "225 252\n",
      "saved /home/maciej/repos/pallet-recognition/data/jpeg_marked/localised/r_1_4.jpg\n",
      "/home/maciej/repos/pallet-recognition/data/jpeg_marked/ r_1_40.jpg\n",
      "height:  25 percent:  0.18631385664633743\n",
      "height:  28 percent:  0.18693691707274052\n",
      "height:  31 percent:  0.3103610724109599\n",
      "height:  34 percent:  0.39850597701597873\n",
      "height:  40 percent:  0.42917600139822365\n"
     ]
    },
    {
     "name": "stderr",
     "output_type": "stream",
     "text": [
      "\r",
      " 42%|████▏     | 36/85 [09:38<13:36, 16.66s/it]"
     ]
    },
    {
     "name": "stdout",
     "output_type": "stream",
     "text": [
      "171 252\n",
      "saved /home/maciej/repos/pallet-recognition/data/jpeg_marked/localised/r_1_40.jpg\n",
      "/home/maciej/repos/pallet-recognition/data/jpeg_marked/ r_1_41.jpg\n",
      "height:  25 percent:  0.17254508492360157\n",
      "height:  34 percent:  0.20542007492959308\n",
      "height:  37 percent:  0.30533994044507085\n",
      "height:  40 percent:  0.3411173077839745\n",
      "height:  43 percent:  0.3841362251970891\n",
      "height:  46 percent:  0.433464189789988\n"
     ]
    },
    {
     "name": "stderr",
     "output_type": "stream",
     "text": [
      "\r",
      " 44%|████▎     | 37/85 [09:55<13:20, 16.68s/it]"
     ]
    },
    {
     "name": "stdout",
     "output_type": "stream",
     "text": [
      "159 255\n",
      "saved /home/maciej/repos/pallet-recognition/data/jpeg_marked/localised/r_1_41.jpg\n",
      "/home/maciej/repos/pallet-recognition/data/jpeg_marked/ r_1_42.jpg\n",
      "height:  25 percent:  0.2957348022821169\n",
      "height:  43 percent:  0.3008776312114332\n",
      "height:  46 percent:  0.3716371494834493\n",
      "height:  49 percent:  0.3948283858998145\n",
      "height:  52 percent:  0.4141129872837189\n",
      "height:  55 percent:  0.43638592721362546\n"
     ]
    },
    {
     "name": "stderr",
     "output_type": "stream",
     "text": [
      "\r",
      " 45%|████▍     | 38/85 [10:12<13:02, 16.66s/it]"
     ]
    },
    {
     "name": "stdout",
     "output_type": "stream",
     "text": [
      "132 258\n",
      "saved /home/maciej/repos/pallet-recognition/data/jpeg_marked/localised/r_1_42.jpg\n",
      "/home/maciej/repos/pallet-recognition/data/jpeg_marked/ r_1_43.jpg\n",
      "height:  25 percent:  0.3481382385730211\n",
      "height:  28 percent:  0.3763962692655392\n",
      "height:  61 percent:  0.40363672730870087\n",
      "height:  64 percent:  0.44088440974379123\n"
     ]
    },
    {
     "name": "stderr",
     "output_type": "stream",
     "text": [
      "\r",
      " 46%|████▌     | 39/85 [10:28<12:43, 16.60s/it]"
     ]
    },
    {
     "name": "stdout",
     "output_type": "stream",
     "text": [
      "111 264\n",
      "saved /home/maciej/repos/pallet-recognition/data/jpeg_marked/localised/r_1_43.jpg\n",
      "/home/maciej/repos/pallet-recognition/data/jpeg_marked/ r_1_44.jpg\n",
      "height:  25 percent:  0.28293265132139817\n",
      "height:  28 percent:  0.3279253853107843\n",
      "height:  31 percent:  0.33895378606556403\n",
      "height:  34 percent:  0.3456654955281468\n",
      "height:  73 percent:  0.3656947477554982\n",
      "height:  76 percent:  0.41326458577175706\n",
      "height:  79 percent:  0.4411681716452464\n"
     ]
    },
    {
     "name": "stderr",
     "output_type": "stream",
     "text": [
      "\r",
      " 47%|████▋     | 40/85 [10:45<12:24, 16.56s/it]"
     ]
    },
    {
     "name": "stdout",
     "output_type": "stream",
     "text": [
      "72 276\n",
      "saved /home/maciej/repos/pallet-recognition/data/jpeg_marked/localised/r_1_44.jpg\n",
      "/home/maciej/repos/pallet-recognition/data/jpeg_marked/ r_1_45.jpg\n",
      "height:  25 percent:  0.2753518263492688\n",
      "height:  28 percent:  0.27717571053734036\n",
      "height:  31 percent:  0.3126198216220722\n",
      "height:  37 percent:  0.31473825381310666\n",
      "height:  40 percent:  0.3636217566773122\n",
      "height:  43 percent:  0.3690927711016662\n",
      "height:  46 percent:  0.3757920138602426\n",
      "height:  49 percent:  0.3895490014187493\n"
     ]
    },
    {
     "name": "stderr",
     "output_type": "stream",
     "text": [
      "\r",
      " 48%|████▊     | 41/85 [11:01<12:06, 16.51s/it]"
     ]
    },
    {
     "name": "stdout",
     "output_type": "stream",
     "text": [
      "30 309\n",
      "saved /home/maciej/repos/pallet-recognition/data/jpeg_marked/localised/r_1_45.jpg\n",
      "/home/maciej/repos/pallet-recognition/data/jpeg_marked/ r_1_46.jpg\n",
      "height:  25 percent:  0.263768115942029\n",
      "height:  28 percent:  0.27079245033404625\n",
      "height:  31 percent:  0.30206807654294526\n",
      "height:  34 percent:  0.3087854126517869\n",
      "height:  37 percent:  0.3128720478257905\n"
     ]
    },
    {
     "name": "stderr",
     "output_type": "stream",
     "text": [
      "\r",
      " 49%|████▉     | 42/85 [11:17<11:49, 16.51s/it]"
     ]
    },
    {
     "name": "stdout",
     "output_type": "stream",
     "text": [
      "120 336\n",
      "saved /home/maciej/repos/pallet-recognition/data/jpeg_marked/localised/r_1_46.jpg\n",
      "/home/maciej/repos/pallet-recognition/data/jpeg_marked/ r_1_47.jpg\n",
      "height:  25 percent:  0.15898616302708374\n"
     ]
    },
    {
     "name": "stderr",
     "output_type": "stream",
     "text": [
      "\r",
      " 51%|█████     | 43/85 [11:34<11:32, 16.49s/it]"
     ]
    },
    {
     "name": "stdout",
     "output_type": "stream",
     "text": [
      "249 333\n",
      "saved /home/maciej/repos/pallet-recognition/data/jpeg_marked/localised/r_1_47.jpg\n",
      "/home/maciej/repos/pallet-recognition/data/jpeg_marked/ r_1_48.jpg\n",
      "height:  25 percent:  0.17988195947275232\n",
      "height:  28 percent:  0.18614093885740743\n",
      "height:  31 percent:  0.1878959323164124\n"
     ]
    },
    {
     "name": "stderr",
     "output_type": "stream",
     "text": [
      "\r",
      " 52%|█████▏    | 44/85 [11:50<11:15, 16.47s/it]"
     ]
    },
    {
     "name": "stdout",
     "output_type": "stream",
     "text": [
      "408 378\n",
      "saved /home/maciej/repos/pallet-recognition/data/jpeg_marked/localised/r_1_48.jpg\n",
      "/home/maciej/repos/pallet-recognition/data/jpeg_marked/ r_1_49.jpg\n",
      "height:  25 percent:  0.15673683520230836\n"
     ]
    },
    {
     "name": "stderr",
     "output_type": "stream",
     "text": [
      "\r",
      " 53%|█████▎    | 45/85 [12:07<10:59, 16.49s/it]"
     ]
    },
    {
     "name": "stdout",
     "output_type": "stream",
     "text": [
      "168 363\n",
      "saved /home/maciej/repos/pallet-recognition/data/jpeg_marked/localised/r_1_49.jpg\n",
      "/home/maciej/repos/pallet-recognition/data/jpeg_marked/ r_1_5.jpg\n",
      "height:  25 percent:  0.37180929897042425\n",
      "height:  28 percent:  0.4220966639472582\n",
      "height:  31 percent:  0.4723152514319056\n"
     ]
    },
    {
     "name": "stderr",
     "output_type": "stream",
     "text": [
      "\r",
      " 54%|█████▍    | 46/85 [12:23<10:42, 16.48s/it]"
     ]
    },
    {
     "name": "stdout",
     "output_type": "stream",
     "text": [
      "225 252\n",
      "saved /home/maciej/repos/pallet-recognition/data/jpeg_marked/localised/r_1_5.jpg\n",
      "/home/maciej/repos/pallet-recognition/data/jpeg_marked/ r_1_50.jpg\n",
      "height:  25 percent:  0.17524427831333203\n",
      "height:  40 percent:  0.18180998458776235\n"
     ]
    },
    {
     "name": "stderr",
     "output_type": "stream",
     "text": [
      "\r",
      " 55%|█████▌    | 47/85 [12:40<10:28, 16.55s/it]"
     ]
    },
    {
     "name": "stdout",
     "output_type": "stream",
     "text": [
      "135 339\n",
      "saved /home/maciej/repos/pallet-recognition/data/jpeg_marked/localised/r_1_50.jpg\n",
      "/home/maciej/repos/pallet-recognition/data/jpeg_marked/ r_1_51.jpg\n",
      "height:  25 percent:  0.21942028985507248\n"
     ]
    },
    {
     "name": "stderr",
     "output_type": "stream",
     "text": [
      "\r",
      " 56%|█████▋    | 48/85 [12:57<10:16, 16.66s/it]"
     ]
    },
    {
     "name": "stdout",
     "output_type": "stream",
     "text": [
      "90 201\n",
      "saved /home/maciej/repos/pallet-recognition/data/jpeg_marked/localised/r_1_51.jpg\n",
      "/home/maciej/repos/pallet-recognition/data/jpeg_marked/ r_1_52.jpg\n",
      "height:  25 percent:  0.21355367565086236\n",
      "height:  28 percent:  0.21981566820276496\n",
      "height:  31 percent:  0.22589948082258662\n",
      "height:  46 percent:  0.22622995902428292\n"
     ]
    },
    {
     "name": "stderr",
     "output_type": "stream",
     "text": [
      "\r",
      " 58%|█████▊    | 49/85 [13:14<09:58, 16.62s/it]"
     ]
    },
    {
     "name": "stdout",
     "output_type": "stream",
     "text": [
      "147 300\n",
      "saved /home/maciej/repos/pallet-recognition/data/jpeg_marked/localised/r_1_52.jpg\n",
      "/home/maciej/repos/pallet-recognition/data/jpeg_marked/ r_1_53.jpg\n",
      "height:  25 percent:  0.22915207554593742\n",
      "height:  28 percent:  0.24037660132736532\n",
      "height:  31 percent:  0.2590201121708999\n",
      "height:  34 percent:  0.28790358846835823\n",
      "height:  37 percent:  0.3011192689746096\n"
     ]
    },
    {
     "name": "stderr",
     "output_type": "stream",
     "text": [
      "\r",
      " 59%|█████▉    | 50/85 [13:30<09:42, 16.65s/it]"
     ]
    },
    {
     "name": "stdout",
     "output_type": "stream",
     "text": [
      "183 285\n",
      "saved /home/maciej/repos/pallet-recognition/data/jpeg_marked/localised/r_1_53.jpg\n",
      "/home/maciej/repos/pallet-recognition/data/jpeg_marked/ r_1_54.jpg\n",
      "height:  25 percent:  0.1752980523313004\n",
      "height:  31 percent:  0.20400561449886281\n"
     ]
    },
    {
     "name": "stderr",
     "output_type": "stream",
     "text": [
      "\r",
      " 60%|██████    | 51/85 [13:47<09:28, 16.73s/it]"
     ]
    },
    {
     "name": "stdout",
     "output_type": "stream",
     "text": [
      "201 270\n",
      "saved /home/maciej/repos/pallet-recognition/data/jpeg_marked/localised/r_1_54.jpg\n",
      "/home/maciej/repos/pallet-recognition/data/jpeg_marked/ r_1_55.jpg\n",
      "height:  25 percent:  0.23452554265853492\n"
     ]
    },
    {
     "name": "stderr",
     "output_type": "stream",
     "text": [
      "\r",
      " 61%|██████    | 52/85 [14:04<09:12, 16.75s/it]"
     ]
    },
    {
     "name": "stdout",
     "output_type": "stream",
     "text": [
      "204 264\n",
      "saved /home/maciej/repos/pallet-recognition/data/jpeg_marked/localised/r_1_55.jpg\n",
      "/home/maciej/repos/pallet-recognition/data/jpeg_marked/ r_1_56.jpg\n",
      "height:  25 percent:  0.16711784379303563\n"
     ]
    },
    {
     "name": "stderr",
     "output_type": "stream",
     "text": [
      "\r",
      " 62%|██████▏   | 53/85 [14:21<08:58, 16.84s/it]"
     ]
    },
    {
     "name": "stdout",
     "output_type": "stream",
     "text": [
      "168 144\n",
      "saved /home/maciej/repos/pallet-recognition/data/jpeg_marked/localised/r_1_56.jpg\n",
      "/home/maciej/repos/pallet-recognition/data/jpeg_marked/ r_1_57.jpg\n",
      "height:  25 percent:  0.17154174044199622\n",
      "height:  28 percent:  0.1802438647939497\n",
      "height:  31 percent:  0.18072524083401803\n",
      "height:  37 percent:  0.18512217852840226\n",
      "height:  40 percent:  0.20311680728347395\n"
     ]
    },
    {
     "name": "stderr",
     "output_type": "stream",
     "text": [
      "\r",
      " 64%|██████▎   | 54/85 [14:37<08:38, 16.72s/it]"
     ]
    },
    {
     "name": "stdout",
     "output_type": "stream",
     "text": [
      "222 249\n",
      "saved /home/maciej/repos/pallet-recognition/data/jpeg_marked/localised/r_1_57.jpg\n",
      "/home/maciej/repos/pallet-recognition/data/jpeg_marked/ r_1_58.jpg\n",
      "height:  25 percent:  0.13333333333333333\n",
      "height:  37 percent:  0.15253790375741597\n"
     ]
    },
    {
     "name": "stderr",
     "output_type": "stream",
     "text": [
      "\r",
      " 65%|██████▍   | 55/85 [14:54<08:23, 16.79s/it]"
     ]
    },
    {
     "name": "stdout",
     "output_type": "stream",
     "text": [
      "0 246\n",
      "saved /home/maciej/repos/pallet-recognition/data/jpeg_marked/localised/r_1_58.jpg\n",
      "/home/maciej/repos/pallet-recognition/data/jpeg_marked/ r_1_59.jpg\n",
      "height:  25 percent:  0.14782608695652175\n",
      "height:  28 percent:  0.15853526778823893\n"
     ]
    },
    {
     "name": "stderr",
     "output_type": "stream",
     "text": [
      "\r",
      " 66%|██████▌   | 56/85 [15:11<08:04, 16.71s/it]"
     ]
    },
    {
     "name": "stdout",
     "output_type": "stream",
     "text": [
      "177 174\n",
      "saved /home/maciej/repos/pallet-recognition/data/jpeg_marked/localised/r_1_59.jpg\n",
      "/home/maciej/repos/pallet-recognition/data/jpeg_marked/ r_1_6.jpg\n",
      "height:  25 percent:  0.40084333398911404\n",
      "height:  31 percent:  0.46096792055156643\n"
     ]
    },
    {
     "name": "stderr",
     "output_type": "stream",
     "text": [
      "\r",
      " 67%|██████▋   | 57/85 [15:27<07:45, 16.61s/it]"
     ]
    },
    {
     "name": "stdout",
     "output_type": "stream",
     "text": [
      "225 252\n",
      "saved /home/maciej/repos/pallet-recognition/data/jpeg_marked/localised/r_1_6.jpg\n",
      "/home/maciej/repos/pallet-recognition/data/jpeg_marked/ r_1_60.jpg\n",
      "height:  25 percent:  0.15072463768115943\n",
      "height:  31 percent:  0.16451211017039974\n",
      "height:  34 percent:  0.18006883604505633\n",
      "height:  37 percent:  0.1834273634441843\n",
      "height:  40 percent:  0.1871808316252761\n"
     ]
    },
    {
     "name": "stderr",
     "output_type": "stream",
     "text": [
      "\r",
      " 68%|██████▊   | 58/85 [15:44<07:30, 16.69s/it]"
     ]
    },
    {
     "name": "stdout",
     "output_type": "stream",
     "text": [
      "126 243\n",
      "saved /home/maciej/repos/pallet-recognition/data/jpeg_marked/localised/r_1_60.jpg\n",
      "/home/maciej/repos/pallet-recognition/data/jpeg_marked/ r_1_61.jpg\n",
      "height:  25 percent:  0.18572234244868516\n",
      "height:  28 percent:  0.19708839547549226\n",
      "height:  31 percent:  0.23514881696614628\n",
      "height:  34 percent:  0.23779724655819776\n",
      "height:  37 percent:  0.24214625053985858\n",
      "height:  40 percent:  0.24591496258162926\n"
     ]
    },
    {
     "name": "stderr",
     "output_type": "stream",
     "text": [
      "\r",
      " 69%|██████▉   | 59/85 [16:01<07:17, 16.81s/it]"
     ]
    },
    {
     "name": "stdout",
     "output_type": "stream",
     "text": [
      "135 243\n",
      "saved /home/maciej/repos/pallet-recognition/data/jpeg_marked/localised/r_1_61.jpg\n",
      "/home/maciej/repos/pallet-recognition/data/jpeg_marked/ r_1_62.jpg\n",
      "height:  25 percent:  0.1830546265328874\n",
      "height:  28 percent:  0.22185522457169315\n",
      "height:  31 percent:  0.2591548184665214\n"
     ]
    },
    {
     "name": "stderr",
     "output_type": "stream",
     "text": [
      "\r",
      " 71%|███████   | 60/85 [16:17<06:54, 16.60s/it]"
     ]
    },
    {
     "name": "stdout",
     "output_type": "stream",
     "text": [
      "246 243\n",
      "saved /home/maciej/repos/pallet-recognition/data/jpeg_marked/localised/r_1_62.jpg\n",
      "/home/maciej/repos/pallet-recognition/data/jpeg_marked/ r_1_63.jpg\n",
      "height:  25 percent:  0.27392484753098567\n",
      "height:  28 percent:  0.3243214340837431\n"
     ]
    },
    {
     "name": "stderr",
     "output_type": "stream",
     "text": [
      "\r",
      " 72%|███████▏  | 61/85 [16:35<06:42, 16.77s/it]"
     ]
    },
    {
     "name": "stdout",
     "output_type": "stream",
     "text": [
      "255 243\n",
      "saved /home/maciej/repos/pallet-recognition/data/jpeg_marked/localised/r_1_63.jpg\n",
      "/home/maciej/repos/pallet-recognition/data/jpeg_marked/ r_1_64.jpg\n",
      "height:  25 percent:  0.26155288871401405\n",
      "height:  28 percent:  0.30162833770643616\n",
      "height:  31 percent:  0.3865906952928709\n"
     ]
    },
    {
     "name": "stderr",
     "output_type": "stream",
     "text": [
      "\r",
      " 73%|███████▎  | 62/85 [16:51<06:22, 16.65s/it]"
     ]
    },
    {
     "name": "stdout",
     "output_type": "stream",
     "text": [
      "87 240\n",
      "saved /home/maciej/repos/pallet-recognition/data/jpeg_marked/localised/r_1_64.jpg\n",
      "/home/maciej/repos/pallet-recognition/data/jpeg_marked/ r_1_65.jpg\n",
      "height:  25 percent:  0.3319220932520165\n",
      "height:  28 percent:  0.3804797918550041\n",
      "height:  31 percent:  0.42949651103251996\n"
     ]
    },
    {
     "name": "stderr",
     "output_type": "stream",
     "text": [
      "\r",
      " 74%|███████▍  | 63/85 [17:07<06:03, 16.50s/it]"
     ]
    },
    {
     "name": "stdout",
     "output_type": "stream",
     "text": [
      "129 243\n",
      "saved /home/maciej/repos/pallet-recognition/data/jpeg_marked/localised/r_1_65.jpg\n",
      "/home/maciej/repos/pallet-recognition/data/jpeg_marked/ r_1_66.jpg\n",
      "height:  25 percent:  0.34351760771198114\n",
      "height:  28 percent:  0.3909123982977973\n"
     ]
    },
    {
     "name": "stderr",
     "output_type": "stream",
     "text": [
      "\r",
      " 75%|███████▌  | 64/85 [17:22<05:38, 16.13s/it]"
     ]
    },
    {
     "name": "stdout",
     "output_type": "stream",
     "text": [
      "210 246\n",
      "saved /home/maciej/repos/pallet-recognition/data/jpeg_marked/localised/r_1_66.jpg\n",
      "/home/maciej/repos/pallet-recognition/data/jpeg_marked/ r_1_67.jpg\n",
      "height:  25 percent:  0.2530815135418716\n",
      "height:  28 percent:  0.2828467797058629\n"
     ]
    },
    {
     "name": "stderr",
     "output_type": "stream",
     "text": [
      "\r",
      " 76%|███████▋  | 65/85 [17:39<05:24, 16.21s/it]"
     ]
    },
    {
     "name": "stdout",
     "output_type": "stream",
     "text": [
      "288 246\n",
      "saved /home/maciej/repos/pallet-recognition/data/jpeg_marked/localised/r_1_67.jpg\n",
      "/home/maciej/repos/pallet-recognition/data/jpeg_marked/ r_1_7.jpg\n",
      "height:  25 percent:  0.2857236540100991\n",
      "height:  28 percent:  0.30015875465790576\n",
      "height:  31 percent:  0.4060747329689566\n",
      "height:  34 percent:  0.4244782495757104\n"
     ]
    },
    {
     "name": "stderr",
     "output_type": "stream",
     "text": [
      "\r",
      " 78%|███████▊  | 66/85 [17:54<05:02, 15.93s/it]"
     ]
    },
    {
     "name": "stdout",
     "output_type": "stream",
     "text": [
      "405 252\n",
      "saved /home/maciej/repos/pallet-recognition/data/jpeg_marked/localised/r_1_7.jpg\n",
      "/home/maciej/repos/pallet-recognition/data/jpeg_marked/ r_1_8.jpg\n",
      "height:  25 percent:  0.3683428421535838\n",
      "height:  31 percent:  0.3753066242751164\n",
      "height:  34 percent:  0.38861576868542613\n"
     ]
    },
    {
     "name": "stderr",
     "output_type": "stream",
     "text": [
      "\r",
      " 79%|███████▉  | 67/85 [18:09<04:43, 15.74s/it]"
     ]
    },
    {
     "name": "stdout",
     "output_type": "stream",
     "text": [
      "405 252\n",
      "saved /home/maciej/repos/pallet-recognition/data/jpeg_marked/localised/r_1_8.jpg\n",
      "/home/maciej/repos/pallet-recognition/data/jpeg_marked/ r_1_9.jpg\n",
      "height:  25 percent:  0.3779828185454784\n",
      "height:  31 percent:  0.42635956608199665\n"
     ]
    },
    {
     "name": "stderr",
     "output_type": "stream",
     "text": [
      "\r",
      " 80%|████████  | 68/85 [18:25<04:27, 15.73s/it]"
     ]
    },
    {
     "name": "stdout",
     "output_type": "stream",
     "text": [
      "222 252\n",
      "saved /home/maciej/repos/pallet-recognition/data/jpeg_marked/localised/r_1_9.jpg\n",
      "/home/maciej/repos/pallet-recognition/data/jpeg_marked/ r_2_0.jpg\n",
      "height:  25 percent:  0.27967866745360354\n",
      "height:  28 percent:  0.34580843604612704\n",
      "height:  31 percent:  0.3503026054132581\n",
      "height:  37 percent:  0.3925442684063374\n",
      "height:  52 percent:  0.4051685949551803\n"
     ]
    },
    {
     "name": "stderr",
     "output_type": "stream",
     "text": [
      "\r",
      " 81%|████████  | 69/85 [18:40<04:10, 15.63s/it]"
     ]
    },
    {
     "name": "stdout",
     "output_type": "stream",
     "text": [
      "282 282\n",
      "saved /home/maciej/repos/pallet-recognition/data/jpeg_marked/localised/r_2_0.jpg\n",
      "/home/maciej/repos/pallet-recognition/data/jpeg_marked/ r_2_1.jpg\n",
      "height:  25 percent:  0.31476162371303035\n",
      "height:  28 percent:  0.3263213017881948\n",
      "height:  31 percent:  0.34766652972767004\n",
      "height:  34 percent:  0.37086016051647824\n"
     ]
    },
    {
     "name": "stderr",
     "output_type": "stream",
     "text": [
      "\r",
      " 82%|████████▏ | 70/85 [18:56<03:53, 15.60s/it]"
     ]
    },
    {
     "name": "stdout",
     "output_type": "stream",
     "text": [
      "69 231\n",
      "saved /home/maciej/repos/pallet-recognition/data/jpeg_marked/localised/r_2_1.jpg\n",
      "/home/maciej/repos/pallet-recognition/data/jpeg_marked/ r_2_10.jpg\n",
      "height:  25 percent:  0.3557649681946357\n",
      "height:  28 percent:  0.364390448261416\n",
      "height:  31 percent:  0.379204176044011\n",
      "height:  67 percent:  0.39839507132739427\n",
      "height:  70 percent:  0.4293895322890168\n",
      "height:  73 percent:  0.4324236207619173\n"
     ]
    },
    {
     "name": "stderr",
     "output_type": "stream",
     "text": [
      "\r",
      " 84%|████████▎ | 71/85 [19:12<03:39, 15.66s/it]"
     ]
    },
    {
     "name": "stdout",
     "output_type": "stream",
     "text": [
      "177 285\n",
      "saved /home/maciej/repos/pallet-recognition/data/jpeg_marked/localised/r_2_10.jpg\n",
      "/home/maciej/repos/pallet-recognition/data/jpeg_marked/ r_2_11.jpg\n",
      "height:  25 percent:  0.29688766476490264\n",
      "height:  28 percent:  0.34867704451745196\n",
      "height:  37 percent:  0.36478667060668746\n",
      "height:  70 percent:  0.37578044807426253\n",
      "height:  73 percent:  0.4137949543746645\n",
      "height:  76 percent:  0.45363537009676946\n",
      "height:  79 percent:  0.4801786479700864\n",
      "height:  82 percent:  0.48402562648166736\n"
     ]
    },
    {
     "name": "stderr",
     "output_type": "stream",
     "text": [
      "\r",
      " 85%|████████▍ | 72/85 [19:28<03:24, 15.73s/it]"
     ]
    },
    {
     "name": "stdout",
     "output_type": "stream",
     "text": [
      "135 285\n",
      "saved /home/maciej/repos/pallet-recognition/data/jpeg_marked/localised/r_2_11.jpg\n",
      "/home/maciej/repos/pallet-recognition/data/jpeg_marked/ r_2_12.jpg\n",
      "height:  25 percent:  0.28826677159157976\n",
      "height:  28 percent:  0.3029810596873415\n",
      "height:  34 percent:  0.3089372379954024\n",
      "height:  37 percent:  0.35577114540949695\n",
      "height:  40 percent:  0.3570796987463654\n",
      "height:  79 percent:  0.3675928308368443\n",
      "height:  82 percent:  0.4084710855414202\n",
      "height:  85 percent:  0.438807227314454\n",
      "height:  88 percent:  0.4581457598451789\n",
      "height:  91 percent:  0.47818100491367815\n"
     ]
    },
    {
     "name": "stderr",
     "output_type": "stream",
     "text": [
      "\r",
      " 86%|████████▌ | 73/85 [19:43<03:08, 15.72s/it]"
     ]
    },
    {
     "name": "stdout",
     "output_type": "stream",
     "text": [
      "93 285\n",
      "saved /home/maciej/repos/pallet-recognition/data/jpeg_marked/localised/r_2_12.jpg\n",
      "/home/maciej/repos/pallet-recognition/data/jpeg_marked/ r_2_13.jpg\n",
      "height:  25 percent:  0.33748835989245196\n",
      "height:  40 percent:  0.36649566232899566\n",
      "height:  46 percent:  0.3873021111202779\n"
     ]
    },
    {
     "name": "stderr",
     "output_type": "stream",
     "text": [
      "\r",
      " 87%|████████▋ | 74/85 [19:59<02:52, 15.69s/it]"
     ]
    },
    {
     "name": "stdout",
     "output_type": "stream",
     "text": [
      "351 303\n",
      "saved /home/maciej/repos/pallet-recognition/data/jpeg_marked/localised/r_2_13.jpg\n",
      "/home/maciej/repos/pallet-recognition/data/jpeg_marked/ r_2_14.jpg\n",
      "height:  25 percent:  0.2643373335956456\n",
      "height:  28 percent:  0.29555376711573655\n",
      "height:  31 percent:  0.33358488431631717\n",
      "height:  34 percent:  0.35083512922736687\n",
      "height:  49 percent:  0.3535277747462621\n"
     ]
    },
    {
     "name": "stderr",
     "output_type": "stream",
     "text": [
      "\r",
      " 88%|████████▊ | 75/85 [20:14<02:36, 15.63s/it]"
     ]
    },
    {
     "name": "stdout",
     "output_type": "stream",
     "text": [
      "0 312\n",
      "saved /home/maciej/repos/pallet-recognition/data/jpeg_marked/localised/r_2_14.jpg\n",
      "/home/maciej/repos/pallet-recognition/data/jpeg_marked/ r_2_15.jpg\n",
      "height:  25 percent:  0.28449340940389534\n"
     ]
    },
    {
     "name": "stderr",
     "output_type": "stream",
     "text": [
      "\r",
      " 89%|████████▉ | 76/85 [20:30<02:20, 15.64s/it]"
     ]
    },
    {
     "name": "stdout",
     "output_type": "stream",
     "text": [
      "72 336\n",
      "saved /home/maciej/repos/pallet-recognition/data/jpeg_marked/localised/r_2_15.jpg\n",
      "/home/maciej/repos/pallet-recognition/data/jpeg_marked/ r_2_16.jpg\n",
      "height:  25 percent:  0.25179356023345795\n"
     ]
    },
    {
     "name": "stderr",
     "output_type": "stream",
     "text": [
      "\r",
      " 91%|█████████ | 77/85 [20:46<02:05, 15.64s/it]"
     ]
    },
    {
     "name": "stdout",
     "output_type": "stream",
     "text": [
      "399 249\n",
      "saved /home/maciej/repos/pallet-recognition/data/jpeg_marked/localised/r_2_16.jpg\n",
      "/home/maciej/repos/pallet-recognition/data/jpeg_marked/ r_2_2.jpg\n",
      "height:  25 percent:  0.2765715784641616\n",
      "height:  28 percent:  0.28739223425131744\n",
      "height:  31 percent:  0.33246481263172933\n",
      "height:  34 percent:  0.35095679484507397\n",
      "height:  52 percent:  0.3862896080883885\n"
     ]
    },
    {
     "name": "stderr",
     "output_type": "stream",
     "text": [
      "\r",
      " 92%|█████████▏| 78/85 [21:02<01:51, 15.88s/it]"
     ]
    },
    {
     "name": "stdout",
     "output_type": "stream",
     "text": [
      "279 282\n",
      "saved /home/maciej/repos/pallet-recognition/data/jpeg_marked/localised/r_2_2.jpg\n",
      "/home/maciej/repos/pallet-recognition/data/jpeg_marked/ r_2_3.jpg\n",
      "height:  25 percent:  0.3588353334644895\n",
      "height:  34 percent:  0.3714408956642891\n",
      "height:  49 percent:  0.39383935392338754\n",
      "height:  52 percent:  0.43819053575151135\n",
      "height:  55 percent:  0.4425452064639817\n"
     ]
    },
    {
     "name": "stderr",
     "output_type": "stream",
     "text": [
      "\r",
      " 93%|█████████▎| 79/85 [21:19<01:37, 16.23s/it]"
     ]
    },
    {
     "name": "stdout",
     "output_type": "stream",
     "text": [
      "276 282\n",
      "saved /home/maciej/repos/pallet-recognition/data/jpeg_marked/localised/r_2_3.jpg\n",
      "/home/maciej/repos/pallet-recognition/data/jpeg_marked/ r_2_4.jpg\n",
      "height:  25 percent:  0.34150960718735657\n",
      "height:  37 percent:  0.3444907144318414\n",
      "height:  40 percent:  0.35579845718734604\n",
      "height:  52 percent:  0.41345828121742756\n",
      "height:  55 percent:  0.42660792364927846\n"
     ]
    },
    {
     "name": "stderr",
     "output_type": "stream",
     "text": [
      "\r",
      " 94%|█████████▍| 80/85 [21:36<01:22, 16.46s/it]"
     ]
    },
    {
     "name": "stdout",
     "output_type": "stream",
     "text": [
      "276 282\n",
      "saved /home/maciej/repos/pallet-recognition/data/jpeg_marked/localised/r_2_4.jpg\n",
      "/home/maciej/repos/pallet-recognition/data/jpeg_marked/ r_2_5.jpg\n",
      "height:  25 percent:  0.2757229982293921\n",
      "height:  28 percent:  0.29876524154962186\n",
      "height:  31 percent:  0.3523254325486133\n",
      "height:  34 percent:  0.3838110035000683\n"
     ]
    },
    {
     "name": "stderr",
     "output_type": "stream",
     "text": [
      "\r",
      " 95%|█████████▌| 81/85 [21:53<01:06, 16.58s/it]"
     ]
    },
    {
     "name": "stdout",
     "output_type": "stream",
     "text": [
      "66 231\n",
      "saved /home/maciej/repos/pallet-recognition/data/jpeg_marked/localised/r_2_5.jpg\n",
      "/home/maciej/repos/pallet-recognition/data/jpeg_marked/ r_2_6.jpg\n",
      "height:  25 percent:  0.3057564430454456\n",
      "height:  28 percent:  0.3125019293100787\n",
      "height:  31 percent:  0.3572961692804153\n",
      "height:  34 percent:  0.3696808510638298\n",
      "height:  52 percent:  0.37876863143631434\n",
      "height:  55 percent:  0.3944409137424367\n"
     ]
    },
    {
     "name": "stderr",
     "output_type": "stream",
     "text": [
      "\r",
      " 96%|█████████▋| 82/85 [22:09<00:49, 16.38s/it]"
     ]
    },
    {
     "name": "stdout",
     "output_type": "stream",
     "text": [
      "276 282\n",
      "saved /home/maciej/repos/pallet-recognition/data/jpeg_marked/localised/r_2_6.jpg\n",
      "/home/maciej/repos/pallet-recognition/data/jpeg_marked/ r_2_7.jpg\n",
      "height:  25 percent:  0.2867427372286707\n",
      "height:  37 percent:  0.2954792807946719\n",
      "height:  40 percent:  0.35135512496623605\n",
      "height:  52 percent:  0.3909197805920367\n",
      "height:  55 percent:  0.42282606752558793\n"
     ]
    },
    {
     "name": "stderr",
     "output_type": "stream",
     "text": [
      "\r",
      " 98%|█████████▊| 83/85 [22:25<00:32, 16.28s/it]"
     ]
    },
    {
     "name": "stdout",
     "output_type": "stream",
     "text": [
      "270 285\n",
      "saved /home/maciej/repos/pallet-recognition/data/jpeg_marked/localised/r_2_7.jpg\n",
      "/home/maciej/repos/pallet-recognition/data/jpeg_marked/ r_2_8.jpg\n",
      "height:  25 percent:  0.3349019607843137\n",
      "height:  55 percent:  0.36708690330477356\n",
      "height:  58 percent:  0.39917088159217096\n"
     ]
    },
    {
     "name": "stderr",
     "output_type": "stream",
     "text": [
      "\r",
      " 99%|█████████▉| 84/85 [22:41<00:16, 16.06s/it]"
     ]
    },
    {
     "name": "stdout",
     "output_type": "stream",
     "text": [
      "255 285\n",
      "saved /home/maciej/repos/pallet-recognition/data/jpeg_marked/localised/r_2_8.jpg\n",
      "/home/maciej/repos/pallet-recognition/data/jpeg_marked/ r_2_9.jpg\n",
      "height:  25 percent:  0.2730552823135943\n",
      "height:  28 percent:  0.3347738848587745\n",
      "height:  31 percent:  0.359941175770133\n",
      "height:  58 percent:  0.3785961414896947\n",
      "height:  61 percent:  0.4065397327731817\n",
      "height:  64 percent:  0.41758400311862176\n"
     ]
    },
    {
     "name": "stderr",
     "output_type": "stream",
     "text": [
      "100%|██████████| 85/85 [22:56<00:00, 16.20s/it]"
     ]
    },
    {
     "name": "stdout",
     "output_type": "stream",
     "text": [
      "216 285\n",
      "saved /home/maciej/repos/pallet-recognition/data/jpeg_marked/localised/r_2_9.jpg\n"
     ]
    },
    {
     "name": "stderr",
     "output_type": "stream",
     "text": [
      "\n"
     ]
    }
   ],
   "source": [
    "localize_all()"
   ]
  },
  {
   "cell_type": "code",
   "execution_count": null,
   "metadata": {},
   "outputs": [],
   "source": []
  }
 ],
 "metadata": {
  "kernelspec": {
   "display_name": "Python 3",
   "language": "python",
   "name": "python3"
  },
  "language_info": {
   "codemirror_mode": {
    "name": "ipython",
    "version": 3
   },
   "file_extension": ".py",
   "mimetype": "text/x-python",
   "name": "python",
   "nbconvert_exporter": "python",
   "pygments_lexer": "ipython3",
   "version": "3.6.9"
  }
 },
 "nbformat": 4,
 "nbformat_minor": 2
}
