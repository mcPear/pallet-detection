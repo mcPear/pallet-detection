{
 "cells": [
  {
   "cell_type": "code",
   "execution_count": 1,
   "metadata": {},
   "outputs": [
    {
     "name": "stdout",
     "output_type": "stream",
     "text": [
      "4.1.1\n"
     ]
    }
   ],
   "source": [
    "import cv2\n",
    "print(cv2.__version__)\n",
    "import numpy as np\n",
    "from sklearn.model_selection import StratifiedShuffleSplit\n",
    "from sklearn.naive_bayes import GaussianNB\n",
    "from sklearn.metrics import confusion_matrix\n",
    "from sklearn.ensemble import RandomForestClassifier\n",
    "import imutils\n",
    "import sys\n",
    "import numpy\n",
    "from os import listdir\n",
    "from os.path import isfile, join\n",
    "from tqdm import tqdm\n",
    "import pickle\n",
    "import matplotlib.pyplot as plt\n",
    "numpy.set_printoptions(threshold=sys.maxsize)\n",
    "\n",
    "%run commons.py"
   ]
  },
  {
   "cell_type": "markdown",
   "metadata": {},
   "source": [
    "# load Naive Bayes"
   ]
  },
  {
   "cell_type": "code",
   "execution_count": 2,
   "metadata": {},
   "outputs": [],
   "source": [
    "filename = 'naive_bayes_model.sav'\n",
    "gnb = pickle.load(open(filename, 'rb'))\n",
    "\n",
    "filename_blurred = 'blurred_naive_bayes_model.sav'\n",
    "gnb_blurred = pickle.load(open(filename_blurred, 'rb'))"
   ]
  },
  {
   "cell_type": "markdown",
   "metadata": {},
   "source": [
    "## Define pipeline functions"
   ]
  },
  {
   "cell_type": "code",
   "execution_count": 3,
   "metadata": {},
   "outputs": [],
   "source": [
    "def show(img):\n",
    " cv2.imshow('image',img)\n",
    " cv2.waitKey(0)\n",
    " cv2.destroyAllWindows()"
   ]
  },
  {
   "cell_type": "code",
   "execution_count": 4,
   "metadata": {
    "scrolled": true
   },
   "outputs": [],
   "source": [
    "def detect(img, model):\n",
    "    w,h,ch = img.shape\n",
    "    f = features(img, channels, False)\n",
    "    pred = model.predict(f)\n",
    "    img_pred = np.reshape(pred, (w,h,1))\n",
    "    return np.logical_not(img_pred)"
   ]
  },
  {
   "cell_type": "code",
   "execution_count": 5,
   "metadata": {},
   "outputs": [],
   "source": [
    "def median_filter(img):\n",
    "    kernel = np.ones((5,5),np.float32)/25\n",
    "    img = cv2.filter2D(img,-1,kernel)\n",
    "    return cv2.threshold(img,0.5,1.0,cv2.THRESH_BINARY)[1]"
   ]
  },
  {
   "cell_type": "code",
   "execution_count": 6,
   "metadata": {
    "scrolled": false
   },
   "outputs": [],
   "source": [
    "def rotate(img, angle):\n",
    "    return  1-imutils.rotate(1-img, angle)"
   ]
  },
  {
   "cell_type": "code",
   "execution_count": 7,
   "metadata": {},
   "outputs": [],
   "source": [
    "def odd(num):\n",
    "    return (num % 3) == 0"
   ]
  },
  {
   "cell_type": "code",
   "execution_count": 8,
   "metadata": {},
   "outputs": [],
   "source": [
    "def find_pallet_by_height(img, mask_height, max_row_ind, min_perc, mask_holes_loss):\n",
    "    results=[]\n",
    "    mask_height = mask_height\n",
    "    mask_width = int(mask_height * 5.556)\n",
    "    mask_size = mask_height * mask_width\n",
    "    hole_height = int(mask_height * 0.694)\n",
    "    hole_width = int(mask_height * 1.58)\n",
    "    hole_size = hole_height * hole_width\n",
    "    hole_1_x = int(mask_height * 0.694)\n",
    "    hole_1_y = int(mask_height * 0.306)\n",
    "    hole_2_x = int(mask_height * 3.281)\n",
    "    hole_2_y = hole_1_y\n",
    "    hole_loss_ratio = 2 if mask_holes_loss else 1\n",
    "    inverse_img = np.logical_not(img)\n",
    "    img_height, img_width = inverse_img.shape\n",
    "    for index, _ in np.ndenumerate(inverse_img):\n",
    "        x,y = index\n",
    "        y+=max_row_ind\n",
    "        if odd(x) and odd(y) and y+mask_height < img_height and x+mask_width < img_width:\n",
    "            frame_mask = inverse_img[y:y+mask_height, x:x+mask_width]\n",
    "            hole_1_y_ = y+hole_1_y\n",
    "            hole_2_y_ = y+hole_2_y\n",
    "            hole_1_x_ = x+hole_1_x\n",
    "            hole_2_x_ = x+hole_2_x\n",
    "            hole_1_mask = inverse_img[hole_1_y_:hole_1_y_+hole_height, hole_1_x_:hole_1_x_+hole_width]\n",
    "            hole_2_mask = inverse_img[hole_2_y_:hole_2_y_+hole_height, hole_2_x_:hole_2_x_+hole_width]\n",
    "            frame_mask_perc = np.sum(frame_mask) / mask_size\n",
    "            hole_1_mask_perc = np.sum(hole_1_mask) / hole_size\n",
    "            hole_2_mask_perc = np.sum(hole_2_mask) / hole_size\n",
    "            perc = frame_mask_perc - hole_loss_ratio*hole_1_mask_perc - hole_loss_ratio*hole_2_mask_perc\n",
    "            result=(frame_mask, perc, (x,y), mask_height)\n",
    "            if perc >= min_perc:\n",
    "                results.append(result)\n",
    "    return results\n",
    "\n",
    "def mean_of_result_centers(results):\n",
    "    centers=[np.array(x[2]) for x in results]\n",
    "    mean = tuple(np.mean(centers, axis=0))\n",
    "    return mean\n",
    "\n",
    "def resolve_redundancy(results):\n",
    "    bins=dict()\n",
    "    acceptance_thr = 50\n",
    "    for result in results:\n",
    "        (frame_mask, perc, center, mask_height) = result\n",
    "        matching_bins = [bin_key for bin_key in bins.keys() if dist(center, bin_key)<acceptance_thr]\n",
    "        if matching_bins:\n",
    "            matching_bin=matching_bins[0]\n",
    "            all_bin_results = bins.pop(matching_bin)+[result]\n",
    "            mean_center=mean_of_result_centers(all_bin_results)\n",
    "            bins[mean_center] = all_bin_results\n",
    "        else:\n",
    "            bins[center]=[result]\n",
    "    results=[max(bin_results, key=lambda x: x[1]) for bin_results in bins.values()]\n",
    "    return results\n",
    "\n",
    "def get_optim_row(img, margin, visualize):\n",
    "    hist = [1.0 - np.mean(row) for row in img]\n",
    "    max_row_ind = np.argmax(hist)\n",
    "    optim_row_ind = max(0,max_row_ind-margin)\n",
    "    if visualize:\n",
    "        rows = np.arange(len(hist))\n",
    "        print(\"optim_row_ind\",optim_row_ind)\n",
    "        plt.bar(rows, hist)\n",
    "        plt.show()\n",
    "    return optim_row_ind\n",
    "\n",
    "def find_pallet(img, min_height, max_height, step, min_perc, dense_row_margin, mask_holes_loss):\n",
    "    results=[]\n",
    "    most_dense_row=get_optim_row(img, dense_row_margin, visualize=False)\n",
    "    for mask_height in range(min_height, max_height, step):\n",
    "        mask_height_results = find_pallet_by_height(img, mask_height, most_dense_row, min_perc, mask_holes_loss)\n",
    "        results.extend(mask_height_results)\n",
    "    return resolve_redundancy(results)\n",
    "\n",
    "def dist(a,b): #fixme copy from evaluation.ipynb\n",
    "    return np.linalg.norm(np.array(a)-np.array(b))\n",
    "\n",
    "def draw_pallets(img_full, results):\n",
    "    color = (0,255,0)\n",
    "    for result in results:\n",
    "        (frame_mask, perc, (x,y), mask_height)=result \n",
    "        mask_width = int(mask_height * 5.556)\n",
    "        img_full[y:y+mask_height, x:x+1]=color\n",
    "        img_full[y:y+mask_height, x+mask_width-1:x+mask_width]=color\n",
    "        img_full[y:y+1, x:x+mask_width]=color\n",
    "        img_full[y+mask_height-1:y+mask_height, x:x+mask_width]=color\n",
    "    return img_full\n",
    "\n",
    "def calculate_centers(results):\n",
    "    centers=[]\n",
    "    for result in results:\n",
    "        (frame_mask, perc, (x,y), mask_height)=result \n",
    "        print(perc)\n",
    "        mask_width = int(mask_height * 5.556)\n",
    "        x = x + mask_width/2\n",
    "        y = y + mask_height/2\n",
    "        center = (x,y)\n",
    "        centers.append(center)\n",
    "    return centers\n",
    "\n",
    "\n",
    "def denoising(img, with_save, kernel):\n",
    "    img = 1-img\n",
    "    kernel = np.ones(kernel, np.uint8) \n",
    "    img_erosion = cv2.erode(img, kernel, iterations=1)\n",
    "    if with_save:\n",
    "        save(1-img_erosion, \"img_erosion.jpg\")\n",
    "    img_dilation = cv2.dilate(img_erosion, kernel, iterations=1)\n",
    "    if with_save:\n",
    "        save(1-img_dilation, \"img_dilation.jpg\")\n",
    "    return 1-img_dilation\n",
    "\n",
    "def filling(img, with_save, kernel):\n",
    "    img = 1-img\n",
    "    kernel = np.ones(kernel, np.uint8) \n",
    "    img_dilation = cv2.dilate(img, kernel, iterations=1)\n",
    "    if with_save:\n",
    "        save(1-img_dilation, \"img_dilation_2.jpg\")\n",
    "    img_erosion = cv2.erode(img_dilation, kernel, iterations=1)\n",
    "    if with_save:\n",
    "        save(1-img_erosion, \"img_erosion_2.jpg\")\n",
    "    return 1-img_erosion"
   ]
  },
  {
   "cell_type": "code",
   "execution_count": 9,
   "metadata": {},
   "outputs": [],
   "source": [
    "def save(img, file, binary=True):\n",
    "    res = cv2.imwrite(file, img * 255 if binary else img)\n",
    "    print(\"saved\" if res else \"save error\", file)"
   ]
  },
  {
   "cell_type": "markdown",
   "metadata": {},
   "source": [
    "# Set parameters"
   ]
  },
  {
   "cell_type": "code",
   "execution_count": 68,
   "metadata": {},
   "outputs": [],
   "source": [
    "MIN_MASK_WIDTH = 25\n",
    "MAX_MASK_WIDTH = 100\n",
    "MASK_WIDTH_STEP = 3\n",
    "CONF_TH = 0.28\n",
    "KERNEL=(7,7)\n",
    "DENSE_ROW_MARGIN=30\n",
    "ANGLE=0\n",
    "MASK_HOLES_LOSS=False"
   ]
  },
  {
   "cell_type": "markdown",
   "metadata": {},
   "source": [
    "## Run pipeline and save results"
   ]
  },
  {
   "cell_type": "code",
   "execution_count": 54,
   "metadata": {
    "scrolled": true
   },
   "outputs": [
    {
     "name": "stdout",
     "output_type": "stream",
     "text": [
      "saved img_classified.jpg\n",
      "saved img_erosion.jpg\n",
      "saved img_dilation.jpg\n",
      "saved img_dilation_2.jpg\n",
      "saved img_erosion_2.jpg\n",
      "Found pallets count: 4\n",
      "saved img_full_marked.jpg\n",
      "0.31776098786601414\n",
      "0.3664666166541635\n",
      "0.28266143916931613\n",
      "0.2894946923374173\n",
      "centers [(158.0, 264.5), (335.0, 258.5), (542.0, 252.5), (246.5, 264.5)]\n"
     ]
    }
   ],
   "source": [
    "img_full = cv2.imread('r_1_63.jpg')\n",
    "img_blurred = cv2.medianBlur(img_full, 7)\n",
    "\n",
    "img_classified = detect(img_full, gnb).astype('float32')\n",
    "save(img_classified, \"img_classified.jpg\")\n",
    "\n",
    "# img_filtered = median_filter(img_classified)\n",
    "# save(img_filtered, \"img_filtered.jpg\")\n",
    "img_denoised = denoising(img_classified, True, KERNEL)\n",
    "img_filled = filling(img_denoised, True, KERNEL)\n",
    "\n",
    "results = find_pallet(img_filled, MIN_MASK_WIDTH, MAX_MASK_WIDTH, MASK_WIDTH_STEP, CONF_TH, DENSE_ROW_MARGIN, MASK_HOLES_LOSS)\n",
    "print(\"Found pallets count:\", len(results))\n",
    "\n",
    "img_full_marked = draw_pallets(img_full, results)\n",
    "save(img_full_marked, \"img_full_marked.jpg\", False)\n",
    "centers = calculate_centers(results)\n",
    "print(\"centers\", centers)"
   ]
  },
  {
   "cell_type": "markdown",
   "metadata": {},
   "source": [
    "# Pipeline as function"
   ]
  },
  {
   "cell_type": "code",
   "execution_count": 75,
   "metadata": {},
   "outputs": [],
   "source": [
    "def localise(path,filename):\n",
    "    img_full = cv2.imread(path+filename)\n",
    "    img_blurred = cv2.medianBlur(img_full, 7)\n",
    "    img_classified = detect(img_full, gnb).astype('float32')\n",
    "    img_denoised = denoising(img_classified, False, KERNEL)\n",
    "    img_filled = filling(img_denoised, False, KERNEL)\n",
    "    #img_filtered = median_filter(img_filled)\n",
    "    results = find_pallet(img_filled, MIN_MASK_WIDTH, MAX_MASK_WIDTH, MASK_WIDTH_STEP, CONF_TH, DENSE_ROW_MARGIN, MASK_HOLES_LOSS)\n",
    "    img_full_marked = draw_pallets(img_full, results)\n",
    "    save(img_full_marked, path+\"localised/\"+filename, False)\n",
    "    return calculate_centers(results)"
   ]
  },
  {
   "cell_type": "code",
   "execution_count": 76,
   "metadata": {},
   "outputs": [],
   "source": [
    "def localize_all():\n",
    "    centers = dict()\n",
    "    path = \"/home/maciej/repos/pallet-recognition/data/jpeg_marked/equalized/\"\n",
    "    filenames = [f for f in sorted(listdir(path)) if isfile(join(path, f))]\n",
    "    for i in tqdm(range(len(filenames))):\n",
    "        filename = filenames[i]\n",
    "        print(path, filename)\n",
    "        centers[filename]=localise(path,filename)\n",
    "    np.save(path+\"eval/pred_centers\", centers)"
   ]
  },
  {
   "cell_type": "code",
   "execution_count": null,
   "metadata": {
    "scrolled": true
   },
   "outputs": [
    {
     "name": "stderr",
     "output_type": "stream",
     "text": [
      "\n",
      "  0%|          | 0/100 [00:00<?, ?it/s]\u001b[A"
     ]
    },
    {
     "name": "stdout",
     "output_type": "stream",
     "text": [
      "/home/maciej/repos/pallet-recognition/data/jpeg_marked/equalized/ r_1_0.jpg\n"
     ]
    },
    {
     "name": "stderr",
     "output_type": "stream",
     "text": [
      "\n",
      "  1%|          | 1/100 [00:12<19:48, 12.01s/it]\u001b[A"
     ]
    },
    {
     "name": "stdout",
     "output_type": "stream",
     "text": [
      "saved /home/maciej/repos/pallet-recognition/data/jpeg_marked/equalized/localised/r_1_0.jpg\n",
      "0.2804212958001405\n",
      "/home/maciej/repos/pallet-recognition/data/jpeg_marked/equalized/ r_1_1.jpg\n"
     ]
    },
    {
     "name": "stderr",
     "output_type": "stream",
     "text": [
      "\n",
      "  2%|▏         | 2/100 [00:23<19:35, 12.00s/it]\u001b[A"
     ]
    },
    {
     "name": "stdout",
     "output_type": "stream",
     "text": [
      "saved /home/maciej/repos/pallet-recognition/data/jpeg_marked/equalized/localised/r_1_1.jpg\n",
      "/home/maciej/repos/pallet-recognition/data/jpeg_marked/equalized/ r_1_10.jpg\n"
     ]
    },
    {
     "name": "stderr",
     "output_type": "stream",
     "text": [
      "\n",
      "  3%|▎         | 3/100 [00:36<19:25, 12.02s/it]\u001b[A"
     ]
    },
    {
     "name": "stdout",
     "output_type": "stream",
     "text": [
      "saved /home/maciej/repos/pallet-recognition/data/jpeg_marked/equalized/localised/r_1_10.jpg\n",
      "/home/maciej/repos/pallet-recognition/data/jpeg_marked/equalized/ r_1_11.jpg\n"
     ]
    },
    {
     "name": "stderr",
     "output_type": "stream",
     "text": [
      "\n",
      "  4%|▍         | 4/100 [00:48<19:31, 12.20s/it]\u001b[A"
     ]
    },
    {
     "name": "stdout",
     "output_type": "stream",
     "text": [
      "saved /home/maciej/repos/pallet-recognition/data/jpeg_marked/equalized/localised/r_1_11.jpg\n",
      "/home/maciej/repos/pallet-recognition/data/jpeg_marked/equalized/ r_1_12.jpg\n"
     ]
    }
   ],
   "source": [
    "localize_all()"
   ]
  },
  {
   "cell_type": "markdown",
   "metadata": {},
   "source": [
    "# Equalizer"
   ]
  },
  {
   "cell_type": "code",
   "execution_count": 66,
   "metadata": {},
   "outputs": [
    {
     "name": "stderr",
     "output_type": "stream",
     "text": [
      " 11%|█         | 11/100 [00:00<00:00, 102.51it/s]"
     ]
    },
    {
     "name": "stdout",
     "output_type": "stream",
     "text": [
      "/home/maciej/repos/pallet-recognition/data/jpeg_marked/ r_1_0.jpg\n",
      "saved /home/maciej/repos/pallet-recognition/data/jpeg_marked/equalized/r_1_0.jpg\n",
      "/home/maciej/repos/pallet-recognition/data/jpeg_marked/ r_1_1.jpg\n",
      "saved /home/maciej/repos/pallet-recognition/data/jpeg_marked/equalized/r_1_1.jpg\n",
      "/home/maciej/repos/pallet-recognition/data/jpeg_marked/ r_1_10.jpg\n",
      "saved /home/maciej/repos/pallet-recognition/data/jpeg_marked/equalized/r_1_10.jpg\n",
      "/home/maciej/repos/pallet-recognition/data/jpeg_marked/ r_1_11.jpg\n",
      "saved /home/maciej/repos/pallet-recognition/data/jpeg_marked/equalized/r_1_11.jpg\n",
      "/home/maciej/repos/pallet-recognition/data/jpeg_marked/ r_1_12.jpg\n",
      "saved /home/maciej/repos/pallet-recognition/data/jpeg_marked/equalized/r_1_12.jpg\n",
      "/home/maciej/repos/pallet-recognition/data/jpeg_marked/ r_1_13.jpg\n",
      "saved /home/maciej/repos/pallet-recognition/data/jpeg_marked/equalized/r_1_13.jpg\n",
      "/home/maciej/repos/pallet-recognition/data/jpeg_marked/ r_1_14.jpg\n",
      "saved /home/maciej/repos/pallet-recognition/data/jpeg_marked/equalized/r_1_14.jpg\n",
      "/home/maciej/repos/pallet-recognition/data/jpeg_marked/ r_1_15.jpg\n",
      "saved /home/maciej/repos/pallet-recognition/data/jpeg_marked/equalized/r_1_15.jpg\n",
      "/home/maciej/repos/pallet-recognition/data/jpeg_marked/ r_1_16.jpg\n",
      "saved /home/maciej/repos/pallet-recognition/data/jpeg_marked/equalized/r_1_16.jpg\n",
      "/home/maciej/repos/pallet-recognition/data/jpeg_marked/ r_1_17.jpg\n",
      "saved /home/maciej/repos/pallet-recognition/data/jpeg_marked/equalized/r_1_17.jpg\n",
      "/home/maciej/repos/pallet-recognition/data/jpeg_marked/ r_1_18.jpg\n",
      "saved /home/maciej/repos/pallet-recognition/data/jpeg_marked/equalized/r_1_18.jpg\n",
      "/home/maciej/repos/pallet-recognition/data/jpeg_marked/ r_1_19.jpg\n",
      "saved /home/maciej/repos/pallet-recognition/data/jpeg_marked/equalized/r_1_19.jpg\n",
      "/home/maciej/repos/pallet-recognition/data/jpeg_marked/ r_1_2.jpg\n",
      "saved /home/maciej/repos/pallet-recognition/data/jpeg_marked/equalized/r_1_2.jpg\n",
      "/home/maciej/repos/pallet-recognition/data/jpeg_marked/ r_1_20.jpg\n",
      "saved /home/maciej/repos/pallet-recognition/data/jpeg_marked/equalized/r_1_20.jpg\n",
      "/home/maciej/repos/pallet-recognition/data/jpeg_marked/ r_1_21.jpg\n",
      "saved /home/maciej/repos/pallet-recognition/data/jpeg_marked/equalized/r_1_21.jpg\n",
      "/home/maciej/repos/pallet-recognition/data/jpeg_marked/ r_1_22.jpg\n",
      "saved /home/maciej/repos/pallet-recognition/data/jpeg_marked/equalized/r_1_22.jpg\n",
      "/home/maciej/repos/pallet-recognition/data/jpeg_marked/ r_1_23.jpg\n",
      "saved /home/maciej/repos/pallet-recognition/data/jpeg_marked/equalized/r_1_23.jpg\n",
      "/home/maciej/repos/pallet-recognition/data/jpeg_marked/ r_1_24.jpg\n",
      "saved /home/maciej/repos/pallet-recognition/data/jpeg_marked/equalized/r_1_24.jpg\n",
      "/home/maciej/repos/pallet-recognition/data/jpeg_marked/ r_1_25.jpg\n",
      "saved /home/maciej/repos/pallet-recognition/data/jpeg_marked/equalized/r_1_25.jpg\n",
      "/home/maciej/repos/pallet-recognition/data/jpeg_marked/ r_1_26.jpg\n",
      "saved /home/maciej/repos/pallet-recognition/data/jpeg_marked/equalized/r_1_26.jpg\n",
      "/home/maciej/repos/pallet-recognition/data/jpeg_marked/ r_1_27.jpg\n",
      "saved /home/maciej/repos/pallet-recognition/data/jpeg_marked/equalized/r_1_27.jpg\n",
      "/home/maciej/repos/pallet-recognition/data/jpeg_marked/ r_1_28.jpg\n"
     ]
    },
    {
     "name": "stderr",
     "output_type": "stream",
     "text": [
      " 34%|███▍      | 34/100 [00:00<00:00, 105.32it/s]"
     ]
    },
    {
     "name": "stdout",
     "output_type": "stream",
     "text": [
      "saved /home/maciej/repos/pallet-recognition/data/jpeg_marked/equalized/r_1_28.jpg\n",
      "/home/maciej/repos/pallet-recognition/data/jpeg_marked/ r_1_29.jpg\n",
      "saved /home/maciej/repos/pallet-recognition/data/jpeg_marked/equalized/r_1_29.jpg\n",
      "/home/maciej/repos/pallet-recognition/data/jpeg_marked/ r_1_3.jpg\n",
      "saved /home/maciej/repos/pallet-recognition/data/jpeg_marked/equalized/r_1_3.jpg\n",
      "/home/maciej/repos/pallet-recognition/data/jpeg_marked/ r_1_30.jpg\n",
      "saved /home/maciej/repos/pallet-recognition/data/jpeg_marked/equalized/r_1_30.jpg\n",
      "/home/maciej/repos/pallet-recognition/data/jpeg_marked/ r_1_31.jpg\n",
      "saved /home/maciej/repos/pallet-recognition/data/jpeg_marked/equalized/r_1_31.jpg\n",
      "/home/maciej/repos/pallet-recognition/data/jpeg_marked/ r_1_32.jpg\n",
      "saved /home/maciej/repos/pallet-recognition/data/jpeg_marked/equalized/r_1_32.jpg\n",
      "/home/maciej/repos/pallet-recognition/data/jpeg_marked/ r_1_33.jpg\n",
      "saved /home/maciej/repos/pallet-recognition/data/jpeg_marked/equalized/r_1_33.jpg\n",
      "/home/maciej/repos/pallet-recognition/data/jpeg_marked/ r_1_34.jpg\n",
      "saved /home/maciej/repos/pallet-recognition/data/jpeg_marked/equalized/r_1_34.jpg\n",
      "/home/maciej/repos/pallet-recognition/data/jpeg_marked/ r_1_35.jpg\n",
      "saved /home/maciej/repos/pallet-recognition/data/jpeg_marked/equalized/r_1_35.jpg\n",
      "/home/maciej/repos/pallet-recognition/data/jpeg_marked/ r_1_36.jpg\n",
      "saved /home/maciej/repos/pallet-recognition/data/jpeg_marked/equalized/r_1_36.jpg\n",
      "/home/maciej/repos/pallet-recognition/data/jpeg_marked/ r_1_37.jpg\n",
      "saved /home/maciej/repos/pallet-recognition/data/jpeg_marked/equalized/r_1_37.jpg\n",
      "/home/maciej/repos/pallet-recognition/data/jpeg_marked/ r_1_38.jpg\n",
      "saved /home/maciej/repos/pallet-recognition/data/jpeg_marked/equalized/r_1_38.jpg\n",
      "/home/maciej/repos/pallet-recognition/data/jpeg_marked/ r_1_39.jpg\n",
      "saved /home/maciej/repos/pallet-recognition/data/jpeg_marked/equalized/r_1_39.jpg\n",
      "/home/maciej/repos/pallet-recognition/data/jpeg_marked/ r_1_4.jpg\n",
      "saved /home/maciej/repos/pallet-recognition/data/jpeg_marked/equalized/r_1_4.jpg\n",
      "/home/maciej/repos/pallet-recognition/data/jpeg_marked/ r_1_40.jpg\n",
      "saved /home/maciej/repos/pallet-recognition/data/jpeg_marked/equalized/r_1_40.jpg\n",
      "/home/maciej/repos/pallet-recognition/data/jpeg_marked/ r_1_41.jpg\n",
      "saved /home/maciej/repos/pallet-recognition/data/jpeg_marked/equalized/r_1_41.jpg\n",
      "/home/maciej/repos/pallet-recognition/data/jpeg_marked/ r_1_42.jpg\n",
      "saved /home/maciej/repos/pallet-recognition/data/jpeg_marked/equalized/r_1_42.jpg\n",
      "/home/maciej/repos/pallet-recognition/data/jpeg_marked/ r_1_43.jpg\n",
      "saved /home/maciej/repos/pallet-recognition/data/jpeg_marked/equalized/r_1_43.jpg\n",
      "/home/maciej/repos/pallet-recognition/data/jpeg_marked/ r_1_44.jpg\n",
      "saved /home/maciej/repos/pallet-recognition/data/jpeg_marked/equalized/r_1_44.jpg\n",
      "/home/maciej/repos/pallet-recognition/data/jpeg_marked/ r_1_45.jpg\n",
      "saved /home/maciej/repos/pallet-recognition/data/jpeg_marked/equalized/r_1_45.jpg\n",
      "/home/maciej/repos/pallet-recognition/data/jpeg_marked/ r_1_46.jpg\n",
      "saved /home/maciej/repos/pallet-recognition/data/jpeg_marked/equalized/r_1_46.jpg\n",
      "/home/maciej/repos/pallet-recognition/data/jpeg_marked/ r_1_47.jpg\n",
      "saved /home/maciej/repos/pallet-recognition/data/jpeg_marked/equalized/r_1_47.jpg\n",
      "/home/maciej/repos/pallet-recognition/data/jpeg_marked/ r_1_48.jpg\n"
     ]
    },
    {
     "name": "stderr",
     "output_type": "stream",
     "text": [
      " 57%|█████▋    | 57/100 [00:00<00:00, 107.33it/s]"
     ]
    },
    {
     "name": "stdout",
     "output_type": "stream",
     "text": [
      "saved /home/maciej/repos/pallet-recognition/data/jpeg_marked/equalized/r_1_48.jpg\n",
      "/home/maciej/repos/pallet-recognition/data/jpeg_marked/ r_1_49.jpg\n",
      "saved /home/maciej/repos/pallet-recognition/data/jpeg_marked/equalized/r_1_49.jpg\n",
      "/home/maciej/repos/pallet-recognition/data/jpeg_marked/ r_1_5.jpg\n",
      "saved /home/maciej/repos/pallet-recognition/data/jpeg_marked/equalized/r_1_5.jpg\n",
      "/home/maciej/repos/pallet-recognition/data/jpeg_marked/ r_1_50.jpg\n",
      "saved /home/maciej/repos/pallet-recognition/data/jpeg_marked/equalized/r_1_50.jpg\n",
      "/home/maciej/repos/pallet-recognition/data/jpeg_marked/ r_1_51.jpg\n",
      "saved /home/maciej/repos/pallet-recognition/data/jpeg_marked/equalized/r_1_51.jpg\n",
      "/home/maciej/repos/pallet-recognition/data/jpeg_marked/ r_1_52.jpg\n",
      "saved /home/maciej/repos/pallet-recognition/data/jpeg_marked/equalized/r_1_52.jpg\n",
      "/home/maciej/repos/pallet-recognition/data/jpeg_marked/ r_1_53.jpg\n",
      "saved /home/maciej/repos/pallet-recognition/data/jpeg_marked/equalized/r_1_53.jpg\n",
      "/home/maciej/repos/pallet-recognition/data/jpeg_marked/ r_1_54.jpg\n",
      "saved /home/maciej/repos/pallet-recognition/data/jpeg_marked/equalized/r_1_54.jpg\n",
      "/home/maciej/repos/pallet-recognition/data/jpeg_marked/ r_1_55.jpg\n",
      "saved /home/maciej/repos/pallet-recognition/data/jpeg_marked/equalized/r_1_55.jpg\n",
      "/home/maciej/repos/pallet-recognition/data/jpeg_marked/ r_1_56.jpg\n",
      "saved /home/maciej/repos/pallet-recognition/data/jpeg_marked/equalized/r_1_56.jpg\n",
      "/home/maciej/repos/pallet-recognition/data/jpeg_marked/ r_1_57.jpg\n",
      "saved /home/maciej/repos/pallet-recognition/data/jpeg_marked/equalized/r_1_57.jpg\n",
      "/home/maciej/repos/pallet-recognition/data/jpeg_marked/ r_1_58.jpg\n",
      "saved /home/maciej/repos/pallet-recognition/data/jpeg_marked/equalized/r_1_58.jpg\n",
      "/home/maciej/repos/pallet-recognition/data/jpeg_marked/ r_1_59.jpg\n",
      "saved /home/maciej/repos/pallet-recognition/data/jpeg_marked/equalized/r_1_59.jpg\n",
      "/home/maciej/repos/pallet-recognition/data/jpeg_marked/ r_1_6.jpg\n",
      "saved /home/maciej/repos/pallet-recognition/data/jpeg_marked/equalized/r_1_6.jpg\n",
      "/home/maciej/repos/pallet-recognition/data/jpeg_marked/ r_1_60.jpg\n",
      "saved /home/maciej/repos/pallet-recognition/data/jpeg_marked/equalized/r_1_60.jpg\n",
      "/home/maciej/repos/pallet-recognition/data/jpeg_marked/ r_1_61.jpg\n",
      "saved /home/maciej/repos/pallet-recognition/data/jpeg_marked/equalized/r_1_61.jpg\n",
      "/home/maciej/repos/pallet-recognition/data/jpeg_marked/ r_1_62.jpg\n",
      "saved /home/maciej/repos/pallet-recognition/data/jpeg_marked/equalized/r_1_62.jpg\n",
      "/home/maciej/repos/pallet-recognition/data/jpeg_marked/ r_1_63.jpg\n",
      "saved /home/maciej/repos/pallet-recognition/data/jpeg_marked/equalized/r_1_63.jpg\n",
      "/home/maciej/repos/pallet-recognition/data/jpeg_marked/ r_1_64.jpg\n",
      "saved /home/maciej/repos/pallet-recognition/data/jpeg_marked/equalized/r_1_64.jpg\n",
      "/home/maciej/repos/pallet-recognition/data/jpeg_marked/ r_1_65.jpg\n",
      "saved /home/maciej/repos/pallet-recognition/data/jpeg_marked/equalized/r_1_65.jpg\n",
      "/home/maciej/repos/pallet-recognition/data/jpeg_marked/ r_1_66.jpg\n",
      "saved /home/maciej/repos/pallet-recognition/data/jpeg_marked/equalized/r_1_66.jpg\n",
      "/home/maciej/repos/pallet-recognition/data/jpeg_marked/ r_1_67.jpg\n",
      "saved /home/maciej/repos/pallet-recognition/data/jpeg_marked/equalized/r_1_67.jpg\n",
      "/home/maciej/repos/pallet-recognition/data/jpeg_marked/ r_1_7.jpg\n"
     ]
    },
    {
     "name": "stderr",
     "output_type": "stream",
     "text": [
      " 79%|███████▉  | 79/100 [00:00<00:00, 105.87it/s]"
     ]
    },
    {
     "name": "stdout",
     "output_type": "stream",
     "text": [
      "saved /home/maciej/repos/pallet-recognition/data/jpeg_marked/equalized/r_1_7.jpg\n",
      "/home/maciej/repos/pallet-recognition/data/jpeg_marked/ r_1_8.jpg\n",
      "saved /home/maciej/repos/pallet-recognition/data/jpeg_marked/equalized/r_1_8.jpg\n",
      "/home/maciej/repos/pallet-recognition/data/jpeg_marked/ r_1_9.jpg\n",
      "saved /home/maciej/repos/pallet-recognition/data/jpeg_marked/equalized/r_1_9.jpg\n",
      "/home/maciej/repos/pallet-recognition/data/jpeg_marked/ r_2_0.jpg\n",
      "saved /home/maciej/repos/pallet-recognition/data/jpeg_marked/equalized/r_2_0.jpg\n",
      "/home/maciej/repos/pallet-recognition/data/jpeg_marked/ r_2_1.jpg\n",
      "saved /home/maciej/repos/pallet-recognition/data/jpeg_marked/equalized/r_2_1.jpg\n",
      "/home/maciej/repos/pallet-recognition/data/jpeg_marked/ r_2_10.jpg\n",
      "saved /home/maciej/repos/pallet-recognition/data/jpeg_marked/equalized/r_2_10.jpg\n",
      "/home/maciej/repos/pallet-recognition/data/jpeg_marked/ r_2_11.jpg\n",
      "saved /home/maciej/repos/pallet-recognition/data/jpeg_marked/equalized/r_2_11.jpg\n",
      "/home/maciej/repos/pallet-recognition/data/jpeg_marked/ r_2_12.jpg\n",
      "saved /home/maciej/repos/pallet-recognition/data/jpeg_marked/equalized/r_2_12.jpg\n",
      "/home/maciej/repos/pallet-recognition/data/jpeg_marked/ r_2_13.jpg\n",
      "saved /home/maciej/repos/pallet-recognition/data/jpeg_marked/equalized/r_2_13.jpg\n",
      "/home/maciej/repos/pallet-recognition/data/jpeg_marked/ r_2_14.jpg\n",
      "saved /home/maciej/repos/pallet-recognition/data/jpeg_marked/equalized/r_2_14.jpg\n",
      "/home/maciej/repos/pallet-recognition/data/jpeg_marked/ r_2_15.jpg\n",
      "saved /home/maciej/repos/pallet-recognition/data/jpeg_marked/equalized/r_2_15.jpg\n",
      "/home/maciej/repos/pallet-recognition/data/jpeg_marked/ r_2_16.jpg\n",
      "saved /home/maciej/repos/pallet-recognition/data/jpeg_marked/equalized/r_2_16.jpg\n",
      "/home/maciej/repos/pallet-recognition/data/jpeg_marked/ r_2_2.jpg\n",
      "saved /home/maciej/repos/pallet-recognition/data/jpeg_marked/equalized/r_2_2.jpg\n",
      "/home/maciej/repos/pallet-recognition/data/jpeg_marked/ r_2_3.jpg\n",
      "saved /home/maciej/repos/pallet-recognition/data/jpeg_marked/equalized/r_2_3.jpg\n",
      "/home/maciej/repos/pallet-recognition/data/jpeg_marked/ r_2_31.jpg\n",
      "saved /home/maciej/repos/pallet-recognition/data/jpeg_marked/equalized/r_2_31.jpg\n",
      "/home/maciej/repos/pallet-recognition/data/jpeg_marked/ r_2_33.jpg\n",
      "saved /home/maciej/repos/pallet-recognition/data/jpeg_marked/equalized/r_2_33.jpg\n",
      "/home/maciej/repos/pallet-recognition/data/jpeg_marked/ r_2_36.jpg\n",
      "saved /home/maciej/repos/pallet-recognition/data/jpeg_marked/equalized/r_2_36.jpg\n",
      "/home/maciej/repos/pallet-recognition/data/jpeg_marked/ r_2_37.jpg\n",
      "saved /home/maciej/repos/pallet-recognition/data/jpeg_marked/equalized/r_2_37.jpg\n",
      "/home/maciej/repos/pallet-recognition/data/jpeg_marked/ r_2_38.jpg\n",
      "saved /home/maciej/repos/pallet-recognition/data/jpeg_marked/equalized/r_2_38.jpg\n",
      "/home/maciej/repos/pallet-recognition/data/jpeg_marked/ r_2_39.jpg\n",
      "saved /home/maciej/repos/pallet-recognition/data/jpeg_marked/equalized/r_2_39.jpg\n",
      "/home/maciej/repos/pallet-recognition/data/jpeg_marked/ r_2_4.jpg\n",
      "saved /home/maciej/repos/pallet-recognition/data/jpeg_marked/equalized/r_2_4.jpg\n",
      "/home/maciej/repos/pallet-recognition/data/jpeg_marked/ r_2_40.jpg\n"
     ]
    },
    {
     "name": "stderr",
     "output_type": "stream",
     "text": [
      "100%|██████████| 100/100 [00:00<00:00, 106.30it/s]"
     ]
    },
    {
     "name": "stdout",
     "output_type": "stream",
     "text": [
      "saved /home/maciej/repos/pallet-recognition/data/jpeg_marked/equalized/r_2_40.jpg\n",
      "/home/maciej/repos/pallet-recognition/data/jpeg_marked/ r_2_41.jpg\n",
      "saved /home/maciej/repos/pallet-recognition/data/jpeg_marked/equalized/r_2_41.jpg\n",
      "/home/maciej/repos/pallet-recognition/data/jpeg_marked/ r_2_42.jpg\n",
      "saved /home/maciej/repos/pallet-recognition/data/jpeg_marked/equalized/r_2_42.jpg\n",
      "/home/maciej/repos/pallet-recognition/data/jpeg_marked/ r_2_43.jpg\n",
      "saved /home/maciej/repos/pallet-recognition/data/jpeg_marked/equalized/r_2_43.jpg\n",
      "/home/maciej/repos/pallet-recognition/data/jpeg_marked/ r_2_44.jpg\n",
      "saved /home/maciej/repos/pallet-recognition/data/jpeg_marked/equalized/r_2_44.jpg\n",
      "/home/maciej/repos/pallet-recognition/data/jpeg_marked/ r_2_45.jpg\n",
      "saved /home/maciej/repos/pallet-recognition/data/jpeg_marked/equalized/r_2_45.jpg\n",
      "/home/maciej/repos/pallet-recognition/data/jpeg_marked/ r_2_46.jpg\n",
      "saved /home/maciej/repos/pallet-recognition/data/jpeg_marked/equalized/r_2_46.jpg\n",
      "/home/maciej/repos/pallet-recognition/data/jpeg_marked/ r_2_47.jpg\n",
      "saved /home/maciej/repos/pallet-recognition/data/jpeg_marked/equalized/r_2_47.jpg\n",
      "/home/maciej/repos/pallet-recognition/data/jpeg_marked/ r_2_48.jpg\n",
      "saved /home/maciej/repos/pallet-recognition/data/jpeg_marked/equalized/r_2_48.jpg\n",
      "/home/maciej/repos/pallet-recognition/data/jpeg_marked/ r_2_5.jpg\n",
      "saved /home/maciej/repos/pallet-recognition/data/jpeg_marked/equalized/r_2_5.jpg\n",
      "/home/maciej/repos/pallet-recognition/data/jpeg_marked/ r_2_6.jpg\n",
      "saved /home/maciej/repos/pallet-recognition/data/jpeg_marked/equalized/r_2_6.jpg\n",
      "/home/maciej/repos/pallet-recognition/data/jpeg_marked/ r_2_7.jpg\n",
      "saved /home/maciej/repos/pallet-recognition/data/jpeg_marked/equalized/r_2_7.jpg\n",
      "/home/maciej/repos/pallet-recognition/data/jpeg_marked/ r_2_8.jpg\n",
      "saved /home/maciej/repos/pallet-recognition/data/jpeg_marked/equalized/r_2_8.jpg\n",
      "/home/maciej/repos/pallet-recognition/data/jpeg_marked/ r_2_9.jpg\n",
      "saved /home/maciej/repos/pallet-recognition/data/jpeg_marked/equalized/r_2_9.jpg\n"
     ]
    },
    {
     "name": "stderr",
     "output_type": "stream",
     "text": [
      "\n"
     ]
    }
   ],
   "source": [
    "def equalize_hist(img_name):\n",
    "    img = cv2.imread(img_name)\n",
    "    img_yuv = cv2.cvtColor(img, cv2.COLOR_BGR2HSV)\n",
    "    img_yuv[:,:,2] = cv2.equalizeHist(img_yuv[:,:,2])\n",
    "    img_output = cv2.cvtColor(img_yuv, cv2.COLOR_HSV2BGR)\n",
    "    return img_output\n",
    "    #save(img_output, \"equalized.jpg\", False)\n",
    "    \n",
    "def equalize_all():\n",
    "    path = \"/home/maciej/repos/pallet-recognition/data/jpeg_marked/\"\n",
    "    filenames = [f for f in sorted(listdir(path)) if isfile(join(path, f))]\n",
    "    for i in tqdm(range(len(filenames))):\n",
    "        filename = filenames[i]\n",
    "        print(path, filename)\n",
    "        equalized=equalize_hist(path+filename)\n",
    "        save(equalized, path+\"equalized/\"+filename, False)\n",
    "    \n",
    "#equalize_all()"
   ]
  }
 ],
 "metadata": {
  "kernelspec": {
   "display_name": "Python 3",
   "language": "python",
   "name": "python3"
  },
  "language_info": {
   "codemirror_mode": {
    "name": "ipython",
    "version": 3
   },
   "file_extension": ".py",
   "mimetype": "text/x-python",
   "name": "python",
   "nbconvert_exporter": "python",
   "pygments_lexer": "ipython3",
   "version": "3.6.9"
  }
 },
 "nbformat": 4,
 "nbformat_minor": 2
}
