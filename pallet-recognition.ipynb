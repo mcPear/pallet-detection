{
 "cells": [
  {
   "cell_type": "code",
   "execution_count": 2,
   "metadata": {},
   "outputs": [
    {
     "name": "stdout",
     "output_type": "stream",
     "text": [
      "4.1.1\n"
     ]
    }
   ],
   "source": [
    "import cv2\n",
    "print(cv2.__version__)\n",
    "import numpy as np\n",
    "from sklearn.model_selection import StratifiedShuffleSplit\n",
    "from sklearn.naive_bayes import GaussianNB\n",
    "from sklearn.metrics import confusion_matrix\n",
    "from sklearn.ensemble import RandomForestClassifier\n",
    "import imutils\n",
    "import sys\n",
    "import numpy\n",
    "from os import listdir\n",
    "from os.path import isfile, join\n",
    "from tqdm import tqdm\n",
    "import pickle\n",
    "numpy.set_printoptions(threshold=sys.maxsize)\n",
    "\n",
    "%run commons.py"
   ]
  },
  {
   "cell_type": "markdown",
   "metadata": {},
   "source": [
    "# load Naive Bayes"
   ]
  },
  {
   "cell_type": "code",
   "execution_count": 3,
   "metadata": {},
   "outputs": [],
   "source": [
    "filename = 'naive_bayes_model.sav'\n",
    "gnb = pickle.load(open(filename, 'rb'))"
   ]
  },
  {
   "cell_type": "markdown",
   "metadata": {},
   "source": [
    "# Sector detection"
   ]
  },
  {
   "cell_type": "code",
   "execution_count": 4,
   "metadata": {},
   "outputs": [],
   "source": [
    "# parameters\n",
    "percentile = 80 # percentil, with rows we accept as pallets (with more black pixel than in other rows)\n",
    "frame = 10 # we decice that row is important if it neighbours in frame are also in percentil\n",
    "threshold = 5 # threshold of neihtbours in frame in detecting important rows\n",
    "border_size = 10 # we detecting groups of important rows (mayby pallet), \n",
    "                        #this parameter is maximal space between rows\n",
    "\n",
    "def get_pallet_sectors(img):\n",
    "    hist = [255 - np.mean(row) for row in img]\n",
    "    perc = np.percentile(hist, percentile)\n",
    "    hist_perc = [max(x - perc, 0) for x in hist]\n",
    "\n",
    "    def check_frame(row_id, image):\n",
    "        return np.count_nonzero(image[row_id: row_id + frame]) > threshold\n",
    "\n",
    "    detection = [ row_id for row_id, value in enumerate(hist_perc) if check_frame(row_id, hist_perc) ]\n",
    "\n",
    "    def check_row(list_id, rows):\n",
    "        if list_id == len(rows) -1 :\n",
    "            return rows[list_id] - rows[list_id - 1] < border_size\n",
    "        if list_id == 0:\n",
    "            return rows[list_id + 1] - rows[list_id] < border_size\n",
    "        return rows[list_id] - rows[list_id - 1] > border_size or rows[list_id + 1] - rows[list_id] > border_size\n",
    "        \n",
    "    borders = [x for x_id, x in enumerate(detection) if check_row(x_id, detection)]\n",
    "    up = borders[-2] - 4\n",
    "    bottom = borders[-1] + 4\n",
    "    return up, bottom"
   ]
  },
  {
   "cell_type": "markdown",
   "metadata": {},
   "source": [
    "## Define pipeline functions"
   ]
  },
  {
   "cell_type": "code",
   "execution_count": 5,
   "metadata": {},
   "outputs": [],
   "source": [
    "def show(img):\n",
    " cv2.imshow('image',img)\n",
    " cv2.waitKey(0)\n",
    " cv2.destroyAllWindows()"
   ]
  },
  {
   "cell_type": "code",
   "execution_count": 6,
   "metadata": {
    "scrolled": true
   },
   "outputs": [],
   "source": [
    "def detect(img, model):\n",
    "    w,h,ch = img.shape\n",
    "    f = features(img, channels, False)\n",
    "    pred = model.predict(f)\n",
    "    img_pred = np.reshape(pred, (w,h,1))\n",
    "    return np.logical_not(img_pred)"
   ]
  },
  {
   "cell_type": "code",
   "execution_count": 7,
   "metadata": {},
   "outputs": [],
   "source": [
    "def median_filter(img):\n",
    "    kernel = np.ones((5,5),np.float32)/25\n",
    "    img = cv2.filter2D(img,-1,kernel)\n",
    "    return cv2.threshold(img,0.5,1.0,cv2.THRESH_BINARY)[1]"
   ]
  },
  {
   "cell_type": "code",
   "execution_count": 8,
   "metadata": {
    "scrolled": false
   },
   "outputs": [],
   "source": [
    "def rotate(img, angle):\n",
    "    return  imutils.rotate(img, angle)"
   ]
  },
  {
   "cell_type": "code",
   "execution_count": 9,
   "metadata": {},
   "outputs": [],
   "source": [
    "def odd(num):\n",
    "    return (num % 3) == 0"
   ]
  },
  {
   "cell_type": "code",
   "execution_count": 20,
   "metadata": {},
   "outputs": [],
   "source": [
    "def find_pallet_by_height(img, mask_height):\n",
    "    mask_height = mask_height\n",
    "    mask_width = int(mask_height * 5.556)\n",
    "    mask_size = mask_height * mask_width\n",
    "    hole_height = int(mask_height * 0.694)\n",
    "    hole_width = int(mask_height * 1.58)\n",
    "    hole_size = hole_height * hole_width\n",
    "    hole_1_x = int(mask_height * 0.694)\n",
    "    hole_1_y = int(mask_height * 0.306)\n",
    "    hole_2_x = int(mask_height * 3.281)\n",
    "    hole_2_y = hole_1_y\n",
    "    best = (None, 0, (0,0))\n",
    "    inverse_img = np.logical_not(img)\n",
    "    img_height, img_width = inverse_img.shape\n",
    "    for index, x in np.ndenumerate(inverse_img):\n",
    "        x,y = index\n",
    "        if odd(x) and odd(y) and y+mask_height < img_height and x+mask_width < img_width:\n",
    "            frame_mask = inverse_img[y:y+mask_height, x:x+mask_width]\n",
    "            hole_1_y_ = y+hole_1_y\n",
    "            hole_2_y_ = y+hole_2_y\n",
    "            hole_1_x_ = x+hole_1_x\n",
    "            hole_2_x_ = x+hole_2_x\n",
    "            hole_1_mask = inverse_img[hole_1_y_:hole_1_y_+hole_height, hole_1_x_:hole_1_x_+hole_width]\n",
    "            hole_2_mask = inverse_img[hole_2_y_:hole_2_y_+hole_height, hole_2_x_:hole_2_x_+hole_width]\n",
    "            frame_mask_perc = np.sum(frame_mask) / mask_size\n",
    "            hole_1_mask_perc = np.sum(hole_1_mask) / hole_size\n",
    "            hole_2_mask_perc = np.sum(hole_2_mask) / hole_size\n",
    "            perc = frame_mask_perc - hole_1_mask_perc - hole_2_mask_perc\n",
    "            if perc >= best[1]:\n",
    "                best = (frame_mask, perc, (x,y))\n",
    "    return best\n",
    "\n",
    "def find_pallet(img, min_height, max_height, step, min_perc=0.0):\n",
    "    best = (None, min_perc, (0,0,0))\n",
    "    for mask_height in range(min_height, max_height, step):\n",
    "        (best_for_height, perc, (x,y)) = find_pallet_by_height(img, mask_height)\n",
    "        if perc >= best[1]:\n",
    "            print(\"height: \", mask_height, \"percent: \",perc)\n",
    "            best = (best_for_height, perc, (x,y,mask_height))\n",
    "    \n",
    "    return (np.logical_not(best[0]), best[2])\n",
    "\n",
    "def draw_pallet(img_full,x,y,mask_height):\n",
    "    print(x,y)\n",
    "    mask_width = int(mask_height * 5.556)\n",
    "    color = (0,255,0)\n",
    "    img_full[y:y+mask_height, x:x+1]=color\n",
    "    img_full[y:y+mask_height, x+mask_width-1:x+mask_width]=color\n",
    "    img_full[y:y+1, x:x+mask_width]=color\n",
    "    img_full[y+mask_height-1:y+mask_height, x:x+mask_width]=color\n",
    "    return img_full\n",
    "\n",
    "def calculate_center(x,y,mask_height):\n",
    "    mask_width = int(mask_height * 5.556)\n",
    "    x = x + mask_width/2\n",
    "    y = y + mask_height/2\n",
    "    return (x,y)"
   ]
  },
  {
   "cell_type": "code",
   "execution_count": 21,
   "metadata": {},
   "outputs": [],
   "source": [
    "def save(img, file, binary=True):\n",
    "    res = cv2.imwrite(file, img * 255 if binary else img)\n",
    "    print(\"saved\" if res else \"save error\", file)"
   ]
  },
  {
   "cell_type": "markdown",
   "metadata": {},
   "source": [
    "## Run pipeline and save results"
   ]
  },
  {
   "cell_type": "code",
   "execution_count": 23,
   "metadata": {},
   "outputs": [
    {
     "name": "stdout",
     "output_type": "stream",
     "text": [
      "saved img_classified.jpg\n",
      "saved img_filtered.jpg\n",
      "saved img_rotated.jpg\n",
      "height:  25 percent:  0.1677985441668306\n",
      "height:  28 percent:  0.2078726875840628\n",
      "height:  34 percent:  0.23839132898896387\n",
      "saved img_pallet.jpg\n",
      "402 252\n",
      "saved img_full_marked.jpg\n",
      "center:  (496.0, 269.0)  x,y: 402 252  mask_height:  34\n"
     ]
    }
   ],
   "source": [
    "img_full = cv2.imread('r_1_0.jpg')\n",
    "\n",
    "img_classified = detect(img_full, gnb).astype('float32')\n",
    "save(img_classified, \"img_classified.jpg\")\n",
    "\n",
    "img_filtered = median_filter(img_classified)\n",
    "save(img_filtered, \"img_filtered.jpg\")\n",
    "\n",
    "img_rotated = rotate(img_filtered, -2)\n",
    "save(img_rotated, \"img_rotated.jpg\")\n",
    "\n",
    "img_pallet, (x,y,mask_height) = find_pallet(img_rotated, 25, 100, 3)\n",
    "save(img_pallet, \"img_pallet.jpg\")\n",
    "\n",
    "img_full_marked = draw_pallet(img_full,x,y,mask_height)\n",
    "save(img_full_marked, \"img_full_marked.jpg\", False)\n",
    "center = calculate_center(x,y,mask_height)\n",
    "print(\"center: \",center,\" x,y:\",x,y,\" mask_height: \",mask_height)"
   ]
  },
  {
   "cell_type": "code",
   "execution_count": 36,
   "metadata": {},
   "outputs": [],
   "source": [
    "# kernel = np.ones((7,7), np.uint8) \n",
    "# img_erosion = cv2.erode(img_classified, kernel, iterations=1) \n",
    "# img_dilation = cv2.dilate(img_classified, kernel, iterations=1) \n",
    "# img_de = cv2.erode(img_dilation, kernel, iterations=1) "
   ]
  },
  {
   "cell_type": "code",
   "execution_count": 37,
   "metadata": {},
   "outputs": [],
   "source": [
    "# show(img_de)"
   ]
  },
  {
   "cell_type": "markdown",
   "metadata": {},
   "source": [
    "# Pipeline as function"
   ]
  },
  {
   "cell_type": "code",
   "execution_count": 24,
   "metadata": {},
   "outputs": [],
   "source": [
    "def localise(path,filename):\n",
    "    img_full = cv2.imread(path+filename)\n",
    "    img_classified = detect(img_full, gnb).astype('float32')\n",
    "    img_filtered = median_filter(img_classified)\n",
    "    img_rotated = rotate(img_filtered, -2)\n",
    "    img_pallet, (x,y,mask_height) = find_pallet(img_rotated, 25, 100, 3)\n",
    "    img_full_marked = draw_pallet(img_full,x,y,mask_height)\n",
    "    save(img_full_marked, path+\"localised/\"+filename, False)\n",
    "    return [calculate_center(x,y,mask_height)]"
   ]
  },
  {
   "cell_type": "code",
   "execution_count": 25,
   "metadata": {},
   "outputs": [],
   "source": [
    "def localize_all():\n",
    "    centers = dict()\n",
    "    path = \"/home/maciej/repos/pallet-recognition/data/jpeg_marked/\"\n",
    "    filenames = [f for f in sorted(listdir(path)) if isfile(join(path, f))]\n",
    "    for i in tqdm(range(len(filenames))):\n",
    "        filename = filenames[i]\n",
    "        print(path, filename)\n",
    "        centers[filename]=localise(path,filename)\n",
    "    np.save(path+\"eval/pred_centers\", centers)"
   ]
  },
  {
   "cell_type": "code",
   "execution_count": 26,
   "metadata": {
    "scrolled": true
   },
   "outputs": [
    {
     "name": "stderr",
     "output_type": "stream",
     "text": [
      "\r",
      "  0%|          | 0/85 [00:00<?, ?it/s]"
     ]
    },
    {
     "name": "stdout",
     "output_type": "stream",
     "text": [
      "/home/maciej/repos/pallet-recognition/data/jpeg_marked/ r_1_0.jpg\n",
      "height:  25 percent:  0.1677985441668306\n",
      "height:  28 percent:  0.2078726875840628\n",
      "height:  34 percent:  0.23839132898896387\n"
     ]
    },
    {
     "name": "stderr",
     "output_type": "stream",
     "text": [
      "\r",
      "  1%|          | 1/85 [00:14<20:26, 14.60s/it]"
     ]
    },
    {
     "name": "stdout",
     "output_type": "stream",
     "text": [
      "402 252\n",
      "saved /home/maciej/repos/pallet-recognition/data/jpeg_marked/localised/r_1_0.jpg\n",
      "/home/maciej/repos/pallet-recognition/data/jpeg_marked/ r_1_1.jpg\n",
      "height:  25 percent:  0.15624106498786802\n",
      "height:  28 percent:  0.21845412651864266\n",
      "height:  31 percent:  0.24165565200824016\n"
     ]
    },
    {
     "name": "stderr",
     "output_type": "stream",
     "text": [
      "\r",
      "  2%|▏         | 2/85 [00:29<20:13, 14.62s/it]"
     ]
    },
    {
     "name": "stdout",
     "output_type": "stream",
     "text": [
      "414 255\n",
      "saved /home/maciej/repos/pallet-recognition/data/jpeg_marked/localised/r_1_1.jpg\n",
      "/home/maciej/repos/pallet-recognition/data/jpeg_marked/ r_1_10.jpg\n",
      "height:  25 percent:  0.214314381270903\n",
      "height:  34 percent:  0.24843400435942795\n"
     ]
    },
    {
     "name": "stderr",
     "output_type": "stream",
     "text": [
      "\r",
      "  4%|▎         | 3/85 [00:43<19:58, 14.62s/it]"
     ]
    },
    {
     "name": "stdout",
     "output_type": "stream",
     "text": [
      "402 252\n",
      "saved /home/maciej/repos/pallet-recognition/data/jpeg_marked/localised/r_1_10.jpg\n",
      "/home/maciej/repos/pallet-recognition/data/jpeg_marked/ r_1_11.jpg\n",
      "height:  25 percent:  0.1809980982359499\n",
      "height:  28 percent:  0.21123189204683265\n",
      "height:  31 percent:  0.23957700734707485\n"
     ]
    },
    {
     "name": "stderr",
     "output_type": "stream",
     "text": [
      "\r",
      "  5%|▍         | 4/85 [00:58<19:49, 14.68s/it]"
     ]
    },
    {
     "name": "stdout",
     "output_type": "stream",
     "text": [
      "414 255\n",
      "saved /home/maciej/repos/pallet-recognition/data/jpeg_marked/localised/r_1_11.jpg\n",
      "/home/maciej/repos/pallet-recognition/data/jpeg_marked/ r_1_12.jpg\n",
      "height:  25 percent:  0.14353334644894747\n",
      "height:  28 percent:  0.14845324454832096\n",
      "height:  31 percent:  0.21829117993784167\n"
     ]
    },
    {
     "name": "stderr",
     "output_type": "stream",
     "text": [
      "\r",
      "  6%|▌         | 5/85 [01:13<19:36, 14.71s/it]"
     ]
    },
    {
     "name": "stdout",
     "output_type": "stream",
     "text": [
      "411 255\n",
      "saved /home/maciej/repos/pallet-recognition/data/jpeg_marked/localised/r_1_12.jpg\n",
      "/home/maciej/repos/pallet-recognition/data/jpeg_marked/ r_1_13.jpg\n",
      "height:  25 percent:  0.19582398845825955\n",
      "height:  31 percent:  0.2852171376177377\n",
      "height:  34 percent:  0.30972087751198435\n"
     ]
    },
    {
     "name": "stderr",
     "output_type": "stream",
     "text": [
      "\r",
      "  7%|▋         | 6/85 [01:28<19:24, 14.74s/it]"
     ]
    },
    {
     "name": "stdout",
     "output_type": "stream",
     "text": [
      "207 252\n",
      "saved /home/maciej/repos/pallet-recognition/data/jpeg_marked/localised/r_1_13.jpg\n",
      "/home/maciej/repos/pallet-recognition/data/jpeg_marked/ r_1_14.jpg\n",
      "height:  25 percent:  0.24198308085776116\n",
      "height:  31 percent:  0.24626841234118055\n",
      "height:  37 percent:  0.28493078444297965\n",
      "height:  40 percent:  0.3124670305225861\n"
     ]
    },
    {
     "name": "stderr",
     "output_type": "stream",
     "text": [
      "\r",
      "  8%|▊         | 7/85 [01:42<19:08, 14.72s/it]"
     ]
    },
    {
     "name": "stdout",
     "output_type": "stream",
     "text": [
      "417 258\n",
      "saved /home/maciej/repos/pallet-recognition/data/jpeg_marked/localised/r_1_14.jpg\n",
      "/home/maciej/repos/pallet-recognition/data/jpeg_marked/ r_1_15.jpg\n",
      "height:  25 percent:  0.266835858089055\n",
      "height:  28 percent:  0.2724020461711463\n"
     ]
    },
    {
     "name": "stderr",
     "output_type": "stream",
     "text": [
      "\r",
      "  9%|▉         | 8/85 [01:57<18:51, 14.69s/it]"
     ]
    },
    {
     "name": "stdout",
     "output_type": "stream",
     "text": [
      "9 252\n",
      "saved /home/maciej/repos/pallet-recognition/data/jpeg_marked/localised/r_1_15.jpg\n",
      "/home/maciej/repos/pallet-recognition/data/jpeg_marked/ r_1_16.jpg\n",
      "height:  25 percent:  0.17818479900321332\n",
      "height:  43 percent:  0.22364282581217623\n",
      "height:  46 percent:  0.2807677676025997\n"
     ]
    },
    {
     "name": "stderr",
     "output_type": "stream",
     "text": [
      "\r",
      " 11%|█         | 9/85 [02:12<18:34, 14.67s/it]"
     ]
    },
    {
     "name": "stdout",
     "output_type": "stream",
     "text": [
      "171 258\n",
      "saved /home/maciej/repos/pallet-recognition/data/jpeg_marked/localised/r_1_16.jpg\n",
      "/home/maciej/repos/pallet-recognition/data/jpeg_marked/ r_1_17.jpg\n",
      "height:  25 percent:  0.1678746147288347\n",
      "height:  52 percent:  0.18989896028767983\n",
      "height:  55 percent:  0.2668046741468095\n",
      "height:  58 percent:  0.32294347331828593\n"
     ]
    },
    {
     "name": "stderr",
     "output_type": "stream",
     "text": [
      "\r",
      " 12%|█▏        | 10/85 [02:26<18:20, 14.68s/it]"
     ]
    },
    {
     "name": "stdout",
     "output_type": "stream",
     "text": [
      "135 261\n",
      "saved /home/maciej/repos/pallet-recognition/data/jpeg_marked/localised/r_1_17.jpg\n",
      "/home/maciej/repos/pallet-recognition/data/jpeg_marked/ r_1_18.jpg\n",
      "height:  25 percent:  0.28702341137123744\n",
      "height:  70 percent:  0.29110294773954565\n",
      "height:  73 percent:  0.3011555673203479\n"
     ]
    },
    {
     "name": "stderr",
     "output_type": "stream",
     "text": [
      "\r",
      " 13%|█▎        | 11/85 [02:41<18:08, 14.70s/it]"
     ]
    },
    {
     "name": "stdout",
     "output_type": "stream",
     "text": [
      "90 267\n",
      "saved /home/maciej/repos/pallet-recognition/data/jpeg_marked/localised/r_1_18.jpg\n",
      "/home/maciej/repos/pallet-recognition/data/jpeg_marked/ r_1_19.jpg\n",
      "height:  25 percent:  0.26654993770083285\n",
      "height:  28 percent:  0.26802416598681456\n",
      "height:  31 percent:  0.2849983329165625\n",
      "height:  82 percent:  0.31169034217814706\n",
      "height:  85 percent:  0.3322741630999949\n"
     ]
    },
    {
     "name": "stderr",
     "output_type": "stream",
     "text": [
      "\r",
      " 14%|█▍        | 12/85 [02:56<17:56, 14.74s/it]"
     ]
    },
    {
     "name": "stdout",
     "output_type": "stream",
     "text": [
      "51 276\n",
      "saved /home/maciej/repos/pallet-recognition/data/jpeg_marked/localised/r_1_19.jpg\n",
      "/home/maciej/repos/pallet-recognition/data/jpeg_marked/ r_1_2.jpg\n",
      "height:  25 percent:  0.18351104990491174\n"
     ]
    },
    {
     "name": "stderr",
     "output_type": "stream",
     "text": [
      "\r",
      " 15%|█▌        | 13/85 [03:11<17:40, 14.73s/it]"
     ]
    },
    {
     "name": "stdout",
     "output_type": "stream",
     "text": [
      "78 246\n",
      "saved /home/maciej/repos/pallet-recognition/data/jpeg_marked/localised/r_1_2.jpg\n",
      "/home/maciej/repos/pallet-recognition/data/jpeg_marked/ r_1_20.jpg\n",
      "height:  25 percent:  0.2779395370188209\n",
      "height:  28 percent:  0.3038211364187595\n",
      "height:  40 percent:  0.30813869424980533\n",
      "height:  94 percent:  0.3125358215600329\n"
     ]
    },
    {
     "name": "stderr",
     "output_type": "stream",
     "text": [
      "\r",
      " 16%|█▋        | 14/85 [03:26<17:30, 14.80s/it]"
     ]
    },
    {
     "name": "stdout",
     "output_type": "stream",
     "text": [
      "height:  97 percent:  0.33243352179162483\n",
      "0 288\n",
      "saved /home/maciej/repos/pallet-recognition/data/jpeg_marked/localised/r_1_20.jpg\n",
      "/home/maciej/repos/pallet-recognition/data/jpeg_marked/ r_1_21.jpg\n",
      "height:  25 percent:  0.2639097645747262\n",
      "height:  28 percent:  0.283348400326329\n"
     ]
    },
    {
     "name": "stderr",
     "output_type": "stream",
     "text": [
      "\r",
      " 18%|█▊        | 15/85 [03:40<17:13, 14.76s/it]"
     ]
    },
    {
     "name": "stdout",
     "output_type": "stream",
     "text": [
      "408 330\n",
      "saved /home/maciej/repos/pallet-recognition/data/jpeg_marked/localised/r_1_21.jpg\n",
      "/home/maciej/repos/pallet-recognition/data/jpeg_marked/ r_1_22.jpg\n",
      "height:  25 percent:  0.22206177454259296\n",
      "height:  28 percent:  0.230077392895729\n",
      "height:  31 percent:  0.24242295692970864\n",
      "height:  58 percent:  0.24321259699820424\n"
     ]
    },
    {
     "name": "stderr",
     "output_type": "stream",
     "text": [
      "\r",
      " 19%|█▉        | 16/85 [03:55<16:59, 14.78s/it]"
     ]
    },
    {
     "name": "stdout",
     "output_type": "stream",
     "text": [
      "273 342\n",
      "saved /home/maciej/repos/pallet-recognition/data/jpeg_marked/localised/r_1_22.jpg\n",
      "/home/maciej/repos/pallet-recognition/data/jpeg_marked/ r_1_23.jpg\n",
      "height:  25 percent:  0.22851334513738605\n",
      "height:  28 percent:  0.24248561285912731\n",
      "height:  31 percent:  0.24775836816346944\n"
     ]
    },
    {
     "name": "stderr",
     "output_type": "stream",
     "text": [
      "\r",
      " 20%|██        | 17/85 [04:10<16:45, 14.79s/it]"
     ]
    },
    {
     "name": "stdout",
     "output_type": "stream",
     "text": [
      "408 348\n",
      "saved /home/maciej/repos/pallet-recognition/data/jpeg_marked/localised/r_1_23.jpg\n",
      "/home/maciej/repos/pallet-recognition/data/jpeg_marked/ r_1_24.jpg\n",
      "height:  25 percent:  0.2248370384943275\n",
      "height:  28 percent:  0.235940290609221\n",
      "height:  31 percent:  0.2367876195239286\n"
     ]
    },
    {
     "name": "stderr",
     "output_type": "stream",
     "text": [
      "\r",
      " 21%|██        | 18/85 [04:25<16:28, 14.76s/it]"
     ]
    },
    {
     "name": "stdout",
     "output_type": "stream",
     "text": [
      "465 0\n",
      "saved /home/maciej/repos/pallet-recognition/data/jpeg_marked/localised/r_1_24.jpg\n",
      "/home/maciej/repos/pallet-recognition/data/jpeg_marked/ r_1_25.jpg\n",
      "height:  25 percent:  0.21706472555577414\n",
      "height:  28 percent:  0.21876281613123721\n"
     ]
    },
    {
     "name": "stderr",
     "output_type": "stream",
     "text": [
      "\r",
      " 22%|██▏       | 19/85 [04:39<16:13, 14.76s/it]"
     ]
    },
    {
     "name": "stdout",
     "output_type": "stream",
     "text": [
      "477 0\n",
      "saved /home/maciej/repos/pallet-recognition/data/jpeg_marked/localised/r_1_25.jpg\n",
      "/home/maciej/repos/pallet-recognition/data/jpeg_marked/ r_1_26.jpg\n",
      "height:  25 percent:  0.24101646009574396\n",
      "height:  37 percent:  0.2412724751665038\n",
      "height:  40 percent:  0.25838397921731254\n",
      "height:  55 percent:  0.26784004947036427\n"
     ]
    },
    {
     "name": "stderr",
     "output_type": "stream",
     "text": [
      "\r",
      " 24%|██▎       | 20/85 [04:54<16:01, 14.80s/it]"
     ]
    },
    {
     "name": "stdout",
     "output_type": "stream",
     "text": [
      "282 327\n",
      "saved /home/maciej/repos/pallet-recognition/data/jpeg_marked/localised/r_1_26.jpg\n",
      "/home/maciej/repos/pallet-recognition/data/jpeg_marked/ r_1_27.jpg\n",
      "height:  25 percent:  0.24781034821955536\n",
      "height:  28 percent:  0.2697726721495822\n",
      "height:  31 percent:  0.281886691911073\n",
      "height:  37 percent:  0.29592707930807177\n",
      "height:  40 percent:  0.3148853218297663\n"
     ]
    },
    {
     "name": "stderr",
     "output_type": "stream",
     "text": [
      "\r",
      " 25%|██▍       | 21/85 [05:10<15:57, 14.95s/it]"
     ]
    },
    {
     "name": "stdout",
     "output_type": "stream",
     "text": [
      "66 309\n",
      "saved /home/maciej/repos/pallet-recognition/data/jpeg_marked/localised/r_1_27.jpg\n",
      "/home/maciej/repos/pallet-recognition/data/jpeg_marked/ r_1_28.jpg\n",
      "height:  25 percent:  0.22380746278444488\n",
      "height:  28 percent:  0.23882874341278415\n",
      "height:  31 percent:  0.2794783517307899\n",
      "height:  34 percent:  0.31710821360991637\n",
      "height:  37 percent:  0.32292228309049165\n"
     ]
    },
    {
     "name": "stderr",
     "output_type": "stream",
     "text": [
      "\r",
      " 26%|██▌       | 22/85 [05:25<15:42, 14.96s/it]"
     ]
    },
    {
     "name": "stdout",
     "output_type": "stream",
     "text": [
      "153 303\n",
      "saved /home/maciej/repos/pallet-recognition/data/jpeg_marked/localised/r_1_28.jpg\n",
      "/home/maciej/repos/pallet-recognition/data/jpeg_marked/ r_1_29.jpg\n",
      "height:  25 percent:  0.28132598858941565\n",
      "height:  28 percent:  0.3413974819747315\n"
     ]
    },
    {
     "name": "stderr",
     "output_type": "stream",
     "text": [
      "\r",
      " 27%|██▋       | 23/85 [05:40<15:27, 14.96s/it]"
     ]
    },
    {
     "name": "stdout",
     "output_type": "stream",
     "text": [
      "243 285\n",
      "saved /home/maciej/repos/pallet-recognition/data/jpeg_marked/localised/r_1_29.jpg\n",
      "/home/maciej/repos/pallet-recognition/data/jpeg_marked/ r_1_3.jpg\n",
      "height:  25 percent:  0.29708308741556827\n"
     ]
    },
    {
     "name": "stderr",
     "output_type": "stream",
     "text": [
      "\r",
      " 28%|██▊       | 24/85 [05:54<15:08, 14.90s/it]"
     ]
    },
    {
     "name": "stdout",
     "output_type": "stream",
     "text": [
      "78 246\n",
      "saved /home/maciej/repos/pallet-recognition/data/jpeg_marked/localised/r_1_3.jpg\n",
      "/home/maciej/repos/pallet-recognition/data/jpeg_marked/ r_1_30.jpg\n",
      "height:  25 percent:  0.26747327693619255\n"
     ]
    },
    {
     "name": "stderr",
     "output_type": "stream",
     "text": [
      "\r",
      " 29%|██▉       | 25/85 [06:09<14:54, 14.90s/it]"
     ]
    },
    {
     "name": "stdout",
     "output_type": "stream",
     "text": [
      "279 279\n",
      "saved /home/maciej/repos/pallet-recognition/data/jpeg_marked/localised/r_1_30.jpg\n",
      "/home/maciej/repos/pallet-recognition/data/jpeg_marked/ r_1_31.jpg\n",
      "height:  25 percent:  0.22782608695652173\n",
      "height:  28 percent:  0.23492051242475692\n",
      "height:  31 percent:  0.235020808773622\n",
      "height:  55 percent:  0.24630867537262388\n"
     ]
    },
    {
     "name": "stderr",
     "output_type": "stream",
     "text": [
      "\r",
      " 31%|███       | 26/85 [06:24<14:34, 14.82s/it]"
     ]
    },
    {
     "name": "stdout",
     "output_type": "stream",
     "text": [
      "264 264\n",
      "saved /home/maciej/repos/pallet-recognition/data/jpeg_marked/localised/r_1_31.jpg\n",
      "/home/maciej/repos/pallet-recognition/data/jpeg_marked/ r_1_32.jpg\n",
      "height:  25 percent:  0.22582464423896648\n",
      "height:  28 percent:  0.2337827707097656\n",
      "height:  40 percent:  0.24122197594419814\n",
      "height:  43 percent:  0.30014063100494237\n"
     ]
    },
    {
     "name": "stderr",
     "output_type": "stream",
     "text": [
      "\r",
      " 32%|███▏      | 27/85 [06:39<14:17, 14.78s/it]"
     ]
    },
    {
     "name": "stdout",
     "output_type": "stream",
     "text": [
      "237 255\n",
      "saved /home/maciej/repos/pallet-recognition/data/jpeg_marked/localised/r_1_32.jpg\n",
      "/home/maciej/repos/pallet-recognition/data/jpeg_marked/ r_1_33.jpg\n",
      "height:  25 percent:  0.22100990228867468\n",
      "height:  34 percent:  0.23163824550992274\n",
      "height:  37 percent:  0.31829427408905964\n",
      "height:  40 percent:  0.32783597089152644\n"
     ]
    },
    {
     "name": "stderr",
     "output_type": "stream",
     "text": [
      "\r",
      " 33%|███▎      | 28/85 [06:53<14:02, 14.78s/it]"
     ]
    },
    {
     "name": "stdout",
     "output_type": "stream",
     "text": [
      "177 249\n",
      "saved /home/maciej/repos/pallet-recognition/data/jpeg_marked/localised/r_1_33.jpg\n",
      "/home/maciej/repos/pallet-recognition/data/jpeg_marked/ r_1_34.jpg\n",
      "height:  25 percent:  0.223183159551446\n",
      "height:  28 percent:  0.23121403214781824\n",
      "height:  31 percent:  0.2380751437859465\n",
      "height:  34 percent:  0.29206267884075765\n",
      "height:  37 percent:  0.35497738276543994\n"
     ]
    },
    {
     "name": "stderr",
     "output_type": "stream",
     "text": [
      "\r",
      " 34%|███▍      | 29/85 [07:08<13:49, 14.82s/it]"
     ]
    },
    {
     "name": "stdout",
     "output_type": "stream",
     "text": [
      "126 246\n",
      "saved /home/maciej/repos/pallet-recognition/data/jpeg_marked/localised/r_1_34.jpg\n",
      "/home/maciej/repos/pallet-recognition/data/jpeg_marked/ r_1_35.jpg\n",
      "height:  25 percent:  0.2323194963604171\n",
      "height:  28 percent:  0.23890701827883487\n",
      "height:  34 percent:  0.26535027377330767\n"
     ]
    },
    {
     "name": "stderr",
     "output_type": "stream",
     "text": [
      "\r",
      " 35%|███▌      | 30/85 [07:23<13:33, 14.80s/it]"
     ]
    },
    {
     "name": "stdout",
     "output_type": "stream",
     "text": [
      "78 246\n",
      "saved /home/maciej/repos/pallet-recognition/data/jpeg_marked/localised/r_1_35.jpg\n",
      "/home/maciej/repos/pallet-recognition/data/jpeg_marked/ r_1_36.jpg\n",
      "height:  25 percent:  0.1588235294117647\n",
      "height:  28 percent:  0.23387758251934826\n",
      "height:  31 percent:  0.280273937532002\n"
     ]
    },
    {
     "name": "stderr",
     "output_type": "stream",
     "text": [
      "\r",
      " 36%|███▋      | 31/85 [07:38<13:15, 14.73s/it]"
     ]
    },
    {
     "name": "stdout",
     "output_type": "stream",
     "text": [
      "447 246\n",
      "saved /home/maciej/repos/pallet-recognition/data/jpeg_marked/localised/r_1_36.jpg\n",
      "/home/maciej/repos/pallet-recognition/data/jpeg_marked/ r_1_37.jpg\n",
      "height:  25 percent:  0.2382202111613876\n"
     ]
    },
    {
     "name": "stderr",
     "output_type": "stream",
     "text": [
      "\r",
      " 38%|███▊      | 32/85 [07:52<12:59, 14.72s/it]"
     ]
    },
    {
     "name": "stdout",
     "output_type": "stream",
     "text": [
      "432 0\n",
      "saved /home/maciej/repos/pallet-recognition/data/jpeg_marked/localised/r_1_37.jpg\n",
      "/home/maciej/repos/pallet-recognition/data/jpeg_marked/ r_1_38.jpg\n",
      "height:  25 percent:  0.15235228539576368\n",
      "height:  28 percent:  0.20241880360725859\n"
     ]
    },
    {
     "name": "stderr",
     "output_type": "stream",
     "text": [
      "\r",
      " 39%|███▉      | 33/85 [08:07<12:47, 14.77s/it]"
     ]
    },
    {
     "name": "stdout",
     "output_type": "stream",
     "text": [
      "279 207\n",
      "saved /home/maciej/repos/pallet-recognition/data/jpeg_marked/localised/r_1_38.jpg\n",
      "/home/maciej/repos/pallet-recognition/data/jpeg_marked/ r_1_39.jpg\n",
      "height:  25 percent:  0.11702800183618599\n",
      "height:  28 percent:  0.13002998699093776\n",
      "height:  31 percent:  0.16748234677717047\n",
      "height:  34 percent:  0.17651614867230472\n"
     ]
    },
    {
     "name": "stderr",
     "output_type": "stream",
     "text": [
      "\r",
      " 40%|████      | 34/85 [08:23<12:53, 15.17s/it]"
     ]
    },
    {
     "name": "stdout",
     "output_type": "stream",
     "text": [
      "195 252\n",
      "saved /home/maciej/repos/pallet-recognition/data/jpeg_marked/localised/r_1_39.jpg\n",
      "/home/maciej/repos/pallet-recognition/data/jpeg_marked/ r_1_4.jpg\n",
      "height:  25 percent:  0.22819594727523113\n",
      "height:  28 percent:  0.26388772517804776\n",
      "height:  31 percent:  0.26457804927422335\n"
     ]
    },
    {
     "name": "stderr",
     "output_type": "stream",
     "text": [
      "\r",
      " 41%|████      | 35/85 [08:39<12:44, 15.30s/it]"
     ]
    },
    {
     "name": "stdout",
     "output_type": "stream",
     "text": [
      "414 252\n",
      "saved /home/maciej/repos/pallet-recognition/data/jpeg_marked/localised/r_1_4.jpg\n",
      "/home/maciej/repos/pallet-recognition/data/jpeg_marked/ r_1_40.jpg\n",
      "height:  25 percent:  0.11233130041314186\n",
      "height:  28 percent:  0.1147917447577889\n",
      "height:  31 percent:  0.14779438907345885\n"
     ]
    },
    {
     "name": "stderr",
     "output_type": "stream",
     "text": [
      "\r",
      " 42%|████▏     | 36/85 [08:55<12:48, 15.68s/it]"
     ]
    },
    {
     "name": "stdout",
     "output_type": "stream",
     "text": [
      "237 204\n",
      "saved /home/maciej/repos/pallet-recognition/data/jpeg_marked/localised/r_1_40.jpg\n",
      "/home/maciej/repos/pallet-recognition/data/jpeg_marked/ r_1_41.jpg\n",
      "height:  25 percent:  0.14892779854416682\n",
      "height:  34 percent:  0.15657286949129395\n",
      "height:  37 percent:  0.16694428659104857\n"
     ]
    },
    {
     "name": "stderr",
     "output_type": "stream",
     "text": [
      "\r",
      " 44%|████▎     | 37/85 [09:11<12:26, 15.56s/it]"
     ]
    },
    {
     "name": "stdout",
     "output_type": "stream",
     "text": [
      "237 198\n",
      "saved /home/maciej/repos/pallet-recognition/data/jpeg_marked/localised/r_1_41.jpg\n",
      "/home/maciej/repos/pallet-recognition/data/jpeg_marked/ r_1_42.jpg\n",
      "height:  25 percent:  0.18292871663715654\n",
      "height:  55 percent:  0.19581971773435947\n"
     ]
    },
    {
     "name": "stderr",
     "output_type": "stream",
     "text": [
      "\r",
      " 45%|████▍     | 38/85 [09:26<12:03, 15.39s/it]"
     ]
    },
    {
     "name": "stdout",
     "output_type": "stream",
     "text": [
      "132 258\n",
      "saved /home/maciej/repos/pallet-recognition/data/jpeg_marked/localised/r_1_42.jpg\n",
      "/home/maciej/repos/pallet-recognition/data/jpeg_marked/ r_1_43.jpg\n",
      "height:  25 percent:  0.20426126303364153\n",
      "height:  28 percent:  0.2193757855048178\n",
      "height:  64 percent:  0.22435428842179989\n"
     ]
    },
    {
     "name": "stderr",
     "output_type": "stream",
     "text": [
      "\r",
      " 46%|████▌     | 39/85 [09:41<11:43, 15.28s/it]"
     ]
    },
    {
     "name": "stdout",
     "output_type": "stream",
     "text": [
      "111 264\n",
      "saved /home/maciej/repos/pallet-recognition/data/jpeg_marked/localised/r_1_43.jpg\n",
      "/home/maciej/repos/pallet-recognition/data/jpeg_marked/ r_1_44.jpg\n",
      "height:  25 percent:  0.29186438454980657\n",
      "height:  28 percent:  0.32131281282384844\n"
     ]
    },
    {
     "name": "stderr",
     "output_type": "stream",
     "text": [
      "\r",
      " 47%|████▋     | 40/85 [09:56<11:25, 15.23s/it]"
     ]
    },
    {
     "name": "stdout",
     "output_type": "stream",
     "text": [
      "96 291\n",
      "saved /home/maciej/repos/pallet-recognition/data/jpeg_marked/localised/r_1_44.jpg\n",
      "/home/maciej/repos/pallet-recognition/data/jpeg_marked/ r_1_45.jpg\n",
      "height:  25 percent:  0.29880385599055675\n",
      "height:  40 percent:  0.3138249360471583\n",
      "height:  43 percent:  0.3166321861543334\n"
     ]
    },
    {
     "name": "stderr",
     "output_type": "stream",
     "text": [
      "\r",
      " 48%|████▊     | 41/85 [10:11<11:08, 15.19s/it]"
     ]
    },
    {
     "name": "stdout",
     "output_type": "stream",
     "text": [
      "345 309\n",
      "saved /home/maciej/repos/pallet-recognition/data/jpeg_marked/localised/r_1_45.jpg\n",
      "/home/maciej/repos/pallet-recognition/data/jpeg_marked/ r_1_46.jpg\n",
      "height:  25 percent:  0.24427437864778018\n",
      "height:  31 percent:  0.2542629705045309\n",
      "height:  40 percent:  0.2604535090646201\n",
      "height:  43 percent:  0.2685757494897323\n",
      "height:  46 percent:  0.28317589307812885\n",
      "height:  55 percent:  0.29207361452881847\n",
      "height:  58 percent:  0.3006726032588102\n"
     ]
    },
    {
     "name": "stderr",
     "output_type": "stream",
     "text": [
      "\r",
      " 49%|████▉     | 42/85 [10:26<10:52, 15.18s/it]"
     ]
    },
    {
     "name": "stdout",
     "output_type": "stream",
     "text": [
      "18 333\n",
      "saved /home/maciej/repos/pallet-recognition/data/jpeg_marked/localised/r_1_46.jpg\n",
      "/home/maciej/repos/pallet-recognition/data/jpeg_marked/ r_1_47.jpg\n",
      "height:  25 percent:  0.2312453275624631\n",
      "height:  28 percent:  0.23455780212995836\n",
      "height:  31 percent:  0.23708382452756047\n",
      "height:  46 percent:  0.23988073957960937\n",
      "height:  64 percent:  0.24348528162675423\n"
     ]
    },
    {
     "name": "stderr",
     "output_type": "stream",
     "text": [
      "\r",
      " 51%|█████     | 43/85 [10:41<10:38, 15.19s/it]"
     ]
    },
    {
     "name": "stdout",
     "output_type": "stream",
     "text": [
      "6 357\n",
      "saved /home/maciej/repos/pallet-recognition/data/jpeg_marked/localised/r_1_47.jpg\n",
      "/home/maciej/repos/pallet-recognition/data/jpeg_marked/ r_1_48.jpg\n",
      "height:  25 percent:  0.21281920125909892\n",
      "height:  28 percent:  0.22571384472912487\n",
      "height:  31 percent:  0.23320859976898986\n",
      "height:  46 percent:  0.2400368048107509\n"
     ]
    },
    {
     "name": "stderr",
     "output_type": "stream",
     "text": [
      "\r",
      " 52%|█████▏    | 44/85 [10:57<10:25, 15.26s/it]"
     ]
    },
    {
     "name": "stdout",
     "output_type": "stream",
     "text": [
      "99 366\n",
      "saved /home/maciej/repos/pallet-recognition/data/jpeg_marked/localised/r_1_48.jpg\n",
      "/home/maciej/repos/pallet-recognition/data/jpeg_marked/ r_1_49.jpg\n",
      "height:  25 percent:  0.2272463768115942\n",
      "height:  28 percent:  0.23547946111613344\n"
     ]
    },
    {
     "name": "stderr",
     "output_type": "stream",
     "text": [
      "\r",
      " 53%|█████▎    | 45/85 [11:11<10:01, 15.03s/it]"
     ]
    },
    {
     "name": "stdout",
     "output_type": "stream",
     "text": [
      "468 0\n",
      "saved /home/maciej/repos/pallet-recognition/data/jpeg_marked/localised/r_1_49.jpg\n",
      "/home/maciej/repos/pallet-recognition/data/jpeg_marked/ r_1_5.jpg\n",
      "height:  25 percent:  0.26910223621221063\n",
      "height:  31 percent:  0.28157113683182705\n"
     ]
    },
    {
     "name": "stderr",
     "output_type": "stream",
     "text": [
      "\r",
      " 54%|█████▍    | 46/85 [11:26<09:43, 14.97s/it]"
     ]
    },
    {
     "name": "stdout",
     "output_type": "stream",
     "text": [
      "411 252\n",
      "saved /home/maciej/repos/pallet-recognition/data/jpeg_marked/localised/r_1_5.jpg\n",
      "/home/maciej/repos/pallet-recognition/data/jpeg_marked/ r_1_50.jpg\n",
      "height:  25 percent:  0.225963669748836\n",
      "height:  28 percent:  0.2318071571891606\n"
     ]
    },
    {
     "name": "stderr",
     "output_type": "stream",
     "text": [
      "\r",
      " 55%|█████▌    | 47/85 [11:41<09:25, 14.87s/it]"
     ]
    },
    {
     "name": "stdout",
     "output_type": "stream",
     "text": [
      "447 0\n",
      "saved /home/maciej/repos/pallet-recognition/data/jpeg_marked/localised/r_1_50.jpg\n",
      "/home/maciej/repos/pallet-recognition/data/jpeg_marked/ r_1_51.jpg\n",
      "height:  25 percent:  0.2289855072463768\n",
      "height:  28 percent:  0.23129781932837956\n",
      "height:  52 percent:  0.24039601573900352\n"
     ]
    },
    {
     "name": "stderr",
     "output_type": "stream",
     "text": [
      "\r",
      " 56%|█████▋    | 48/85 [11:55<09:07, 14.80s/it]"
     ]
    },
    {
     "name": "stdout",
     "output_type": "stream",
     "text": [
      "75 324\n",
      "saved /home/maciej/repos/pallet-recognition/data/jpeg_marked/localised/r_1_51.jpg\n",
      "/home/maciej/repos/pallet-recognition/data/jpeg_marked/ r_1_52.jpg\n",
      "height:  25 percent:  0.22335497409666208\n",
      "height:  28 percent:  0.24376005997398184\n",
      "height:  40 percent:  0.25615039642817417\n",
      "height:  43 percent:  0.2801527629687645\n"
     ]
    },
    {
     "name": "stderr",
     "output_type": "stream",
     "text": [
      "\r",
      " 58%|█████▊    | 49/85 [12:10<08:52, 14.78s/it]"
     ]
    },
    {
     "name": "stdout",
     "output_type": "stream",
     "text": [
      "159 303\n",
      "saved /home/maciej/repos/pallet-recognition/data/jpeg_marked/localised/r_1_52.jpg\n",
      "/home/maciej/repos/pallet-recognition/data/jpeg_marked/ r_1_53.jpg\n",
      "height:  25 percent:  0.23241655190504293\n",
      "height:  28 percent:  0.237102286508059\n",
      "height:  31 percent:  0.2833803689017492\n",
      "height:  34 percent:  0.2957013535171631\n"
     ]
    },
    {
     "name": "stderr",
     "output_type": "stream",
     "text": [
      "\r",
      " 59%|█████▉    | 50/85 [12:25<08:37, 14.78s/it]"
     ]
    },
    {
     "name": "stdout",
     "output_type": "stream",
     "text": [
      "195 288\n",
      "saved /home/maciej/repos/pallet-recognition/data/jpeg_marked/localised/r_1_53.jpg\n",
      "/home/maciej/repos/pallet-recognition/data/jpeg_marked/ r_1_54.jpg\n",
      "height:  25 percent:  0.22683848121188277\n",
      "height:  28 percent:  0.23365708993892356\n",
      "height:  61 percent:  0.24282558332447995\n",
      "height:  64 percent:  0.2506248732267593\n",
      "height:  67 percent:  0.2539611100976783\n"
     ]
    },
    {
     "name": "stderr",
     "output_type": "stream",
     "text": [
      "\r",
      " 60%|██████    | 51/85 [12:39<08:21, 14.74s/it]"
     ]
    },
    {
     "name": "stdout",
     "output_type": "stream",
     "text": [
      "183 264\n",
      "saved /home/maciej/repos/pallet-recognition/data/jpeg_marked/localised/r_1_54.jpg\n",
      "/home/maciej/repos/pallet-recognition/data/jpeg_marked/ r_1_55.jpg\n",
      "height:  25 percent:  0.22753623188405797\n",
      "height:  28 percent:  0.2337342623420722\n",
      "height:  31 percent:  0.23552912037533194\n",
      "height:  49 percent:  0.25180072028811523\n",
      "height:  52 percent:  0.28152035126120495\n",
      "height:  55 percent:  0.29319264438432924\n"
     ]
    },
    {
     "name": "stderr",
     "output_type": "stream",
     "text": [
      "\r",
      " 61%|██████    | 52/85 [12:54<08:06, 14.75s/it]"
     ]
    },
    {
     "name": "stdout",
     "output_type": "stream",
     "text": [
      "186 255\n",
      "saved /home/maciej/repos/pallet-recognition/data/jpeg_marked/localised/r_1_55.jpg\n",
      "/home/maciej/repos/pallet-recognition/data/jpeg_marked/ r_1_56.jpg\n",
      "height:  25 percent:  0.22860515443635648\n",
      "height:  28 percent:  0.23758737018499326\n"
     ]
    },
    {
     "name": "stderr",
     "output_type": "stream",
     "text": [
      "\r",
      " 62%|██████▏   | 53/85 [13:09<07:50, 14.71s/it]"
     ]
    },
    {
     "name": "stdout",
     "output_type": "stream",
     "text": [
      "462 0\n",
      "saved /home/maciej/repos/pallet-recognition/data/jpeg_marked/localised/r_1_56.jpg\n",
      "/home/maciej/repos/pallet-recognition/data/jpeg_marked/ r_1_57.jpg\n",
      "height:  25 percent:  0.2179015017378189\n",
      "height:  28 percent:  0.2197131391528675\n",
      "height:  37 percent:  0.2451662764530721\n",
      "height:  40 percent:  0.2867659325992659\n",
      "height:  43 percent:  0.29318275563346263\n"
     ]
    },
    {
     "name": "stderr",
     "output_type": "stream",
     "text": [
      "\r",
      " 64%|██████▎   | 54/85 [13:24<07:38, 14.80s/it]"
     ]
    },
    {
     "name": "stdout",
     "output_type": "stream",
     "text": [
      "216 249\n",
      "saved /home/maciej/repos/pallet-recognition/data/jpeg_marked/localised/r_1_57.jpg\n",
      "/home/maciej/repos/pallet-recognition/data/jpeg_marked/ r_1_58.jpg\n",
      "height:  25 percent:  0.22805692176536166\n",
      "height:  28 percent:  0.23185676801975616\n",
      "height:  31 percent:  0.23405330499291488\n",
      "height:  34 percent:  0.2521355652728339\n",
      "height:  37 percent:  0.27810742618143797\n",
      "height:  40 percent:  0.2929977596644263\n"
     ]
    },
    {
     "name": "stderr",
     "output_type": "stream",
     "text": [
      "\r",
      " 65%|██████▍   | 55/85 [13:39<07:23, 14.77s/it]"
     ]
    },
    {
     "name": "stdout",
     "output_type": "stream",
     "text": [
      "222 246\n",
      "saved /home/maciej/repos/pallet-recognition/data/jpeg_marked/localised/r_1_58.jpg\n",
      "/home/maciej/repos/pallet-recognition/data/jpeg_marked/ r_1_59.jpg\n",
      "height:  25 percent:  0.22822349006492232\n",
      "height:  34 percent:  0.231923287004572\n"
     ]
    },
    {
     "name": "stderr",
     "output_type": "stream",
     "text": [
      "\r",
      " 66%|██████▌   | 56/85 [13:53<07:08, 14.76s/it]"
     ]
    },
    {
     "name": "stdout",
     "output_type": "stream",
     "text": [
      "240 246\n",
      "saved /home/maciej/repos/pallet-recognition/data/jpeg_marked/localised/r_1_59.jpg\n",
      "/home/maciej/repos/pallet-recognition/data/jpeg_marked/ r_1_6.jpg\n",
      "height:  25 percent:  0.20179946225982032\n",
      "height:  28 percent:  0.20419928119418773\n",
      "height:  31 percent:  0.255037717762774\n"
     ]
    },
    {
     "name": "stderr",
     "output_type": "stream",
     "text": [
      "\r",
      " 67%|██████▋   | 57/85 [14:08<06:52, 14.72s/it]"
     ]
    },
    {
     "name": "stdout",
     "output_type": "stream",
     "text": [
      "414 255\n",
      "saved /home/maciej/repos/pallet-recognition/data/jpeg_marked/localised/r_1_6.jpg\n",
      "/home/maciej/repos/pallet-recognition/data/jpeg_marked/ r_1_60.jpg\n",
      "height:  25 percent:  0.21277591973244148\n",
      "height:  28 percent:  0.2305922430710207\n",
      "height:  31 percent:  0.2693195620333655\n",
      "height:  34 percent:  0.27053980005770134\n"
     ]
    },
    {
     "name": "stderr",
     "output_type": "stream",
     "text": [
      "\r",
      " 68%|██████▊   | 58/85 [14:23<06:37, 14.71s/it]"
     ]
    },
    {
     "name": "stdout",
     "output_type": "stream",
     "text": [
      "246 246\n",
      "saved /home/maciej/repos/pallet-recognition/data/jpeg_marked/localised/r_1_60.jpg\n",
      "/home/maciej/repos/pallet-recognition/data/jpeg_marked/ r_1_61.jpg\n",
      "height:  25 percent:  0.22637156534854744\n",
      "height:  28 percent:  0.2557041430555862\n",
      "height:  31 percent:  0.3355920825444456\n"
     ]
    },
    {
     "name": "stderr",
     "output_type": "stream",
     "text": [
      "\r",
      " 69%|██████▉   | 59/85 [14:37<06:21, 14.69s/it]"
     ]
    },
    {
     "name": "stdout",
     "output_type": "stream",
     "text": [
      "249 243\n",
      "saved /home/maciej/repos/pallet-recognition/data/jpeg_marked/localised/r_1_61.jpg\n",
      "/home/maciej/repos/pallet-recognition/data/jpeg_marked/ r_1_62.jpg\n",
      "height:  25 percent:  0.23304347826086957\n",
      "height:  28 percent:  0.23434171940114215\n",
      "height:  31 percent:  0.25383652460734235\n"
     ]
    },
    {
     "name": "stderr",
     "output_type": "stream",
     "text": [
      "\r",
      " 71%|███████   | 60/85 [14:52<06:07, 14.68s/it]"
     ]
    },
    {
     "name": "stdout",
     "output_type": "stream",
     "text": [
      "246 243\n",
      "saved /home/maciej/repos/pallet-recognition/data/jpeg_marked/localised/r_1_62.jpg\n",
      "/home/maciej/repos/pallet-recognition/data/jpeg_marked/ r_1_63.jpg\n",
      "height:  25 percent:  0.24345465276411568\n",
      "height:  28 percent:  0.30339668820144206\n"
     ]
    },
    {
     "name": "stderr",
     "output_type": "stream",
     "text": [
      "\r",
      " 72%|███████▏  | 61/85 [15:07<05:51, 14.66s/it]"
     ]
    },
    {
     "name": "stdout",
     "output_type": "stream",
     "text": [
      "252 243\n",
      "saved /home/maciej/repos/pallet-recognition/data/jpeg_marked/localised/r_1_63.jpg\n",
      "/home/maciej/repos/pallet-recognition/data/jpeg_marked/ r_1_64.jpg\n",
      "height:  25 percent:  0.22198176929634733\n",
      "height:  28 percent:  0.2304797918550041\n",
      "height:  31 percent:  0.2595775431953226\n"
     ]
    },
    {
     "name": "stderr",
     "output_type": "stream",
     "text": [
      "\r",
      " 73%|███████▎  | 62/85 [15:21<05:37, 14.70s/it]"
     ]
    },
    {
     "name": "stdout",
     "output_type": "stream",
     "text": [
      "261 243\n",
      "saved /home/maciej/repos/pallet-recognition/data/jpeg_marked/localised/r_1_64.jpg\n",
      "/home/maciej/repos/pallet-recognition/data/jpeg_marked/ r_1_65.jpg\n",
      "height:  25 percent:  0.21351039412420486\n",
      "height:  28 percent:  0.25827618900623994\n",
      "height:  31 percent:  0.2767246871241621\n"
     ]
    },
    {
     "name": "stderr",
     "output_type": "stream",
     "text": [
      "\r",
      " 74%|███████▍  | 63/85 [15:36<05:24, 14.73s/it]"
     ]
    },
    {
     "name": "stdout",
     "output_type": "stream",
     "text": [
      "129 243\n",
      "saved /home/maciej/repos/pallet-recognition/data/jpeg_marked/localised/r_1_65.jpg\n",
      "/home/maciej/repos/pallet-recognition/data/jpeg_marked/ r_1_66.jpg\n",
      "height:  25 percent:  0.23433274313069707\n",
      "height:  34 percent:  0.26628201679498875\n"
     ]
    },
    {
     "name": "stderr",
     "output_type": "stream",
     "text": [
      "\r",
      " 75%|███████▌  | 64/85 [15:51<05:09, 14.72s/it]"
     ]
    },
    {
     "name": "stdout",
     "output_type": "stream",
     "text": [
      "375 246\n",
      "saved /home/maciej/repos/pallet-recognition/data/jpeg_marked/localised/r_1_66.jpg\n",
      "/home/maciej/repos/pallet-recognition/data/jpeg_marked/ r_1_67.jpg\n",
      "height:  25 percent:  0.21686536822086694\n",
      "height:  28 percent:  0.23340572839723944\n",
      "height:  31 percent:  0.242256248585956\n"
     ]
    },
    {
     "name": "stderr",
     "output_type": "stream",
     "text": [
      "\r",
      " 76%|███████▋  | 65/85 [16:05<04:54, 14.70s/it]"
     ]
    },
    {
     "name": "stdout",
     "output_type": "stream",
     "text": [
      "285 246\n",
      "saved /home/maciej/repos/pallet-recognition/data/jpeg_marked/localised/r_1_67.jpg\n",
      "/home/maciej/repos/pallet-recognition/data/jpeg_marked/ r_1_7.jpg\n",
      "height:  25 percent:  0.23101318119220932\n",
      "height:  31 percent:  0.23760329963443239\n"
     ]
    },
    {
     "name": "stderr",
     "output_type": "stream",
     "text": [
      "\r",
      " 78%|███████▊  | 66/85 [16:20<04:39, 14.71s/it]"
     ]
    },
    {
     "name": "stdout",
     "output_type": "stream",
     "text": [
      "411 252\n",
      "saved /home/maciej/repos/pallet-recognition/data/jpeg_marked/localised/r_1_7.jpg\n",
      "/home/maciej/repos/pallet-recognition/data/jpeg_marked/ r_1_8.jpg\n",
      "height:  25 percent:  0.20526329595383302\n",
      "height:  31 percent:  0.25087521880470115\n"
     ]
    },
    {
     "name": "stderr",
     "output_type": "stream",
     "text": [
      "\r",
      " 79%|███████▉  | 67/85 [16:35<04:25, 14.76s/it]"
     ]
    },
    {
     "name": "stdout",
     "output_type": "stream",
     "text": [
      "411 252\n",
      "saved /home/maciej/repos/pallet-recognition/data/jpeg_marked/localised/r_1_8.jpg\n",
      "/home/maciej/repos/pallet-recognition/data/jpeg_marked/ r_1_9.jpg\n",
      "height:  25 percent:  0.1875349203226441\n",
      "height:  28 percent:  0.19450532489581723\n",
      "height:  31 percent:  0.21579725288464982\n",
      "height:  34 percent:  0.21750552628850056\n"
     ]
    },
    {
     "name": "stderr",
     "output_type": "stream",
     "text": [
      "\r",
      " 80%|████████  | 68/85 [16:50<04:10, 14.76s/it]"
     ]
    },
    {
     "name": "stdout",
     "output_type": "stream",
     "text": [
      "402 252\n",
      "saved /home/maciej/repos/pallet-recognition/data/jpeg_marked/localised/r_1_9.jpg\n",
      "/home/maciej/repos/pallet-recognition/data/jpeg_marked/ r_2_0.jpg\n",
      "height:  25 percent:  0.24989835399042562\n",
      "height:  37 percent:  0.2739735867069761\n"
     ]
    },
    {
     "name": "stderr",
     "output_type": "stream",
     "text": [
      "\r",
      " 81%|████████  | 69/85 [17:04<03:55, 14.71s/it]"
     ]
    },
    {
     "name": "stdout",
     "output_type": "stream",
     "text": [
      "60 282\n",
      "saved /home/maciej/repos/pallet-recognition/data/jpeg_marked/localised/r_2_0.jpg\n",
      "/home/maciej/repos/pallet-recognition/data/jpeg_marked/ r_2_1.jpg\n",
      "height:  25 percent:  0.21906747983474323\n"
     ]
    },
    {
     "name": "stderr",
     "output_type": "stream",
     "text": [
      "\r",
      " 82%|████████▏ | 70/85 [17:19<03:41, 14.74s/it]"
     ]
    },
    {
     "name": "stdout",
     "output_type": "stream",
     "text": [
      "441 0\n",
      "saved /home/maciej/repos/pallet-recognition/data/jpeg_marked/localised/r_2_1.jpg\n",
      "/home/maciej/repos/pallet-recognition/data/jpeg_marked/ r_2_10.jpg\n",
      "height:  25 percent:  0.21023804839661617\n",
      "height:  28 percent:  0.24472691993914406\n",
      "height:  31 percent:  0.31936704414198785\n",
      "height:  70 percent:  0.33847932565716066\n",
      "height:  73 percent:  0.3400852653328333\n"
     ]
    },
    {
     "name": "stderr",
     "output_type": "stream",
     "text": [
      "\r",
      " 84%|████████▎ | 71/85 [17:34<03:27, 14.81s/it]"
     ]
    },
    {
     "name": "stdout",
     "output_type": "stream",
     "text": [
      "177 285\n",
      "saved /home/maciej/repos/pallet-recognition/data/jpeg_marked/localised/r_2_10.jpg\n",
      "/home/maciej/repos/pallet-recognition/data/jpeg_marked/ r_2_11.jpg\n",
      "height:  25 percent:  0.23520755459374387\n",
      "height:  28 percent:  0.25959142724847306\n",
      "height:  31 percent:  0.259861840460115\n",
      "height:  34 percent:  0.2759686790604745\n",
      "height:  73 percent:  0.30309696394826435\n",
      "height:  76 percent:  0.344545245953016\n",
      "height:  79 percent:  0.37819187736263193\n",
      "height:  82 percent:  0.3888588486574873\n"
     ]
    },
    {
     "name": "stderr",
     "output_type": "stream",
     "text": [
      "\r",
      " 85%|████████▍ | 72/85 [17:49<03:12, 14.81s/it]"
     ]
    },
    {
     "name": "stdout",
     "output_type": "stream",
     "text": [
      "135 285\n",
      "saved /home/maciej/repos/pallet-recognition/data/jpeg_marked/localised/r_2_11.jpg\n",
      "/home/maciej/repos/pallet-recognition/data/jpeg_marked/ r_2_12.jpg\n",
      "height:  25 percent:  0.2238782871007935\n",
      "height:  28 percent:  0.26376424933300996\n",
      "height:  82 percent:  0.3012249142424979\n",
      "height:  85 percent:  0.3351820246927771\n",
      "height:  88 percent:  0.3446387264257149\n",
      "height:  91 percent:  0.3739035442005739\n",
      "height:  94 percent:  0.37756248827415373\n"
     ]
    },
    {
     "name": "stderr",
     "output_type": "stream",
     "text": [
      "\r",
      " 86%|████████▌ | 73/85 [18:04<02:57, 14.80s/it]"
     ]
    },
    {
     "name": "stdout",
     "output_type": "stream",
     "text": [
      "87 285\n",
      "saved /home/maciej/repos/pallet-recognition/data/jpeg_marked/localised/r_2_12.jpg\n",
      "/home/maciej/repos/pallet-recognition/data/jpeg_marked/ r_2_13.jpg\n",
      "height:  25 percent:  0.24339825562331954\n",
      "height:  28 percent:  0.2797852402266664\n"
     ]
    },
    {
     "name": "stderr",
     "output_type": "stream",
     "text": [
      "\r",
      " 87%|████████▋ | 74/85 [18:18<02:42, 14.74s/it]"
     ]
    },
    {
     "name": "stdout",
     "output_type": "stream",
     "text": [
      "height:  97 percent:  0.3061432635566179\n",
      "57 291\n",
      "saved /home/maciej/repos/pallet-recognition/data/jpeg_marked/localised/r_2_13.jpg\n",
      "/home/maciej/repos/pallet-recognition/data/jpeg_marked/ r_2_14.jpg\n",
      "height:  25 percent:  0.22806872581808646\n",
      "height:  28 percent:  0.25016316450951426\n",
      "height:  34 percent:  0.2612429041223596\n",
      "height:  37 percent:  0.2873148000818312\n",
      "height:  40 percent:  0.2978569839680951\n",
      "height:  43 percent:  0.30812100301227147\n"
     ]
    },
    {
     "name": "stderr",
     "output_type": "stream",
     "text": [
      "\r",
      " 88%|████████▊ | 75/85 [18:33<02:27, 14.78s/it]"
     ]
    },
    {
     "name": "stdout",
     "output_type": "stream",
     "text": [
      "390 309\n",
      "saved /home/maciej/repos/pallet-recognition/data/jpeg_marked/localised/r_2_14.jpg\n",
      "/home/maciej/repos/pallet-recognition/data/jpeg_marked/ r_2_15.jpg\n",
      "height:  25 percent:  0.2519771788313988\n"
     ]
    },
    {
     "name": "stderr",
     "output_type": "stream",
     "text": [
      "\r",
      " 89%|████████▉ | 76/85 [18:48<02:12, 14.77s/it]"
     ]
    },
    {
     "name": "stdout",
     "output_type": "stream",
     "text": [
      "252 216\n",
      "saved /home/maciej/repos/pallet-recognition/data/jpeg_marked/localised/r_2_15.jpg\n",
      "/home/maciej/repos/pallet-recognition/data/jpeg_marked/ r_2_16.jpg\n",
      "height:  25 percent:  0.23899796707980853\n"
     ]
    },
    {
     "name": "stderr",
     "output_type": "stream",
     "text": [
      "\r",
      " 91%|█████████ | 77/85 [19:03<01:57, 14.73s/it]"
     ]
    },
    {
     "name": "stdout",
     "output_type": "stream",
     "text": [
      "36 357\n",
      "saved /home/maciej/repos/pallet-recognition/data/jpeg_marked/localised/r_2_16.jpg\n",
      "/home/maciej/repos/pallet-recognition/data/jpeg_marked/ r_2_2.jpg\n",
      "height:  25 percent:  0.19784903928126435\n",
      "height:  52 percent:  0.21450418230143842\n",
      "height:  55 percent:  0.24062197308680847\n"
     ]
    },
    {
     "name": "stderr",
     "output_type": "stream",
     "text": [
      "\r",
      " 92%|█████████▏| 78/85 [19:17<01:42, 14.70s/it]"
     ]
    },
    {
     "name": "stdout",
     "output_type": "stream",
     "text": [
      "276 282\n",
      "saved /home/maciej/repos/pallet-recognition/data/jpeg_marked/localised/r_2_2.jpg\n",
      "/home/maciej/repos/pallet-recognition/data/jpeg_marked/ r_2_3.jpg\n",
      "height:  25 percent:  0.2800944324217982\n"
     ]
    },
    {
     "name": "stderr",
     "output_type": "stream",
     "text": [
      "\r",
      " 93%|█████████▎| 79/85 [19:32<01:28, 14.68s/it]"
     ]
    },
    {
     "name": "stdout",
     "output_type": "stream",
     "text": [
      "438 291\n",
      "saved /home/maciej/repos/pallet-recognition/data/jpeg_marked/localised/r_2_3.jpg\n",
      "/home/maciej/repos/pallet-recognition/data/jpeg_marked/ r_2_4.jpg\n",
      "height:  25 percent:  0.20854875729556033\n",
      "height:  49 percent:  0.2236303612354033\n",
      "height:  52 percent:  0.28523686679174487\n",
      "height:  55 percent:  0.2956889277225574\n"
     ]
    },
    {
     "name": "stderr",
     "output_type": "stream",
     "text": [
      "\r",
      " 94%|█████████▍| 80/85 [19:47<01:13, 14.69s/it]"
     ]
    },
    {
     "name": "stdout",
     "output_type": "stream",
     "text": [
      "276 282\n",
      "saved /home/maciej/repos/pallet-recognition/data/jpeg_marked/localised/r_2_4.jpg\n",
      "/home/maciej/repos/pallet-recognition/data/jpeg_marked/ r_2_5.jpg\n",
      "height:  25 percent:  0.20372614597678534\n",
      "height:  52 percent:  0.2647439154680008\n"
     ]
    },
    {
     "name": "stderr",
     "output_type": "stream",
     "text": [
      "\r",
      " 95%|█████████▌| 81/85 [20:01<00:58, 14.65s/it]"
     ]
    },
    {
     "name": "stdout",
     "output_type": "stream",
     "text": [
      "282 282\n",
      "saved /home/maciej/repos/pallet-recognition/data/jpeg_marked/localised/r_2_5.jpg\n",
      "/home/maciej/repos/pallet-recognition/data/jpeg_marked/ r_2_6.jpg\n",
      "height:  25 percent:  0.282627057511968\n"
     ]
    },
    {
     "name": "stderr",
     "output_type": "stream",
     "text": [
      "\r",
      " 96%|█████████▋| 82/85 [20:16<00:43, 14.65s/it]"
     ]
    },
    {
     "name": "stdout",
     "output_type": "stream",
     "text": [
      "438 294\n",
      "saved /home/maciej/repos/pallet-recognition/data/jpeg_marked/localised/r_2_6.jpg\n",
      "/home/maciej/repos/pallet-recognition/data/jpeg_marked/ r_2_7.jpg\n",
      "height:  25 percent:  0.17823463833694012\n",
      "height:  40 percent:  0.20394481783370672\n",
      "height:  55 percent:  0.23848039153093623\n"
     ]
    },
    {
     "name": "stderr",
     "output_type": "stream",
     "text": [
      "\r",
      " 98%|█████████▊| 83/85 [20:31<00:29, 14.76s/it]"
     ]
    },
    {
     "name": "stdout",
     "output_type": "stream",
     "text": [
      "267 285\n",
      "saved /home/maciej/repos/pallet-recognition/data/jpeg_marked/localised/r_2_7.jpg\n",
      "/home/maciej/repos/pallet-recognition/data/jpeg_marked/ r_2_8.jpg\n",
      "height:  25 percent:  0.19814414059938354\n",
      "height:  28 percent:  0.23626772209115166\n",
      "height:  58 percent:  0.24698049326984858\n",
      "height:  61 percent:  0.26558809473768497\n"
     ]
    },
    {
     "name": "stderr",
     "output_type": "stream",
     "text": [
      "\r",
      " 99%|█████████▉| 84/85 [20:46<00:14, 14.72s/it]"
     ]
    },
    {
     "name": "stdout",
     "output_type": "stream",
     "text": [
      "249 285\n",
      "saved /home/maciej/repos/pallet-recognition/data/jpeg_marked/localised/r_2_8.jpg\n",
      "/home/maciej/repos/pallet-recognition/data/jpeg_marked/ r_2_9.jpg\n",
      "height:  25 percent:  0.2457498852383763\n",
      "height:  28 percent:  0.2671455030538223\n",
      "height:  61 percent:  0.2697082521128864\n",
      "height:  64 percent:  0.2851253787350566\n",
      "height:  67 percent:  0.2886849563044326\n"
     ]
    },
    {
     "name": "stderr",
     "output_type": "stream",
     "text": [
      "100%|██████████| 85/85 [21:00<00:00, 14.83s/it]"
     ]
    },
    {
     "name": "stdout",
     "output_type": "stream",
     "text": [
      "213 285\n",
      "saved /home/maciej/repos/pallet-recognition/data/jpeg_marked/localised/r_2_9.jpg\n"
     ]
    },
    {
     "name": "stderr",
     "output_type": "stream",
     "text": [
      "\n"
     ]
    }
   ],
   "source": [
    "localize_all()"
   ]
  },
  {
   "cell_type": "code",
   "execution_count": null,
   "metadata": {},
   "outputs": [],
   "source": []
  }
 ],
 "metadata": {
  "kernelspec": {
   "display_name": "Python 3",
   "language": "python",
   "name": "python3"
  },
  "language_info": {
   "codemirror_mode": {
    "name": "ipython",
    "version": 3
   },
   "file_extension": ".py",
   "mimetype": "text/x-python",
   "name": "python",
   "nbconvert_exporter": "python",
   "pygments_lexer": "ipython3",
   "version": "3.6.9"
  }
 },
 "nbformat": 4,
 "nbformat_minor": 2
}
