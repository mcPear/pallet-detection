{
 "cells": [
  {
   "cell_type": "code",
   "execution_count": 2,
   "metadata": {},
   "outputs": [],
   "source": [
    "import sys\n",
    "sys.path.insert(1, '../commons')\n",
    "from detection import *\n",
    "from i_o import *\n",
    "from evaluation import evaluate"
   ]
  },
  {
   "cell_type": "markdown",
   "metadata": {},
   "source": [
    "# Set parameters"
   ]
  },
  {
   "cell_type": "code",
   "execution_count": 2,
   "metadata": {},
   "outputs": [],
   "source": [
    "MIN_MASK_WIDTH = 25\n",
    "MAX_MASK_WIDTH = 100\n",
    "MASK_WIDTH_STEP = 3\n",
    "CONF_TH = 0.28\n",
    "KERNEL=(7,7)\n",
    "DENSE_ROW_MARGIN=30\n",
    "DOUBLE_HOLES_FIT=False\n",
    "BLURRED=False\n",
    "MEDIAN_FILTER=False\n",
    "OPENING=True\n",
    "CLOSING=True"
   ]
  },
  {
   "cell_type": "markdown",
   "metadata": {},
   "source": [
    "# Pipeline function"
   ]
  },
  {
   "cell_type": "code",
   "execution_count": 3,
   "metadata": {},
   "outputs": [],
   "source": [
    "def detect_on_single_image(path,filename,model):\n",
    "    img_rbg = cv2.imread(path+filename)\n",
    "    if BLURRED: img_rbg = cv2.medianBlur(img_rbg, 7)\n",
    "    img = classify(img_rbg, model, False).astype('float32')\n",
    "    if MEDIAN_FILTER: img = median_filter(img, False)\n",
    "    if OPENING: img = opening(img, False, KERNEL)\n",
    "    if CLOSING: img = closing(img, False, KERNEL)\n",
    "    results = detect(img, MIN_MASK_WIDTH, MAX_MASK_WIDTH, MASK_WIDTH_STEP, CONF_TH, DENSE_ROW_MARGIN, DOUBLE_HOLES_FIT)\n",
    "    img_marked = draw_pallets(img_rbg, results, False)\n",
    "    save(img_marked, \"detected/\"+filename, False)\n",
    "    return calculate_centers(results)"
   ]
  },
  {
   "cell_type": "code",
   "execution_count": 4,
   "metadata": {},
   "outputs": [],
   "source": [
    "def detect_on_dataset():\n",
    "    centers = dict()\n",
    "    path = \"../data/\"\n",
    "    filenames = [f for f in sorted(listdir(path)) if isfile(join(path, f))]\n",
    "    model = loadBlurredNB() if BLURRED else loadNB()\n",
    "    for i in tqdm(range(len(filenames))):\n",
    "        filename = filenames[i]\n",
    "        print(path, filename)\n",
    "        centers[filename]=detect_on_single_image(path,filename, model)\n",
    "    np.save(\"detected/centers/detected_centers\", centers)"
   ]
  },
  {
   "cell_type": "markdown",
   "metadata": {},
   "source": [
    "# Run all"
   ]
  },
  {
   "cell_type": "code",
   "execution_count": 5,
   "metadata": {
    "scrolled": true
   },
   "outputs": [
    {
     "name": "stderr",
     "output_type": "stream",
     "text": [
      "\r",
      "  0%|          | 0/100 [00:00<?, ?it/s]"
     ]
    },
    {
     "name": "stdout",
     "output_type": "stream",
     "text": [
      "../data/ r_1_0.jpg\n"
     ]
    },
    {
     "name": "stderr",
     "output_type": "stream",
     "text": [
      "\r",
      "  1%|          | 1/100 [00:12<19:53, 12.06s/it]"
     ]
    },
    {
     "name": "stdout",
     "output_type": "stream",
     "text": [
      "saved detected/r_1_0.jpg\n",
      "Fit: 0.3205967604433078\n",
      "Fit: 0.3087096178806607\n",
      "Fit: 0.38742870241369864\n",
      "../data/ r_1_1.jpg\n"
     ]
    },
    {
     "name": "stderr",
     "output_type": "stream",
     "text": [
      "\r",
      "  2%|▏         | 2/100 [00:24<19:46, 12.11s/it]"
     ]
    },
    {
     "name": "stdout",
     "output_type": "stream",
     "text": [
      "saved detected/r_1_1.jpg\n",
      "Fit: 0.3074294974974092\n",
      "Fit: 0.3884758391978947\n",
      "Fit: 0.4087599280772574\n",
      "Fit: 0.2810883549655627\n",
      "../data/ r_1_10.jpg\n"
     ]
    },
    {
     "name": "stderr",
     "output_type": "stream",
     "text": [
      "\r",
      "  3%|▎         | 3/100 [00:35<19:19, 11.96s/it]"
     ]
    },
    {
     "name": "stdout",
     "output_type": "stream",
     "text": [
      "saved detected/r_1_10.jpg\n",
      "Fit: 0.39157963553703823\n",
      "../data/ r_1_11.jpg\n"
     ]
    },
    {
     "name": "stderr",
     "output_type": "stream",
     "text": [
      "\r",
      "  4%|▍         | 4/100 [00:47<18:55, 11.83s/it]"
     ]
    },
    {
     "name": "stdout",
     "output_type": "stream",
     "text": [
      "saved detected/r_1_11.jpg\n",
      "Fit: 0.4088670977268126\n",
      "Fit: 0.31873568375563793\n",
      "../data/ r_1_12.jpg\n"
     ]
    },
    {
     "name": "stderr",
     "output_type": "stream",
     "text": [
      "\r",
      "  5%|▌         | 5/100 [00:59<18:48, 11.88s/it]"
     ]
    },
    {
     "name": "stdout",
     "output_type": "stream",
     "text": [
      "saved detected/r_1_12.jpg\n",
      "Fit: 0.4181953226401838\n",
      "Fit: 0.35397659564326234\n",
      "Fit: 0.43489015699484895\n",
      "../data/ r_1_13.jpg\n"
     ]
    },
    {
     "name": "stderr",
     "output_type": "stream",
     "text": [
      "\r",
      "  6%|▌         | 6/100 [01:10<18:24, 11.75s/it]"
     ]
    },
    {
     "name": "stdout",
     "output_type": "stream",
     "text": [
      "saved detected/r_1_13.jpg\n",
      "Fit: 0.4443319479538102\n",
      "Fit: 0.3666726250059583\n",
      "Fit: 0.47348259950446664\n",
      "../data/ r_1_14.jpg\n"
     ]
    },
    {
     "name": "stderr",
     "output_type": "stream",
     "text": [
      "\r",
      "  7%|▋         | 7/100 [01:22<18:00, 11.62s/it]"
     ]
    },
    {
     "name": "stdout",
     "output_type": "stream",
     "text": [
      "saved detected/r_1_14.jpg\n",
      "Fit: 0.3415444634968266\n",
      "Fit: 0.33896483531470917\n",
      "Fit: 0.3993237284903952\n",
      "Fit: 0.31347090536414457\n",
      "../data/ r_1_15.jpg\n"
     ]
    },
    {
     "name": "stderr",
     "output_type": "stream",
     "text": [
      "\r",
      "  8%|▊         | 8/100 [01:33<17:42, 11.55s/it]"
     ]
    },
    {
     "name": "stdout",
     "output_type": "stream",
     "text": [
      "saved detected/r_1_15.jpg\n",
      "Fit: 0.32468414437854165\n",
      "Fit: 0.40328545690140477\n",
      "Fit: 0.3398931147961757\n",
      "../data/ r_1_16.jpg\n"
     ]
    },
    {
     "name": "stderr",
     "output_type": "stream",
     "text": [
      "\r",
      "  9%|▉         | 9/100 [01:45<17:29, 11.54s/it]"
     ]
    },
    {
     "name": "stdout",
     "output_type": "stream",
     "text": [
      "saved detected/r_1_16.jpg\n",
      "Fit: 0.28143353662535253\n",
      "Fit: 0.4258430644985267\n",
      "Fit: 0.3145604395604395\n",
      "../data/ r_1_17.jpg\n"
     ]
    },
    {
     "name": "stderr",
     "output_type": "stream",
     "text": [
      "\r",
      " 10%|█         | 10/100 [01:56<17:17, 11.52s/it]"
     ]
    },
    {
     "name": "stdout",
     "output_type": "stream",
     "text": [
      "saved detected/r_1_17.jpg\n",
      "Fit: 0.42009036690445983\n",
      "../data/ r_1_18.jpg\n"
     ]
    },
    {
     "name": "stderr",
     "output_type": "stream",
     "text": [
      "\r",
      " 11%|█         | 11/100 [02:07<16:52, 11.38s/it]"
     ]
    },
    {
     "name": "stdout",
     "output_type": "stream",
     "text": [
      "saved detected/r_1_18.jpg\n",
      "Fit: 0.3793402846088268\n",
      "Fit: 0.45351356995272024\n",
      "../data/ r_1_19.jpg\n"
     ]
    },
    {
     "name": "stderr",
     "output_type": "stream",
     "text": [
      "\r",
      " 12%|█▏        | 12/100 [02:18<16:26, 11.21s/it]"
     ]
    },
    {
     "name": "stdout",
     "output_type": "stream",
     "text": [
      "saved detected/r_1_19.jpg\n",
      "Fit: 0.3711731504304648\n",
      "Fit: 0.46576718634626235\n",
      "../data/ r_1_2.jpg\n"
     ]
    },
    {
     "name": "stderr",
     "output_type": "stream",
     "text": [
      "\r",
      " 13%|█▎        | 13/100 [02:29<16:23, 11.30s/it]"
     ]
    },
    {
     "name": "stdout",
     "output_type": "stream",
     "text": [
      "saved detected/r_1_2.jpg\n",
      "Fit: 0.3888226520915944\n",
      "Fit: 0.33048030368467707\n",
      "Fit: 0.39019113309191866\n",
      "../data/ r_1_20.jpg\n"
     ]
    },
    {
     "name": "stderr",
     "output_type": "stream",
     "text": [
      "\r",
      " 14%|█▍        | 14/100 [02:40<15:54, 11.09s/it]"
     ]
    },
    {
     "name": "stdout",
     "output_type": "stream",
     "text": [
      "saved detected/r_1_20.jpg\n",
      "Fit: 0.37264610278908006\n",
      "Fit: 0.44261230856993694\n",
      "../data/ r_1_21.jpg\n"
     ]
    },
    {
     "name": "stderr",
     "output_type": "stream",
     "text": [
      "\r",
      " 15%|█▌        | 15/100 [02:50<15:09, 10.70s/it]"
     ]
    },
    {
     "name": "stdout",
     "output_type": "stream",
     "text": [
      "saved detected/r_1_21.jpg\n",
      "Fit: 0.2836262209776641\n",
      "Fit: 0.33366020499555826\n",
      "../data/ r_1_22.jpg\n"
     ]
    },
    {
     "name": "stderr",
     "output_type": "stream",
     "text": [
      "\r",
      " 16%|█▌        | 16/100 [02:59<14:24, 10.29s/it]"
     ]
    },
    {
     "name": "stdout",
     "output_type": "stream",
     "text": [
      "saved detected/r_1_22.jpg\n",
      "../data/ r_1_23.jpg\n"
     ]
    },
    {
     "name": "stderr",
     "output_type": "stream",
     "text": [
      "\r",
      " 17%|█▋        | 17/100 [03:09<13:50, 10.01s/it]"
     ]
    },
    {
     "name": "stdout",
     "output_type": "stream",
     "text": [
      "saved detected/r_1_23.jpg\n",
      "../data/ r_1_24.jpg\n"
     ]
    },
    {
     "name": "stderr",
     "output_type": "stream",
     "text": [
      "\r",
      " 18%|█▊        | 18/100 [03:18<13:34,  9.93s/it]"
     ]
    },
    {
     "name": "stdout",
     "output_type": "stream",
     "text": [
      "saved detected/r_1_24.jpg\n",
      "../data/ r_1_25.jpg\n"
     ]
    },
    {
     "name": "stderr",
     "output_type": "stream",
     "text": [
      "\r",
      " 19%|█▉        | 19/100 [03:28<13:22,  9.91s/it]"
     ]
    },
    {
     "name": "stdout",
     "output_type": "stream",
     "text": [
      "saved detected/r_1_25.jpg\n",
      "../data/ r_1_26.jpg\n"
     ]
    },
    {
     "name": "stderr",
     "output_type": "stream",
     "text": [
      "\r",
      " 20%|██        | 20/100 [03:38<13:12,  9.90s/it]"
     ]
    },
    {
     "name": "stdout",
     "output_type": "stream",
     "text": [
      "saved detected/r_1_26.jpg\n",
      "../data/ r_1_27.jpg\n"
     ]
    },
    {
     "name": "stderr",
     "output_type": "stream",
     "text": [
      "\r",
      " 21%|██        | 21/100 [03:48<13:04,  9.93s/it]"
     ]
    },
    {
     "name": "stdout",
     "output_type": "stream",
     "text": [
      "saved detected/r_1_27.jpg\n",
      "../data/ r_1_28.jpg\n"
     ]
    },
    {
     "name": "stderr",
     "output_type": "stream",
     "text": [
      "\r",
      " 22%|██▏       | 22/100 [03:58<13:02, 10.03s/it]"
     ]
    },
    {
     "name": "stdout",
     "output_type": "stream",
     "text": [
      "saved detected/r_1_28.jpg\n",
      "Fit: 0.3582865455867979\n",
      "../data/ r_1_29.jpg\n"
     ]
    },
    {
     "name": "stderr",
     "output_type": "stream",
     "text": [
      "\r",
      " 23%|██▎       | 23/100 [04:09<13:09, 10.25s/it]"
     ]
    },
    {
     "name": "stdout",
     "output_type": "stream",
     "text": [
      "saved detected/r_1_29.jpg\n",
      "Fit: 0.3565303528263018\n",
      "../data/ r_1_3.jpg\n"
     ]
    },
    {
     "name": "stderr",
     "output_type": "stream",
     "text": [
      "\r",
      " 24%|██▍       | 24/100 [04:21<13:27, 10.63s/it]"
     ]
    },
    {
     "name": "stdout",
     "output_type": "stream",
     "text": [
      "saved detected/r_1_3.jpg\n",
      "Fit: 0.33161781100400023\n",
      "Fit: 0.3059209742911918\n",
      "Fit: 0.42452949546910534\n",
      "../data/ r_1_30.jpg\n"
     ]
    },
    {
     "name": "stderr",
     "output_type": "stream",
     "text": [
      "\r",
      " 25%|██▌       | 25/100 [04:32<13:25, 10.74s/it]"
     ]
    },
    {
     "name": "stdout",
     "output_type": "stream",
     "text": [
      "saved detected/r_1_30.jpg\n",
      "Fit: 0.335953833038232\n",
      "../data/ r_1_31.jpg\n"
     ]
    },
    {
     "name": "stderr",
     "output_type": "stream",
     "text": [
      "\r",
      " 26%|██▌       | 26/100 [04:43<13:26, 10.90s/it]"
     ]
    },
    {
     "name": "stdout",
     "output_type": "stream",
     "text": [
      "saved detected/r_1_31.jpg\n",
      "Fit: 0.29750794863983865\n",
      "../data/ r_1_32.jpg\n"
     ]
    },
    {
     "name": "stderr",
     "output_type": "stream",
     "text": [
      "\r",
      " 27%|██▋       | 27/100 [04:54<13:28, 11.07s/it]"
     ]
    },
    {
     "name": "stdout",
     "output_type": "stream",
     "text": [
      "saved detected/r_1_32.jpg\n",
      "Fit: 0.34900195939966194\n",
      "../data/ r_1_33.jpg\n"
     ]
    },
    {
     "name": "stderr",
     "output_type": "stream",
     "text": [
      "\r",
      " 28%|██▊       | 28/100 [05:06<13:25, 11.19s/it]"
     ]
    },
    {
     "name": "stdout",
     "output_type": "stream",
     "text": [
      "saved detected/r_1_33.jpg\n",
      "Fit: 0.38004091560020914\n",
      "../data/ r_1_34.jpg\n"
     ]
    },
    {
     "name": "stderr",
     "output_type": "stream",
     "text": [
      "\r",
      " 29%|██▉       | 29/100 [05:17<13:20, 11.28s/it]"
     ]
    },
    {
     "name": "stdout",
     "output_type": "stream",
     "text": [
      "saved detected/r_1_34.jpg\n",
      "Fit: 0.3020680765429452\n",
      "Fit: 0.34600459163957903\n",
      "../data/ r_1_35.jpg\n"
     ]
    },
    {
     "name": "stderr",
     "output_type": "stream",
     "text": [
      "\r",
      " 30%|███       | 30/100 [05:29<13:18, 11.41s/it]"
     ]
    },
    {
     "name": "stdout",
     "output_type": "stream",
     "text": [
      "saved detected/r_1_35.jpg\n",
      "../data/ r_1_36.jpg\n"
     ]
    },
    {
     "name": "stderr",
     "output_type": "stream",
     "text": [
      "\r",
      " 31%|███       | 31/100 [05:41<13:16, 11.54s/it]"
     ]
    },
    {
     "name": "stdout",
     "output_type": "stream",
     "text": [
      "saved detected/r_1_36.jpg\n",
      "Fit: 0.42950395336929476\n",
      "Fit: 0.3413621262458472\n",
      "Fit: 0.3493410315277431\n",
      "Fit: 0.41595662946377826\n",
      "../data/ r_1_37.jpg\n"
     ]
    },
    {
     "name": "stderr",
     "output_type": "stream",
     "text": [
      "\r",
      " 32%|███▏      | 32/100 [05:53<13:14, 11.69s/it]"
     ]
    },
    {
     "name": "stdout",
     "output_type": "stream",
     "text": [
      "saved detected/r_1_37.jpg\n",
      "Fit: 0.305927672394289\n",
      "Fit: 0.3837358149061075\n",
      "../data/ r_1_38.jpg\n"
     ]
    },
    {
     "name": "stderr",
     "output_type": "stream",
     "text": [
      "\r",
      " 33%|███▎      | 33/100 [06:05<13:12, 11.83s/it]"
     ]
    },
    {
     "name": "stdout",
     "output_type": "stream",
     "text": [
      "saved detected/r_1_38.jpg\n",
      "Fit: 0.28078224913371197\n",
      "Fit: 0.38157158337203345\n",
      "../data/ r_1_39.jpg\n"
     ]
    },
    {
     "name": "stderr",
     "output_type": "stream",
     "text": [
      "\r",
      " 34%|███▍      | 34/100 [06:17<13:03, 11.87s/it]"
     ]
    },
    {
     "name": "stdout",
     "output_type": "stream",
     "text": [
      "saved detected/r_1_39.jpg\n",
      "Fit: 0.3300634201283187\n",
      "../data/ r_1_4.jpg\n"
     ]
    },
    {
     "name": "stderr",
     "output_type": "stream",
     "text": [
      "\r",
      " 35%|███▌      | 35/100 [06:29<12:46, 11.79s/it]"
     ]
    },
    {
     "name": "stdout",
     "output_type": "stream",
     "text": [
      "saved detected/r_1_4.jpg\n",
      "Fit: 0.28829562594268476\n",
      "Fit: 0.3033206182611955\n",
      "Fit: 0.3519100988622981\n",
      "Fit: 0.3552245885700029\n",
      "Fit: 0.359504317846036\n",
      "../data/ r_1_40.jpg\n"
     ]
    },
    {
     "name": "stderr",
     "output_type": "stream",
     "text": [
      "\r",
      " 36%|███▌      | 36/100 [06:40<12:31, 11.74s/it]"
     ]
    },
    {
     "name": "stdout",
     "output_type": "stream",
     "text": [
      "saved detected/r_1_40.jpg\n",
      "Fit: 0.33027849277849275\n",
      "../data/ r_1_41.jpg\n"
     ]
    },
    {
     "name": "stderr",
     "output_type": "stream",
     "text": [
      "\r",
      " 37%|███▋      | 37/100 [06:52<12:15, 11.68s/it]"
     ]
    },
    {
     "name": "stdout",
     "output_type": "stream",
     "text": [
      "saved detected/r_1_41.jpg\n",
      "Fit: 0.2883134413185564\n",
      "../data/ r_1_42.jpg\n"
     ]
    },
    {
     "name": "stderr",
     "output_type": "stream",
     "text": [
      "\r",
      " 38%|███▊      | 38/100 [07:04<12:06, 11.71s/it]"
     ]
    },
    {
     "name": "stdout",
     "output_type": "stream",
     "text": [
      "saved detected/r_1_42.jpg\n",
      "Fit: 0.31873110798415677\n",
      "../data/ r_1_43.jpg\n"
     ]
    },
    {
     "name": "stderr",
     "output_type": "stream",
     "text": [
      "\r",
      " 39%|███▉      | 39/100 [07:15<11:49, 11.63s/it]"
     ]
    },
    {
     "name": "stdout",
     "output_type": "stream",
     "text": [
      "saved detected/r_1_43.jpg\n",
      "Fit: 0.3111624368839988\n",
      "../data/ r_1_44.jpg\n"
     ]
    },
    {
     "name": "stderr",
     "output_type": "stream",
     "text": [
      "\r",
      " 40%|████      | 40/100 [07:27<11:36, 11.61s/it]"
     ]
    },
    {
     "name": "stdout",
     "output_type": "stream",
     "text": [
      "saved detected/r_1_44.jpg\n",
      "Fit: 0.2848003147747393\n",
      "Fit: 0.37891828926539767\n",
      "../data/ r_1_45.jpg\n"
     ]
    },
    {
     "name": "stderr",
     "output_type": "stream",
     "text": [
      "\r",
      " 41%|████      | 41/100 [07:38<11:20, 11.54s/it]"
     ]
    },
    {
     "name": "stdout",
     "output_type": "stream",
     "text": [
      "saved detected/r_1_45.jpg\n",
      "Fit: 0.36429743235298795\n",
      "Fit: 0.33960607432829654\n",
      "Fit: 0.39614878677043514\n",
      "../data/ r_1_46.jpg\n"
     ]
    },
    {
     "name": "stderr",
     "output_type": "stream",
     "text": [
      "\r",
      " 42%|████▏     | 42/100 [07:48<10:43, 11.09s/it]"
     ]
    },
    {
     "name": "stdout",
     "output_type": "stream",
     "text": [
      "saved detected/r_1_46.jpg\n",
      "Fit: 0.33100863877221426\n",
      "Fit: 0.3002928480814538\n",
      "../data/ r_1_47.jpg\n"
     ]
    },
    {
     "name": "stderr",
     "output_type": "stream",
     "text": [
      "\r",
      " 43%|████▎     | 43/100 [07:57<09:59, 10.51s/it]"
     ]
    },
    {
     "name": "stdout",
     "output_type": "stream",
     "text": [
      "saved detected/r_1_47.jpg\n",
      "../data/ r_1_48.jpg\n"
     ]
    },
    {
     "name": "stderr",
     "output_type": "stream",
     "text": [
      "\r",
      " 44%|████▍     | 44/100 [08:06<09:18,  9.98s/it]"
     ]
    },
    {
     "name": "stdout",
     "output_type": "stream",
     "text": [
      "saved detected/r_1_48.jpg\n",
      "../data/ r_1_49.jpg\n"
     ]
    },
    {
     "name": "stderr",
     "output_type": "stream",
     "text": [
      "\r",
      " 45%|████▌     | 45/100 [08:15<08:52,  9.68s/it]"
     ]
    },
    {
     "name": "stdout",
     "output_type": "stream",
     "text": [
      "saved detected/r_1_49.jpg\n",
      "../data/ r_1_5.jpg\n"
     ]
    },
    {
     "name": "stderr",
     "output_type": "stream",
     "text": [
      "\r",
      " 46%|████▌     | 46/100 [08:27<09:16, 10.31s/it]"
     ]
    },
    {
     "name": "stdout",
     "output_type": "stream",
     "text": [
      "saved detected/r_1_5.jpg\n",
      "Fit: 0.3051981125835116\n",
      "Fit: 0.28031937994683676\n",
      "Fit: 0.3173768771722736\n",
      "Fit: 0.43287682039557507\n",
      "Fit: 0.3699145568548052\n",
      "../data/ r_1_50.jpg\n"
     ]
    },
    {
     "name": "stderr",
     "output_type": "stream",
     "text": [
      "\r",
      " 47%|████▋     | 47/100 [08:36<08:53, 10.07s/it]"
     ]
    },
    {
     "name": "stdout",
     "output_type": "stream",
     "text": [
      "saved detected/r_1_50.jpg\n",
      "../data/ r_1_51.jpg\n"
     ]
    },
    {
     "name": "stderr",
     "output_type": "stream",
     "text": [
      "\r",
      " 48%|████▊     | 48/100 [08:46<08:43, 10.07s/it]"
     ]
    },
    {
     "name": "stdout",
     "output_type": "stream",
     "text": [
      "saved detected/r_1_51.jpg\n",
      "../data/ r_1_52.jpg\n"
     ]
    },
    {
     "name": "stderr",
     "output_type": "stream",
     "text": [
      "\r",
      " 49%|████▉     | 49/100 [08:57<08:38, 10.18s/it]"
     ]
    },
    {
     "name": "stdout",
     "output_type": "stream",
     "text": [
      "saved detected/r_1_52.jpg\n",
      "Fit: 0.2869383950303002\n",
      "../data/ r_1_53.jpg\n"
     ]
    },
    {
     "name": "stderr",
     "output_type": "stream",
     "text": [
      "\r",
      " 50%|█████     | 50/100 [09:07<08:36, 10.33s/it]"
     ]
    },
    {
     "name": "stdout",
     "output_type": "stream",
     "text": [
      "saved detected/r_1_53.jpg\n",
      "Fit: 0.34222353556247587\n",
      "Fit: 0.34620644193394406\n",
      "../data/ r_1_54.jpg\n"
     ]
    },
    {
     "name": "stderr",
     "output_type": "stream",
     "text": [
      "\r",
      " 51%|█████     | 51/100 [09:18<08:37, 10.56s/it]"
     ]
    },
    {
     "name": "stdout",
     "output_type": "stream",
     "text": [
      "saved detected/r_1_54.jpg\n",
      "Fit: 0.29335161171245194\n",
      "../data/ r_1_55.jpg\n"
     ]
    },
    {
     "name": "stderr",
     "output_type": "stream",
     "text": [
      "\r",
      " 52%|█████▏    | 52/100 [09:30<08:38, 10.80s/it]"
     ]
    },
    {
     "name": "stdout",
     "output_type": "stream",
     "text": [
      "saved detected/r_1_55.jpg\n",
      "Fit: 0.28148765222319533\n",
      "../data/ r_1_56.jpg\n"
     ]
    },
    {
     "name": "stderr",
     "output_type": "stream",
     "text": [
      "\r",
      " 53%|█████▎    | 53/100 [09:41<08:35, 10.97s/it]"
     ]
    },
    {
     "name": "stdout",
     "output_type": "stream",
     "text": [
      "saved detected/r_1_56.jpg\n",
      "../data/ r_1_57.jpg\n"
     ]
    },
    {
     "name": "stderr",
     "output_type": "stream",
     "text": [
      "\r",
      " 54%|█████▍    | 54/100 [09:53<08:31, 11.11s/it]"
     ]
    },
    {
     "name": "stdout",
     "output_type": "stream",
     "text": [
      "saved detected/r_1_57.jpg\n",
      "../data/ r_1_58.jpg\n"
     ]
    },
    {
     "name": "stderr",
     "output_type": "stream",
     "text": [
      "\r",
      " 55%|█████▌    | 55/100 [10:04<08:23, 11.20s/it]"
     ]
    },
    {
     "name": "stdout",
     "output_type": "stream",
     "text": [
      "saved detected/r_1_58.jpg\n",
      "../data/ r_1_59.jpg\n"
     ]
    },
    {
     "name": "stderr",
     "output_type": "stream",
     "text": [
      "\r",
      " 56%|█████▌    | 56/100 [10:15<08:14, 11.23s/it]"
     ]
    },
    {
     "name": "stdout",
     "output_type": "stream",
     "text": [
      "saved detected/r_1_59.jpg\n",
      "../data/ r_1_6.jpg\n"
     ]
    },
    {
     "name": "stderr",
     "output_type": "stream",
     "text": [
      "\r",
      " 57%|█████▋    | 57/100 [10:27<08:05, 11.29s/it]"
     ]
    },
    {
     "name": "stdout",
     "output_type": "stream",
     "text": [
      "saved detected/r_1_6.jpg\n",
      "Fit: 0.35835923667125713\n",
      "Fit: 0.3339955460498754\n",
      "Fit: 0.42825810619321497\n",
      "Fit: 0.3882829849863601\n",
      "Fit: 0.340600550087514\n",
      "../data/ r_1_60.jpg\n"
     ]
    },
    {
     "name": "stderr",
     "output_type": "stream",
     "text": [
      "\r",
      " 58%|█████▊    | 58/100 [10:38<07:58, 11.40s/it]"
     ]
    },
    {
     "name": "stdout",
     "output_type": "stream",
     "text": [
      "saved detected/r_1_60.jpg\n",
      "../data/ r_1_61.jpg\n"
     ]
    },
    {
     "name": "stderr",
     "output_type": "stream",
     "text": [
      "\r",
      " 59%|█████▉    | 59/100 [10:50<07:51, 11.51s/it]"
     ]
    },
    {
     "name": "stdout",
     "output_type": "stream",
     "text": [
      "saved detected/r_1_61.jpg\n",
      "Fit: 0.32666648805058407\n",
      "Fit: 0.3040675331448971\n",
      "Fit: 0.3188152660650558\n",
      "../data/ r_1_62.jpg\n"
     ]
    },
    {
     "name": "stderr",
     "output_type": "stream",
     "text": [
      "\r",
      " 60%|██████    | 60/100 [11:02<07:41, 11.53s/it]"
     ]
    },
    {
     "name": "stdout",
     "output_type": "stream",
     "text": [
      "saved detected/r_1_62.jpg\n",
      "Fit: 0.2946644399195037\n",
      "../data/ r_1_63.jpg\n"
     ]
    },
    {
     "name": "stderr",
     "output_type": "stream",
     "text": [
      "\r",
      " 61%|██████    | 61/100 [11:13<07:32, 11.60s/it]"
     ]
    },
    {
     "name": "stdout",
     "output_type": "stream",
     "text": [
      "saved detected/r_1_63.jpg\n",
      "Fit: 0.31776098786601414\n",
      "Fit: 0.3664666166541635\n",
      "Fit: 0.28266143916931613\n",
      "Fit: 0.2894946923374173\n",
      "../data/ r_1_64.jpg\n"
     ]
    },
    {
     "name": "stderr",
     "output_type": "stream",
     "text": [
      "\r",
      " 62%|██████▏   | 62/100 [11:25<07:22, 11.66s/it]"
     ]
    },
    {
     "name": "stdout",
     "output_type": "stream",
     "text": [
      "saved detected/r_1_64.jpg\n",
      "Fit: 0.3141425237261696\n",
      "Fit: 0.3098882319059612\n",
      "Fit: 0.41539923671394036\n",
      "../data/ r_1_65.jpg\n"
     ]
    },
    {
     "name": "stderr",
     "output_type": "stream",
     "text": [
      "\r",
      " 63%|██████▎   | 63/100 [11:37<07:11, 11.66s/it]"
     ]
    },
    {
     "name": "stdout",
     "output_type": "stream",
     "text": [
      "saved detected/r_1_65.jpg\n",
      "Fit: 0.3056530501673037\n",
      "Fit: 0.45053897402922155\n",
      "Fit: 0.3863413770109194\n",
      "Fit: 0.33803315978443116\n",
      "../data/ r_1_66.jpg\n"
     ]
    },
    {
     "name": "stderr",
     "output_type": "stream",
     "text": [
      "\r",
      " 64%|██████▍   | 64/100 [11:49<07:00, 11.69s/it]"
     ]
    },
    {
     "name": "stdout",
     "output_type": "stream",
     "text": [
      "saved detected/r_1_66.jpg\n",
      "Fit: 0.40123696337618237\n",
      "Fit: 0.39503696684021555\n",
      "../data/ r_1_67.jpg\n"
     ]
    },
    {
     "name": "stderr",
     "output_type": "stream",
     "text": [
      "\r",
      " 65%|██████▌   | 65/100 [12:02<07:08, 12.23s/it]"
     ]
    },
    {
     "name": "stdout",
     "output_type": "stream",
     "text": [
      "saved detected/r_1_67.jpg\n",
      "Fit: 0.33506383260203293\n",
      "../data/ r_1_7.jpg\n"
     ]
    },
    {
     "name": "stderr",
     "output_type": "stream",
     "text": [
      "\r",
      " 66%|██████▌   | 66/100 [12:13<06:46, 11.96s/it]"
     ]
    },
    {
     "name": "stdout",
     "output_type": "stream",
     "text": [
      "saved detected/r_1_7.jpg\n",
      "Fit: 0.37030983936460304\n",
      "../data/ r_1_8.jpg\n"
     ]
    },
    {
     "name": "stderr",
     "output_type": "stream",
     "text": [
      "\r",
      " 67%|██████▋   | 67/100 [12:25<06:31, 11.86s/it]"
     ]
    },
    {
     "name": "stdout",
     "output_type": "stream",
     "text": [
      "saved detected/r_1_8.jpg\n",
      "Fit: 0.2805246245655453\n",
      "Fit: 0.3057446389927208\n",
      "Fit: 0.31785550554305253\n",
      "Fit: 0.38877786116977636\n",
      "../data/ r_1_9.jpg\n"
     ]
    },
    {
     "name": "stderr",
     "output_type": "stream",
     "text": [
      "\r",
      " 68%|██████▊   | 68/100 [12:37<06:19, 11.85s/it]"
     ]
    },
    {
     "name": "stdout",
     "output_type": "stream",
     "text": [
      "saved detected/r_1_9.jpg\n",
      "Fit: 0.38010469879374614\n",
      "Fit: 0.3947988485216542\n",
      "../data/ r_2_0.jpg\n"
     ]
    },
    {
     "name": "stderr",
     "output_type": "stream",
     "text": [
      "\r",
      " 69%|██████▉   | 69/100 [12:48<05:59, 11.60s/it]"
     ]
    },
    {
     "name": "stdout",
     "output_type": "stream",
     "text": [
      "saved detected/r_2_0.jpg\n",
      "Fit: 0.3497537219759442\n",
      "Fit: 0.3820779914529915\n",
      "../data/ r_2_1.jpg\n"
     ]
    },
    {
     "name": "stderr",
     "output_type": "stream",
     "text": [
      "\r",
      " 70%|███████   | 70/100 [12:59<05:42, 11.40s/it]"
     ]
    },
    {
     "name": "stdout",
     "output_type": "stream",
     "text": [
      "saved detected/r_2_1.jpg\n",
      "Fit: 0.3326764160253335\n",
      "../data/ r_2_10.jpg\n"
     ]
    },
    {
     "name": "stderr",
     "output_type": "stream",
     "text": [
      "\r",
      " 71%|███████   | 71/100 [13:10<05:24, 11.20s/it]"
     ]
    },
    {
     "name": "stdout",
     "output_type": "stream",
     "text": [
      "saved detected/r_2_10.jpg\n",
      "Fit: 0.3172745753819922\n",
      "Fit: 0.3565511913692709\n",
      "Fit: 0.3875729380363091\n",
      "../data/ r_2_11.jpg\n"
     ]
    },
    {
     "name": "stderr",
     "output_type": "stream",
     "text": [
      "\r",
      " 72%|███████▏  | 72/100 [13:20<05:09, 11.05s/it]"
     ]
    },
    {
     "name": "stdout",
     "output_type": "stream",
     "text": [
      "saved detected/r_2_11.jpg\n",
      "Fit: 0.3198383746705531\n",
      "Fit: 0.4508893639920299\n",
      "../data/ r_2_12.jpg\n"
     ]
    },
    {
     "name": "stderr",
     "output_type": "stream",
     "text": [
      "\r",
      " 73%|███████▎  | 73/100 [13:31<04:55, 10.96s/it]"
     ]
    },
    {
     "name": "stdout",
     "output_type": "stream",
     "text": [
      "saved detected/r_2_12.jpg\n",
      "Fit: 0.31408065618591935\n",
      "Fit: 0.28906462391744137\n",
      "Fit: 0.4143045073738143\n",
      "../data/ r_2_13.jpg\n"
     ]
    },
    {
     "name": "stderr",
     "output_type": "stream",
     "text": [
      "\r",
      " 74%|███████▍  | 74/100 [13:42<04:42, 10.86s/it]"
     ]
    },
    {
     "name": "stdout",
     "output_type": "stream",
     "text": [
      "saved detected/r_2_13.jpg\n",
      "Fit: 0.34800094418318983\n",
      "Fit: 0.3344326898792647\n",
      "Fit: 0.33075138630694184\n",
      "../data/ r_2_14.jpg\n"
     ]
    },
    {
     "name": "stderr",
     "output_type": "stream",
     "text": [
      "\r",
      " 75%|███████▌  | 75/100 [13:52<04:30, 10.80s/it]"
     ]
    },
    {
     "name": "stdout",
     "output_type": "stream",
     "text": [
      "saved detected/r_2_14.jpg\n",
      "Fit: 0.30663097321949534\n",
      "Fit: 0.3383874242370117\n",
      "Fit: 0.34497287406745963\n",
      "Fit: 0.35006253908692936\n",
      "../data/ r_2_15.jpg\n"
     ]
    },
    {
     "name": "stderr",
     "output_type": "stream",
     "text": [
      "\r",
      " 76%|███████▌  | 76/100 [14:02<04:14, 10.60s/it]"
     ]
    },
    {
     "name": "stdout",
     "output_type": "stream",
     "text": [
      "saved detected/r_2_15.jpg\n",
      "Fit: 0.30880451177126367\n",
      "../data/ r_2_16.jpg\n"
     ]
    },
    {
     "name": "stderr",
     "output_type": "stream",
     "text": [
      "\r",
      " 77%|███████▋  | 77/100 [14:12<03:59, 10.42s/it]"
     ]
    },
    {
     "name": "stdout",
     "output_type": "stream",
     "text": [
      "saved detected/r_2_16.jpg\n",
      "../data/ r_2_2.jpg\n"
     ]
    },
    {
     "name": "stderr",
     "output_type": "stream",
     "text": [
      "\r",
      " 78%|███████▊  | 78/100 [14:23<03:52, 10.56s/it]"
     ]
    },
    {
     "name": "stdout",
     "output_type": "stream",
     "text": [
      "saved detected/r_2_2.jpg\n",
      "Fit: 0.3212249983605482\n",
      "Fit: 0.36099989602467675\n",
      "../data/ r_2_3.jpg\n"
     ]
    },
    {
     "name": "stderr",
     "output_type": "stream",
     "text": [
      "\r",
      " 79%|███████▉  | 79/100 [14:34<03:43, 10.65s/it]"
     ]
    },
    {
     "name": "stdout",
     "output_type": "stream",
     "text": [
      "saved detected/r_2_3.jpg\n",
      "Fit: 0.3045904649485212\n",
      "Fit: 0.30310322096697206\n",
      "Fit: 0.3804330831769856\n",
      "../data/ r_2_31.jpg\n"
     ]
    },
    {
     "name": "stderr",
     "output_type": "stream",
     "text": [
      "\r",
      " 80%|████████  | 80/100 [14:44<03:30, 10.53s/it]"
     ]
    },
    {
     "name": "stdout",
     "output_type": "stream",
     "text": [
      "saved detected/r_2_31.jpg\n",
      "../data/ r_2_33.jpg\n"
     ]
    },
    {
     "name": "stderr",
     "output_type": "stream",
     "text": [
      "\r",
      " 81%|████████  | 81/100 [14:55<03:20, 10.57s/it]"
     ]
    },
    {
     "name": "stdout",
     "output_type": "stream",
     "text": [
      "saved detected/r_2_33.jpg\n",
      "Fit: 0.31069741611198104\n",
      "../data/ r_2_36.jpg\n"
     ]
    },
    {
     "name": "stderr",
     "output_type": "stream",
     "text": [
      "\r",
      " 82%|████████▏ | 82/100 [15:06<03:11, 10.63s/it]"
     ]
    },
    {
     "name": "stdout",
     "output_type": "stream",
     "text": [
      "saved detected/r_2_36.jpg\n",
      "Fit: 0.30109364319890636\n",
      "../data/ r_2_37.jpg\n"
     ]
    },
    {
     "name": "stderr",
     "output_type": "stream",
     "text": [
      "\r",
      " 83%|████████▎ | 83/100 [15:17<03:01, 10.65s/it]"
     ]
    },
    {
     "name": "stdout",
     "output_type": "stream",
     "text": [
      "saved detected/r_2_37.jpg\n",
      "Fit: 0.3215568233982556\n",
      "Fit: 0.2898009950248756\n",
      "../data/ r_2_38.jpg\n"
     ]
    },
    {
     "name": "stderr",
     "output_type": "stream",
     "text": [
      "\r",
      " 84%|████████▍ | 84/100 [15:27<02:50, 10.68s/it]"
     ]
    },
    {
     "name": "stdout",
     "output_type": "stream",
     "text": [
      "saved detected/r_2_38.jpg\n",
      "Fit: 0.315906057960031\n",
      "../data/ r_2_39.jpg\n"
     ]
    },
    {
     "name": "stderr",
     "output_type": "stream",
     "text": [
      "\r",
      " 85%|████████▌ | 85/100 [15:38<02:40, 10.73s/it]"
     ]
    },
    {
     "name": "stdout",
     "output_type": "stream",
     "text": [
      "saved detected/r_2_39.jpg\n",
      "Fit: 0.33123949530013297\n",
      "../data/ r_2_4.jpg\n"
     ]
    },
    {
     "name": "stderr",
     "output_type": "stream",
     "text": [
      "\r",
      " 86%|████████▌ | 86/100 [15:49<02:30, 10.78s/it]"
     ]
    },
    {
     "name": "stdout",
     "output_type": "stream",
     "text": [
      "saved detected/r_2_4.jpg\n",
      "Fit: 0.3073329847930352\n",
      "Fit: 0.43350851047140954\n",
      "../data/ r_2_40.jpg\n"
     ]
    },
    {
     "name": "stderr",
     "output_type": "stream",
     "text": [
      "\r",
      " 87%|████████▋ | 87/100 [16:00<02:20, 10.84s/it]"
     ]
    },
    {
     "name": "stdout",
     "output_type": "stream",
     "text": [
      "saved detected/r_2_40.jpg\n",
      "Fit: 0.2880462398373984\n",
      "Fit: 0.3460319368413756\n",
      "../data/ r_2_41.jpg\n"
     ]
    },
    {
     "name": "stderr",
     "output_type": "stream",
     "text": [
      "\r",
      " 88%|████████▊ | 88/100 [16:11<02:09, 10.81s/it]"
     ]
    },
    {
     "name": "stdout",
     "output_type": "stream",
     "text": [
      "saved detected/r_2_41.jpg\n",
      "Fit: 0.2937258836240161\n",
      "Fit: 0.393017445799458\n",
      "Fit: 0.28288745612749716\n",
      "../data/ r_2_42.jpg\n"
     ]
    },
    {
     "name": "stderr",
     "output_type": "stream",
     "text": [
      "\r",
      " 89%|████████▉ | 89/100 [16:21<01:57, 10.72s/it]"
     ]
    },
    {
     "name": "stdout",
     "output_type": "stream",
     "text": [
      "saved detected/r_2_42.jpg\n",
      "Fit: 0.3020640074211503\n",
      "../data/ r_2_43.jpg\n"
     ]
    },
    {
     "name": "stderr",
     "output_type": "stream",
     "text": [
      "\r",
      " 90%|█████████ | 90/100 [16:32<01:47, 10.76s/it]"
     ]
    },
    {
     "name": "stdout",
     "output_type": "stream",
     "text": [
      "saved detected/r_2_43.jpg\n",
      "Fit: 0.3851728863588446\n",
      "../data/ r_2_44.jpg\n"
     ]
    },
    {
     "name": "stderr",
     "output_type": "stream",
     "text": [
      "\r",
      " 91%|█████████ | 91/100 [16:43<01:36, 10.74s/it]"
     ]
    },
    {
     "name": "stdout",
     "output_type": "stream",
     "text": [
      "saved detected/r_2_44.jpg\n",
      "Fit: 0.3403281383409987\n",
      "../data/ r_2_45.jpg\n"
     ]
    },
    {
     "name": "stderr",
     "output_type": "stream",
     "text": [
      "\r",
      " 92%|█████████▏| 92/100 [16:54<01:27, 10.89s/it]"
     ]
    },
    {
     "name": "stdout",
     "output_type": "stream",
     "text": [
      "saved detected/r_2_45.jpg\n",
      "Fit: 0.3289096892871501\n",
      "../data/ r_2_46.jpg\n"
     ]
    },
    {
     "name": "stderr",
     "output_type": "stream",
     "text": [
      "\r",
      " 93%|█████████▎| 93/100 [17:05<01:15, 10.79s/it]"
     ]
    },
    {
     "name": "stdout",
     "output_type": "stream",
     "text": [
      "saved detected/r_2_46.jpg\n",
      "Fit: 0.32466216216216215\n",
      "../data/ r_2_47.jpg\n"
     ]
    },
    {
     "name": "stderr",
     "output_type": "stream",
     "text": [
      "\r",
      " 94%|█████████▍| 94/100 [17:15<01:04, 10.74s/it]"
     ]
    },
    {
     "name": "stdout",
     "output_type": "stream",
     "text": [
      "saved detected/r_2_47.jpg\n",
      "Fit: 0.35979253758499896\n",
      "Fit: 0.3126332627487648\n",
      "../data/ r_2_48.jpg\n"
     ]
    },
    {
     "name": "stderr",
     "output_type": "stream",
     "text": [
      "\r",
      " 95%|█████████▌| 95/100 [17:26<00:53, 10.73s/it]"
     ]
    },
    {
     "name": "stdout",
     "output_type": "stream",
     "text": [
      "saved detected/r_2_48.jpg\n",
      "Fit: 0.3542234695012473\n",
      "../data/ r_2_5.jpg\n"
     ]
    },
    {
     "name": "stderr",
     "output_type": "stream",
     "text": [
      "\r",
      " 96%|█████████▌| 96/100 [17:37<00:42, 10.73s/it]"
     ]
    },
    {
     "name": "stdout",
     "output_type": "stream",
     "text": [
      "saved detected/r_2_5.jpg\n",
      "Fit: 0.3514934322254185\n",
      "../data/ r_2_6.jpg\n"
     ]
    },
    {
     "name": "stderr",
     "output_type": "stream",
     "text": [
      "\r",
      " 97%|█████████▋| 97/100 [17:48<00:32, 10.76s/it]"
     ]
    },
    {
     "name": "stdout",
     "output_type": "stream",
     "text": [
      "saved detected/r_2_6.jpg\n",
      "Fit: 0.3383456796429086\n",
      "../data/ r_2_7.jpg\n"
     ]
    },
    {
     "name": "stderr",
     "output_type": "stream",
     "text": [
      "\r",
      " 98%|█████████▊| 98/100 [17:59<00:21, 10.89s/it]"
     ]
    },
    {
     "name": "stdout",
     "output_type": "stream",
     "text": [
      "saved detected/r_2_7.jpg\n",
      "Fit: 0.36953222049335377\n",
      "../data/ r_2_8.jpg\n"
     ]
    },
    {
     "name": "stderr",
     "output_type": "stream",
     "text": [
      "\r",
      " 99%|█████████▉| 99/100 [18:10<00:10, 10.86s/it]"
     ]
    },
    {
     "name": "stdout",
     "output_type": "stream",
     "text": [
      "saved detected/r_2_8.jpg\n",
      "Fit: 0.31309505435142104\n",
      "Fit: 0.34929279865561724\n",
      "../data/ r_2_9.jpg\n"
     ]
    },
    {
     "name": "stderr",
     "output_type": "stream",
     "text": [
      "100%|██████████| 100/100 [18:20<00:00, 11.01s/it]"
     ]
    },
    {
     "name": "stdout",
     "output_type": "stream",
     "text": [
      "saved detected/r_2_9.jpg\n",
      "Fit: 0.315284178187404\n",
      "Fit: 0.4120272150454482\n",
      " TPs: 87  FPs: 66  FNs: 107 F1 0.5014409221902018\n"
     ]
    },
    {
     "name": "stderr",
     "output_type": "stream",
     "text": [
      "\n"
     ]
    }
   ],
   "source": [
    "detect_on_dataset()\n",
    "evaluate()"
   ]
  }
 ],
 "metadata": {
  "kernelspec": {
   "display_name": "Python 3",
   "language": "python",
   "name": "python3"
  },
  "language_info": {
   "codemirror_mode": {
    "name": "ipython",
    "version": 3
   },
   "file_extension": ".py",
   "mimetype": "text/x-python",
   "name": "python",
   "nbconvert_exporter": "python",
   "pygments_lexer": "ipython3",
   "version": "3.6.9"
  }
 },
 "nbformat": 4,
 "nbformat_minor": 2
}
